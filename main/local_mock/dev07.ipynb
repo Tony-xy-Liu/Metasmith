{
 "cells": [
  {
   "cell_type": "markdown",
   "metadata": {},
   "source": [
    "- deploy via ssh\n",
    "- recieve job from local via ssh\n",
    "- obtain datainstances via globus\n",
    "- execute job\n",
    "- upload produced datainstances via globus\n",
    "- return globus paths (indexes/keys?)"
   ]
  },
  {
   "cell_type": "code",
   "execution_count": 1,
   "metadata": {},
   "outputs": [],
   "source": [
    "from pathlib import Path\n",
    "from metasmith.agents.presets import Agent, AGENT_SETUP_COMPLETE\n",
    "from metasmith.models.libraries import *\n",
    "from metasmith.models.remote import *"
   ]
  },
  {
   "cell_type": "code",
   "execution_count": 2,
   "metadata": {},
   "outputs": [
    {
     "data": {
      "text/plain": [
       "'64a5c402-05c4-4607-bbad-46a9c2aebd98'"
      ]
     },
     "execution_count": 2,
     "metadata": {},
     "output_type": "execute_result"
    }
   ],
   "source": [
    "globus = GlobusSource.Parse(\"https://app.globus.org/file-manager?destination_id=64a5c402-05c4-4607-bbad-46a9c2aebd98&destination_path=%2Fhome%2Ftxyliu%2Fscratch%2F\")\n",
    "sockeye_globus_endpoint = globus.endpoint\n",
    "sockeye_globus_endpoint"
   ]
  },
  {
   "cell_type": "code",
   "execution_count": 3,
   "metadata": {},
   "outputs": [],
   "source": [
    "# # todo: globus endpoint\n",
    "# agent = Agent(\n",
    "#     setup_commands=[\n",
    "#         \"ssh sockeye\",\n",
    "#         \"module load gcc/9.4.0 apptainer/1.3.1\",\n",
    "#         f'[ ! -z \"$SSH_CONNECTION\" ] && echo \"{AGENT_SETUP_COMPLETE}\"',\n",
    "#     ],\n",
    "#     cleanup_commands=[\n",
    "#         \"exit\",\n",
    "#     ],\n",
    "#     home=SshSource(host=\"sockeye\", path=\"~/scratch/metasmith\").AsSource(),\n",
    "# )\n",
    "# #     globus_endpoint=sockeye_globus_endpoint\n",
    "\n",
    "\n",
    "agent = Agent(\n",
    "    setup_commands=[\n",
    "        \"ssh cosmos\",\n",
    "        f'[ ! -z \"$SSH_CONNECTION\" ] && echo \"{AGENT_SETUP_COMPLETE}\"',\n",
    "    ],\n",
    "    cleanup_commands=[\n",
    "        \"exit\",\n",
    "    ],\n",
    "    home=SshSource(host=\"cosmos\", path=\"~/workspace/metasmith_home\").AsSource(),\n",
    ")\n",
    "\n",
    "# agent.Deploy()"
   ]
  },
  {
   "cell_type": "code",
   "execution_count": 4,
   "metadata": {},
   "outputs": [
    {
     "name": "stdout",
     "output_type": "stream",
     "text": [
      "<{data:DNA sequence,format:FASTA}:4M4PqXwA>\n",
      "<{data:software container,format:OCI,provides:diamond}:iGL288Xm>\n",
      "<{data:software container,format:OCI,provides:pprodigal}:90LdbjQO>\n",
      "<{data:Protein features,format:CSV}:kImyYZjD>\n",
      "<{data:Amino acid sequence,format:FASTA}:oF3YSVYQ>\n",
      "<{data:database reference,format:.dmnd}:VpPqsgy1>\n"
     ]
    }
   ],
   "source": [
    "from local.constants import WORKSPACE_ROOT\n",
    "from local.utils import LinkifyPath\n",
    "CACHE = WORKSPACE_ROOT/\"main/local_mock/cache/xgdb_tests\"\n",
    "\n",
    "types = DataTypeLibrary.Load(WORKSPACE_ROOT/\"main/local_mock/prototypes/metagenomics.dev3.yml\")\n",
    "for name, t in types:\n",
    "    print(t)"
   ]
  },
  {
   "cell_type": "code",
   "execution_count": 5,
   "metadata": {},
   "outputs": [
    {
     "name": "stdout",
     "output_type": "stream",
     "text": [
      "[PosixPath('contigs.fna')]\n",
      "[PosixPath('reference.uniprot_sprot.dmnd'), PosixPath('container.diamond.oci.uri'), PosixPath('container.pprodigal.oci.uri')]\n",
      "./../../main/local_mock/cache/xgdb_tests/ref.xgdb/_metadata/index.yml\n"
     ]
    }
   ],
   "source": [
    "xgdb_path = CACHE/\"test.xgdb\"\n",
    "refdb_path = CACHE/\"ref.xgdb\"\n",
    "xgdb = DataInstanceLibrary(xgdb_path)\n",
    "refdb = DataInstanceLibrary(refdb_path)\n",
    "xgdb.AddTypeLibrary(\"metagenomics\", types)\n",
    "added = xgdb.Add(\n",
    "    [\n",
    "        (Path(WORKSPACE_ROOT/\"scratch/test_ws/data/local/example.fna\"), \"contigs.fna\", \"metagenomics::contigs\"),\n",
    "    ],\n",
    ")\n",
    "print(added)\n",
    "refdb.AddTypeLibrary(\"metagenomics\", types)\n",
    "added = refdb.Add(\n",
    "    [\n",
    "        (WORKSPACE_ROOT/\"scratch/test_ws/data/local/uniprot_sprot.dmnd\", \"reference.uniprot_sprot.dmnd\", \"metagenomics::protein_reference_diamond\"),\n",
    "        (WORKSPACE_ROOT/\"scratch/test_ws/data/local/diamond.oci.uri\", \"container.diamond.oci.uri\", \"metagenomics::oci_image_diamond\"),\n",
    "        (WORKSPACE_ROOT/\"scratch/test_ws/data/local/pprodigal.oci.uri\", \"container.pprodigal.oci.uri\", \"metagenomics::oci_image_pprodigal\"),\n",
    "    ],\n",
    ")\n",
    "print(added)\n",
    "\n",
    "xgdb.Save()\n",
    "refdb.Save()\n",
    "LinkifyPath((refdb_path/refdb._path_to_meta)/(refdb._index_name+refdb._metadata_ext))\n",
    "# LinkifyPath(refdb_path/refdb._path_to_types)\n",
    "xgdb_local = DataInstanceLibrary.Load(xgdb_path)"
   ]
  },
  {
   "cell_type": "code",
   "execution_count": 6,
   "metadata": {},
   "outputs": [
    {
     "name": "stdout",
     "output_type": "stream",
     "text": [
      "transforms::transform {{\"data\":\"software container\"}-{\"format\":\"OCI\"}-{\"provides\":\"diamond\"}},{{\"data\":\"Amino acid sequence\"}-{\"format\":\"FASTA\"}},{{\"data\":\"database reference\"}-{\"format\":\".dmnd\"}}->{{\"data\":\"Protein features\"}-{\"format\":\"CSV\"}}\n",
      "transforms::transform {{\"data\":\"software container\"}-{\"format\":\"OCI\"}-{\"provides\":\"pprodigal\"}},{{\"data\":\"DNA sequence\"}-{\"format\":\"FASTA\"}}->{{\"data\":\"Amino acid sequence\"}-{\"format\":\"FASTA\"}}\n"
     ]
    }
   ],
   "source": [
    "trlib_path = \"./transforms/simple_1\"\n",
    "# trlib = TransformInstanceLibrary(trlib_path)\n",
    "# trlib.AddTypeLibrary(\"metagenomics\", types)\n",
    "# trlib.AddStub(\"diamond\", exist_ok=True)\n",
    "# trlib.AddStub(\"pprodigal\", exist_ok=True)\n",
    "# trlib.Save(update_types=True)\n",
    "trlib = TransformInstanceLibrary.Load(trlib_path)\n",
    "for path, name, tr in trlib.IterateTransforms():\n",
    "    print(name, tr.model)"
   ]
  },
  {
   "cell_type": "code",
   "execution_count": 7,
   "metadata": {},
   "outputs": [
    {
     "data": {
      "text/plain": [
       "'2602486c-1e0f-47a0-be15-eec1b0ff0f96'"
      ]
     },
     "execution_count": 7,
     "metadata": {},
     "output_type": "execute_result"
    }
   ],
   "source": [
    "gs = GlobusSource.Parse(\"https://app.globus.org/file-manager?origin_id=2602486c-1e0f-47a0-be15-eec1b0ff0f96&origin_path=%2FMetasmith%2Fglobus_test3%2Fxgdb%2F\")\n",
    "REMOTE_GLOBUS_ENDPOINT = gs.endpoint\n",
    "REMOTE_GLOBUS_ENDPOINT"
   ]
  },
  {
   "cell_type": "code",
   "execution_count": 8,
   "metadata": {},
   "outputs": [],
   "source": [
    "xgdb_remote_source = GlobusSource(\n",
    "    endpoint=REMOTE_GLOBUS_ENDPOINT,\n",
    "    path = \"/Metasmith/dev07\",\n",
    ").AsSource()\n",
    "\n",
    "# res = xgdb_local.SaveAs(dest=xgdb_remote_source, label=\"dev07_xgdb\")\n",
    "# for e in res.errors:\n",
    "#     print(e)\n",
    "# res.completed"
   ]
  },
  {
   "cell_type": "code",
   "execution_count": 9,
   "metadata": {},
   "outputs": [],
   "source": [
    "refdb_remote_source = GlobusSource(\n",
    "    endpoint=REMOTE_GLOBUS_ENDPOINT,\n",
    "    path = \"/Metasmith/dev07.ref\",\n",
    ").AsSource()\n",
    "\n",
    "# res = refdb.SaveAs(dest=refdb_remote_source, label=\"dev07_refdb\")\n",
    "# for e in res.errors:\n",
    "#     print(e)\n",
    "# res.completed"
   ]
  },
  {
   "cell_type": "code",
   "execution_count": 10,
   "metadata": {},
   "outputs": [
    {
     "name": "stdout",
     "output_type": "stream",
     "text": [
      "metagenomics::orfs_faa\n",
      "metagenomics::orf_annotations\n",
      "pprodigal\n",
      "    (D:{\"data\":\"software container\"}-{\"format\":\"OCI\"}-{\"provides\":\"pprodigal\"})\n",
      "    (D:{\"data\":\"DNA sequence\"}-{\"format\":\"FASTA\"})\n",
      "    v\n",
      "    (D:{\"data\":\"Amino acid sequence\"}-{\"format\":\"FASTA\"})\n",
      "diamond\n",
      "    (D:{\"data\":\"software container\"}-{\"format\":\"OCI\"}-{\"provides\":\"diamond\"})\n",
      "    (D:{\"data\":\"Amino acid sequence\"}-{\"format\":\"FASTA\"})\n",
      "    (D:{\"data\":\"database reference\"}-{\"format\":\".dmnd\"})\n",
      "    v\n",
      "    (D:{\"data\":\"Protein features\"}-{\"format\":\"CSV\"})\n"
     ]
    }
   ],
   "source": [
    "from metasmith.models.workflow import WorkflowPlan\n",
    "\n",
    "plan = WorkflowPlan.Generate(\n",
    "    given=[xgdb, refdb],\n",
    "    transforms=[trlib],\n",
    "    targets=[\n",
    "        types[\"orf_annotations\"].WithLineage([\n",
    "            types[\"contigs\"],\n",
    "            # xgdb[\"example.fna\"].type,\n",
    "        ]),\n",
    "    ],\n",
    ")\n",
    "\n",
    "for step in plan.steps:\n",
    "    step_path = Path(step.transform.name)\n",
    "    model = step.transform.model\n",
    "    print(f\"{step_path.stem}\")\n",
    "    for x in model.requires:\n",
    "        print(f\"    {x}\")\n",
    "    print(\"    v\")\n",
    "    for x in model.produces:\n",
    "        print(f\"    {x}\")\n",
    "    # print([f\"{x.source}\" for x in step.uses], [f\"{x.source}\" for x in step.produces], sep=\"->\")\n",
    "    # LinkifyPath(step.transform._source.address)"
   ]
  },
  {
   "cell_type": "code",
   "execution_count": 11,
   "metadata": {},
   "outputs": [],
   "source": [
    "from metasmith.coms.ipc import LiveShell\n",
    "from metasmith.logging import Log\n",
    "from tempfile import TemporaryDirectory\n",
    "\n",
    "from metasmith.models.remote import SshSource\n",
    "from metasmith.models.workflow import WorkflowTask"
   ]
  },
  {
   "cell_type": "code",
   "execution_count": 12,
   "metadata": {},
   "outputs": [],
   "source": [
    "with open(WORKSPACE_ROOT/\"secrets/slurm_account\") as f:\n",
    "    slurm_account = f.read().strip()\n",
    "\n",
    "local_task_path = WORKSPACE_ROOT/\"main/local_mock/cache/xgdb_tests/task\"\n",
    "\n",
    "# send task & plan\n",
    "task = WorkflowTask(\n",
    "    plan=plan,\n",
    "    agent=agent,\n",
    "    data_libraries=[xgdb, refdb],\n",
    "    transform_libraries=[trlib],\n",
    "    config=dict(\n",
    "        nextflow=dict(\n",
    "            preset=\"default\",\n",
    "            # slurm_account=slurm_account,\n",
    "        ),\n",
    "    ),\n",
    ")\n",
    "# task.SaveAs(Source.FromLocal(local_task_path))"
   ]
  },
  {
   "cell_type": "code",
   "execution_count": 13,
   "metadata": {},
   "outputs": [
    {
     "name": "stdout",
     "output_type": "stream",
     "text": [
      "pprodigal\n",
      "    container.pprodigal.oci.uri as metagenomics::oci_image_pprodigal\n",
      "    contigs.fna as metagenomics::contigs\n",
      "    v\n",
      "    orfs.faa as metagenomics::orfs_faa\n",
      "diamond\n",
      "    container.diamond.oci.uri as metagenomics::oci_image_diamond\n",
      "    orfs.faa as metagenomics::orfs_faa\n",
      "    reference.uniprot_sprot.dmnd as metagenomics::protein_reference_diamond\n",
      "    v\n",
      "    annotations.csv as metagenomics::orf_annotations\n"
     ]
    }
   ],
   "source": [
    "local_task = WorkflowTask.Load(local_task_path)\n",
    "\n",
    "for step in local_task.plan.steps:\n",
    "    step_path = Path(step.transform.name)\n",
    "    model = step.transform.model\n",
    "    print(f\"{step_path.stem}\")\n",
    "    for x in step.uses:\n",
    "        print(f\"    {x.path} as {x.dtype_name}\")\n",
    "    print(\"    v\")\n",
    "    for x in step.produces:\n",
    "        print(f\"    {x.path} as {x.dtype_name}\")\n"
   ]
  },
  {
   "cell_type": "code",
   "execution_count": 14,
   "metadata": {},
   "outputs": [
    {
     "name": "stdout",
     "output_type": "stream",
     "text": [
      "nZ6eA\n"
     ]
    }
   ],
   "source": [
    "print(plan._key)"
   ]
  },
  {
   "cell_type": "code",
   "execution_count": 15,
   "metadata": {},
   "outputs": [],
   "source": [
    "remote_cache = agent.home.GetPath()/f\"tmp/{plan._key}\"\n",
    "# res = task.SaveAs(agent.home.WithPath(remote_cache))\n",
    "# res.completed"
   ]
  },
  {
   "cell_type": "code",
   "execution_count": 16,
   "metadata": {},
   "outputs": [
    {
     "name": "stdout",
     "output_type": "stream",
     "text": [
      "R| Pseudo-terminal will not be allocated because stdin is not a terminal.\n"
     ]
    },
    {
     "name": "stdout",
     "output_type": "stream",
     "text": [
      "R| Welcome to Ubuntu 22.04.3 LTS (GNU/Linux 5.15.167.4-microsoft-standard-WSL2 x86_64)\n",
      "R|  * Documentation:  https://help.ubuntu.com\n",
      "R|  * Management:     https://landscape.canonical.com\n",
      "R|  * Support:        https://ubuntu.com/advantage\n",
      "R|  * Strictly confined Kubernetes makes edge and IoT secure. Learn how MicroK8s\n",
      "R|    just raised the bar for easy, resilient and secure K8s cluster deployment.\n",
      "R|    https://ubuntu.com/engage/secure-kubernetes-at-the-edge\n",
      "R| setup_complete.1FQfCxG4\n",
      "2025-03-05_17-33-13  | making destination cache at [~/workspace/metasmith_home/tmp/nZ6eA]\n",
      "2025-03-05_17-33-14  | starting relay service\n",
      "R| 2025-03-05_17-33-15 E| relay server already running in [relay/connections]\n",
      "2025-03-05_17-33-14  | calling stage\n",
      "R| 2025-03-05_17-33-15  | api call to [stage_workflow] with [{'task_dir': '/home/tony/workspace/metasmith_home/tmp/nZ6eA', 'force': 'True'}]\n",
      "R| 2025-03-05_17-33-15  | staging workflow [nZ6eA] with [4] given data instances\n",
      "R| 2025-03-05_17-33-15  | already staged at [/ws/runs/nZ6eA]\n",
      "R| 2025-03-05_17-33-15  | removing previous\n",
      "R| 2025-03-05_17-33-16  | ex| /home/tony/workspace/metasmith_home\n",
      "R| 2025-03-05_17-33-16  | work [/ws/runs/nZ6eA]\n",
      "R| 2025-03-05_17-33-16  | data [/ws/data]\n",
      "R| 2025-03-05_17-33-16  | external work [/home/tony/workspace/metasmith_home/runs/nZ6eA]\n",
      "R| 2025-03-05_17-33-16  | external data [/home/tony/workspace/metasmith_home/data]\n",
      "R| 2025-03-05_17-33-17  | additional params:\n",
      "R| 2025-03-05_17-33-17  |     nextflow:\n",
      "R| 2025-03-05_17-33-17  |       preset: default\n",
      "R| 2025-03-05_17-33-17  |     \n",
      "R| 2025-03-05_17-33-17  | [nZ6eA] staged to [/ws/runs/nZ6eA]\n",
      "2025-03-05_17-33-17  | calling execute\n",
      "R| 2025-03-05_17-33-19  | api call to [execute_workflow] with [{'key': 'nZ6eA'}]\n",
      "R| 2025-03-05_17-33-19  | executing workflow [nZ6eA] with [2] steps\n",
      "R| 2025-03-05_17-33-19  | connecting to relay for external shell\n",
      "R| 2025-03-05_17-33-19  | calling nextflow\n",
      "\u001b[K2025-03-05_17-33-21  | Downloading nextflow dependencies. It may require a few seconds, please wait .. \n",
      "R| 2025-03-05_17-33-21  | \u001b[1m\u001b[38;5;232m\u001b[48;5;43m N E X T F L O W \u001b[0;2m  ~  \u001b[mversion 24.10.5\u001b[m\n",
      "R| 2025-03-05_17-33-21  | \u001b[K\n",
      "R| 2025-03-05_17-33-21  | WARN: It appears you have never run this project before -- Option `-resume` is ignored\n",
      "R| 2025-03-05_17-33-21  | Launching\u001b[35m `./workflow.nf` \u001b[0;2m[\u001b[0;1;36mmighty_dubinsky\u001b[0;2m] DSL2 - \u001b[36mrevision: \u001b[0;36mba8cbb183c\u001b[m\n",
      "R| 2025-03-05_17-33-21  | \u001b[K\n",
      "R| 2025-03-05_17-33-21  | \u001b[2mexecutor >  local (1)\u001b[m\u001b[K\n",
      "R| 2025-03-05_17-33-21  | \u001b[2m[\u001b[0;34m5a/3c007c\u001b[0;2m] \u001b[0;2m\u001b[mpprodigal__zgz5x1IB\u001b[33;2m (\u001b[0;33m1\u001b[2m)\u001b[m\u001b[2m |\u001b[m 0 of 1\u001b[K\n",
      "R| 2025-03-05_17-33-21  | \u001b[2m[\u001b[0;34m-        \u001b[0;2m] \u001b[0;2m\u001b[mdiamond__lnNJuDqG       -\u001b[K\n",
      "R| 2025-03-05_17-33-22  | \u001b[4A\n",
      "R| 2025-03-05_17-33-22  | \u001b[2mexecutor >  local (1)\u001b[m\u001b[K\n",
      "R| 2025-03-05_17-33-22  | \u001b[2m[\u001b[0;34m5a/3c007c\u001b[0;2m] \u001b[0;2m\u001b[mpprodigal__zgz5x1IB\u001b[33;2m (\u001b[0;33m1\u001b[2m)\u001b[m\u001b[2m |\u001b[m 0 of 1\u001b[K\n",
      "R| 2025-03-05_17-33-22  | \u001b[2m[\u001b[0;34m-        \u001b[0;2m] \u001b[0;2m\u001b[mdiamond__lnNJuDqG       -\u001b[K\n",
      "R| 2025-03-05_17-33-27  | \u001b[4A\n",
      "R| 2025-03-05_17-33-27  | \u001b[2mexecutor >  local (2)\u001b[m\u001b[K\n",
      "R| 2025-03-05_17-33-27  | \u001b[2m[\u001b[0;34m5a/3c007c\u001b[0;2m] \u001b[0;2m\u001b[mpprodigal__zgz5x1IB\u001b[33;2m (\u001b[0;33m1\u001b[2m)\u001b[m\u001b[2m |\u001b[m 1 of 1\u001b[32m ✔\u001b[m\u001b[K\n",
      "R| 2025-03-05_17-33-27  | \u001b[2m[\u001b[0;34mb5/845e8d\u001b[0;2m] \u001b[0;2m\u001b[mdiamond__lnNJuDqG\u001b[33;2m (\u001b[0;33m1\u001b[2m)\u001b[m  \u001b[2m |\u001b[m 0 of 1\u001b[K\n",
      "R| 2025-03-05_17-33-27  | \u001b[4A\n",
      "R| 2025-03-05_17-33-27  | \u001b[2mexecutor >  local (2)\u001b[m\u001b[K\n",
      "R| 2025-03-05_17-33-27  | \u001b[2m[\u001b[0;34m5a/3c007c\u001b[0;2m] \u001b[0;2m\u001b[mpprodigal__zgz5x1IB\u001b[33;2m (\u001b[0;33m1\u001b[2m)\u001b[m\u001b[2m |\u001b[m 1 of 1\u001b[32m ✔\u001b[m\u001b[K\n",
      "R| 2025-03-05_17-33-27  | \u001b[2m[\u001b[0;34mb5/845e8d\u001b[0;2m] \u001b[0;2m\u001b[mdiamond__lnNJuDqG\u001b[33;2m (\u001b[0;33m1\u001b[2m)\u001b[m  \u001b[2m |\u001b[m 0 of 1\u001b[K\n",
      "R| 2025-03-05_17-33-31  | \u001b[4A\n",
      "R| 2025-03-05_17-33-31  | \u001b[2mexecutor >  local (2)\u001b[m\u001b[K\n",
      "R| 2025-03-05_17-33-31  | \u001b[2m[\u001b[0;34m5a/3c007c\u001b[0;2m] \u001b[0;2m\u001b[mpprodigal__zgz5x1IB\u001b[33;2m (\u001b[0;33m1\u001b[2m)\u001b[m\u001b[2m |\u001b[m 1 of 1\u001b[32m ✔\u001b[m\u001b[K\n",
      "R| 2025-03-05_17-33-31  | \u001b[2m[\u001b[0;34mb5/845e8d\u001b[0;2m] \u001b[0;2m\u001b[mdiamond__lnNJuDqG\u001b[33;2m (\u001b[0;33m1\u001b[2m)\u001b[m  \u001b[2m |\u001b[m 1 of 1\u001b[32m ✔\u001b[m\u001b[K\n",
      "R| 2025-03-05_17-33-31  | \n"
     ]
    }
   ],
   "source": [
    "local_temp = Path(\"./cache/mock_temp/\")\n",
    "with LiveShell() as sh_local, LiveShell() as sh_remote:\n",
    "    local_temp = Path(local_temp)\n",
    "    sh_local.RegisterOnOut(lambda x: Log.Info(f\"{x}\"))\n",
    "    sh_local.RegisterOnErr(lambda x: Log.Error(f\"{x}\"))\n",
    "    sh_remote.RegisterOnOut(lambda x: print(f\"R| {x}\"))\n",
    "    sh_remote.RegisterOnErr(lambda x: print(f\"R| {x}\"))\n",
    "    # remote_cache = Path(f\"/tmp/metasmith.{plan._key}\")\n",
    "\n",
    "    # connect and prepare remote\n",
    "    agent.RunSetup(sh_remote)\n",
    "    Log.Info(f\"making destination cache at [{remote_cache}]\")\n",
    "    # sh_remote.Exec(f\"[ -e {remote_cache} ] && rm -rf {remote_cache}\")\n",
    "    sh_remote.Exec(f\"mkdir -p {remote_cache} && cd {agent.home.GetPath()}\")\n",
    "    Log.Info(f\"starting relay service\")\n",
    "    sh_remote.Exec(f\"./relay/msm_relay start\")\n",
    "    \n",
    "    Log.Info(f\"calling stage\")\n",
    "    sh_remote.Exec(f'./msm api stage_workflow -a task_dir={remote_cache} -a force=True') # this is ok because /tmp is mounted\n",
    "    Log.Info(f\"calling execute\")\n",
    "    sh_remote.Exec(f'./msm api execute_workflow -a key={plan._key}')\n",
    "\n",
    "    # sh_remote.Exec(f\"rm -rf {remote_cache}\")\n",
    "    # sh_remote.Exec(f\"{agent.home}/relay/msm_relay stop\")\n",
    "    agent.RunCleanup(sh_remote)"
   ]
  }
 ],
 "metadata": {
  "kernelspec": {
   "display_name": "msm",
   "language": "python",
   "name": "python3"
  },
  "language_info": {
   "codemirror_mode": {
    "name": "ipython",
    "version": 3
   },
   "file_extension": ".py",
   "mimetype": "text/x-python",
   "name": "python",
   "nbconvert_exporter": "python",
   "pygments_lexer": "ipython3",
   "version": "3.12.8"
  }
 },
 "nbformat": 4,
 "nbformat_minor": 2
}
