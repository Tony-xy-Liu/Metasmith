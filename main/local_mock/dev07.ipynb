{
 "cells": [
  {
   "cell_type": "markdown",
   "metadata": {},
   "source": [
    "- deploy via ssh\n",
    "- recieve job from local via ssh\n",
    "- obtain datainstances via globus\n",
    "- execute job\n",
    "- upload produced datainstances via globus\n",
    "- return globus paths (indexes/keys?)"
   ]
  },
  {
   "cell_type": "code",
   "execution_count": 1,
   "metadata": {},
   "outputs": [],
   "source": [
    "from pathlib import Path\n",
    "from metasmith.agents.ssh import Agent\n",
    "from metasmith.models.libraries import *"
   ]
  },
  {
   "cell_type": "code",
   "execution_count": 2,
   "metadata": {},
   "outputs": [
    {
     "data": {
      "text/plain": [
       "'64a5c402-05c4-4607-bbad-46a9c2aebd98'"
      ]
     },
     "execution_count": 2,
     "metadata": {},
     "output_type": "execute_result"
    }
   ],
   "source": [
    "globus = GlobusSource.Parse(\"https://app.globus.org/file-manager?destination_id=64a5c402-05c4-4607-bbad-46a9c2aebd98&destination_path=%2Fhome%2Ftxyliu%2Fscratch%2F\")\n",
    "sockeye_globus_endpoint = globus.endpoint\n",
    "sockeye_globus_endpoint"
   ]
  },
  {
   "cell_type": "code",
   "execution_count": 3,
   "metadata": {},
   "outputs": [],
   "source": [
    "agent = Agent(\n",
    "    ssh_command='ssh sockeye',\n",
    "    ssh_address='sockeye',\n",
    "    pre = f\"\"\"\\\n",
    "        module load gcc/9.4.0 apptainer/1.3.1\n",
    "    \"\"\",\n",
    "    home='~/scratch/metasmith',\n",
    "    globus_endpoint=sockeye_globus_endpoint\n",
    ")\n",
    "\n",
    "# agent = Agent(\n",
    "#     ssh_command='ssh cedar',\n",
    "#     ssh_address='cedar',\n",
    "#     pre = f\"\"\"\\\n",
    "#         module load StdEnv/2023 apptainer/1.3.5\n",
    "#     \"\"\",\n",
    "#     home='~/metasmith',\n",
    "#     workspace='~/scratch/metasmith',\n",
    "# )\n",
    "\n",
    "# agent.Deploy()"
   ]
  },
  {
   "cell_type": "code",
   "execution_count": 4,
   "metadata": {},
   "outputs": [
    {
     "data": {
      "text/plain": [
       "6"
      ]
     },
     "execution_count": 4,
     "metadata": {},
     "output_type": "execute_result"
    }
   ],
   "source": [
    "from local.constants import WORKSPACE_ROOT\n",
    "from local.utils import LinkifyPath\n",
    "CACHE = WORKSPACE_ROOT/\"main/local_mock/cache\"\n",
    "\n",
    "types = DataTypeLibrary.Load(WORKSPACE_ROOT/\"main/local_mock/prototypes/metagenomics.dev3.yml\")\n",
    "len(types)"
   ]
  },
  {
   "cell_type": "code",
   "execution_count": 5,
   "metadata": {},
   "outputs": [
    {
     "name": "stdout",
     "output_type": "stream",
     "text": [
      "./../../main/local_mock/cache/test.xgdb/info.yml\n",
      "./../../main/local_mock/cache/ref.xgdb/info.yml\n"
     ]
    }
   ],
   "source": [
    "xgdb_path = CACHE/\"test.xgdb\"\n",
    "refdb_path = CACHE/\"ref.xgdb\"\n",
    "_xgdb = DataInstanceLibrary()\n",
    "refdb = DataInstanceLibrary()\n",
    "_xgdb.Add(\n",
    "    name=\"contigs\",\n",
    "    source=Source(WORKSPACE_ROOT/\"scratch/test_ws/data/local/example.fna\"),\n",
    "    type=types[\"contigs\"],\n",
    ")\n",
    "refdb.Add(\n",
    "    name=\"reference.uniprot_sprot\",\n",
    "    source=Source(WORKSPACE_ROOT/\"scratch/test_ws/data/local/uniprot_sprot.dmnd\"),\n",
    "    type=types[\"protein_reference_diamond\"],\n",
    ")\n",
    "refdb.Add(\n",
    "    name=\"container.diamond\",\n",
    "    source=Source(WORKSPACE_ROOT/\"scratch/test_ws/data/local/diamond.oci.uri\"),\n",
    "    type=types[\"oci_image_diamond\"],\n",
    ")\n",
    "refdb.Add(\n",
    "    name=\"container.pprodigal\",\n",
    "    source=Source(WORKSPACE_ROOT/\"scratch/test_ws/data/local/pprodigal.oci.uri\"),\n",
    "    type=types[\"oci_image_pprodigal\"],\n",
    ")\n",
    "_xgdb.Save(xgdb_path)\n",
    "refdb.Save(refdb_path)\n",
    "LinkifyPath(xgdb_path/_xgdb._index_name)\n",
    "LinkifyPath(refdb_path/refdb._index_name)\n",
    "xgdb = DataInstanceLibrary.Load(xgdb_path)"
   ]
  },
  {
   "cell_type": "code",
   "execution_count": 6,
   "metadata": {},
   "outputs": [
    {
     "name": "stdout",
     "output_type": "stream",
     "text": [
      "./../../main/local_mock/cache/testg.xgdb.yml\n",
      "./../../main/local_mock/cache/testg.refdb.yml\n"
     ]
    }
   ],
   "source": [
    "xgdb_g_path = CACHE/\"testg.xgdb.yml\"\n",
    "refdb_g_path = CACHE/\"testg.refdb.yml\"\n",
    "\n",
    "if not xgdb_g_path.exists():\n",
    "    xgdb_g, mover = xgdb.PrepareMove(\n",
    "        dest=GlobusSource.Parse(\"https://app.globus.org/file-manager?origin_id=2602486c-1e0f-47a0-be15-eec1b0ff0f96&origin_path=%2FMetasmith%2Fglobus_test3%2Fxgdb%2F\").AsSource(),\n",
    "    )\n",
    "    mover.ExecuteTransfers()\n",
    "    xgdb_g.Save(xgdb_g_path)\n",
    "if not refdb_g_path.exists():\n",
    "    refdb_g, mover = refdb.PrepareMove(\n",
    "        dest=GlobusSource.Parse(\"https://app.globus.org/file-manager?origin_id=2602486c-1e0f-47a0-be15-eec1b0ff0f96&origin_path=%2FMetasmith%2Fglobus_test3%2Frefdb%2F\").AsSource(),\n",
    "    )\n",
    "    mover.ExecuteTransfers()\n",
    "    refdb_g.Save(refdb_g_path)\n",
    "\n",
    "xgdb_g = DataInstanceLibrary.Load(xgdb_g_path)\n",
    "refdb_g = DataInstanceLibrary.Load(refdb_g_path)\n",
    "LinkifyPath(xgdb_g_path)\n",
    "LinkifyPath(refdb_g_path)"
   ]
  },
  {
   "cell_type": "code",
   "execution_count": 7,
   "metadata": {},
   "outputs": [
    {
     "data": {
      "text/plain": [
       "'64a5c402-05c4-4607-bbad-46a9c2aebd98'"
      ]
     },
     "execution_count": 7,
     "metadata": {},
     "output_type": "execute_result"
    }
   ],
   "source": [
    "GlobusSource.Parse(\"https://app.globus.org/file-manager?destination_id=64a5c402-05c4-4607-bbad-46a9c2aebd98&destination_path=%2Fhome%2Ftxyliu%2F\").endpoint"
   ]
  },
  {
   "cell_type": "code",
   "execution_count": 8,
   "metadata": {},
   "outputs": [
    {
     "name": "stdout",
     "output_type": "stream",
     "text": [
      "diamond.py <class 'metasmith.models.libraries.TransformInstance'>\n",
      "pprodigal.py <class 'metasmith.models.libraries.TransformInstance'>\n"
     ]
    }
   ],
   "source": [
    "trlib = TransformInstanceLibrary.Load([\n",
    "    Path(\"./transforms/simple_1\"),\n",
    "    # Path(\"./transforms/dupe_test\"),\n",
    "])\n",
    "for k, v in trlib:\n",
    "    print(k.name, type(v))"
   ]
  },
  {
   "cell_type": "code",
   "execution_count": 9,
   "metadata": {},
   "outputs": [
    {
     "name": "stdout",
     "output_type": "stream",
     "text": [
      "pprodigal\n",
      "    (D:{\"data\":\"software container\"}-{\"format\":\"OCI\"}-{\"provides\":[\"pprodigal\"]})\n",
      "    (D:{\"data\":\"DNA sequence\"}-{\"format\":\"FASTA\"})\n",
      "    v\n",
      "    (D:{\"data\":\"Amino acid sequence\"}-{\"format\":\"FASTA\"})\n",
      "diamond\n",
      "    (D:{\"data\":\"software container\"}-{\"format\":\"OCI\"}-{\"provides\":[\"diamond\"]})\n",
      "    (D:{\"data\":\"Amino acid sequence\"}-{\"format\":\"FASTA\"})\n",
      "    (D:{\"data\":\"database reference\"}-{\"format\":\".dmnd\"})\n",
      "    v\n",
      "    (D:{\"data\":\"Protein features\"}-{\"format\":\"CSV\"})\n"
     ]
    }
   ],
   "source": [
    "from metasmith.models.workflow import WorkflowPlan\n",
    "\n",
    "plan = WorkflowPlan.Generate(\n",
    "    given=[xgdb_g, refdb_g],\n",
    "    transforms=trlib,\n",
    "    targets=[\n",
    "        types[\"orf_annotations\"].WithLineage([\n",
    "            types[\"contigs\"],\n",
    "            # xgdb[\"example.fna\"].type,\n",
    "        ]),\n",
    "    ],\n",
    ")\n",
    "\n",
    "for step in plan.steps:\n",
    "    step_path = Path(step.transform._source.address)\n",
    "    model = step.transform.model\n",
    "    print(f\"{step_path.stem}\")\n",
    "    for x in model.requires:\n",
    "        print(f\"    {x}\")\n",
    "    print(\"    v\")\n",
    "    for x in model.produces:\n",
    "        print(f\"    {x}\")\n",
    "    # print([f\"{x.source}\" for x in step.uses], [f\"{x.source}\" for x in step.produces], sep=\"->\")\n",
    "    # LinkifyPath(step.transform._source.address)"
   ]
  },
  {
   "cell_type": "code",
   "execution_count": 10,
   "metadata": {},
   "outputs": [
    {
     "data": {
      "text/plain": [
       "'VLr5Nw'"
      ]
     },
     "execution_count": 10,
     "metadata": {},
     "output_type": "execute_result"
    }
   ],
   "source": [
    "plan._key"
   ]
  },
  {
   "cell_type": "code",
   "execution_count": 11,
   "metadata": {},
   "outputs": [
    {
     "name": "stdout",
     "output_type": "stream",
     "text": [
      "2025-02-21_17-52-15  | starting [3] transfers\n",
      "2025-02-21_17-52-15  | executing [3] local transfers\n",
      "2025-02-21_17-52-16  | attempted [3] transfers\n",
      "2025-02-21_17-52-16  | establishing ssh via [ssh sockeye]\n",
      "R| Pseudo-terminal will not be allocated because stdin is not a terminal.\n",
      "2025-02-21_17-52-17  | runnning setup commands:\n",
      "2025-02-21_17-52-17  |     module load gcc/9.4.0 apptainer/1.3.1\n",
      "2025-02-21_17-52-18  | making destination cache at [/tmp/metasmith.VLr5Nw]\n",
      "2025-02-21_17-52-18  | starting relay service\n",
      "R| 2025-02-21_17-52-18 E| relay server already running in [relay/connections]\n",
      "2025-02-21_17-52-19  | sending task [cache/mock_temp/plan.json] to [sockeye:/tmp/metasmith.VLr5Nw/plan.json]\n",
      "2025-02-21_17-52-20  | sending incremental file list\n",
      "2025-02-21_17-52-20  | plan.json\n",
      "2025-02-21_17-52-20  | sent 7,749 bytes  received 35 bytes  5,189.33 bytes/sec\n",
      "2025-02-21_17-52-20  | total size is 7,625  speedup is 0.98\n",
      "2025-02-21_17-52-20  | sending transforms [cache/mock_temp/transforms.lib] to [sockeye:/tmp/metasmith.VLr5Nw/transforms.lib]\n",
      "2025-02-21_17-52-20  | sending incremental file list\n",
      "2025-02-21_17-52-20  | created directory /tmp/metasmith.VLr5Nw/transforms.lib\n",
      "2025-02-21_17-52-20  | ./\n",
      "2025-02-21_17-52-20  | diamond.py\n",
      "2025-02-21_17-52-20  | pprodigal.py\n",
      "2025-02-21_17-52-20  | _type_libraries/\n",
      "2025-02-21_17-52-20  | _type_libraries/_aliases.yml\n",
      "2025-02-21_17-52-20  | _type_libraries/metagenomics.dev3.yml\n",
      "2025-02-21_17-52-20  | sent 2,805 bytes  received 166 bytes  5,942.00 bytes/sec\n",
      "2025-02-21_17-52-20  | total size is 2,336  speedup is 0.79\n",
      "2025-02-21_17-52-20  | calling stage\n",
      "R| INFO:    squashfuse not found, will not be able to use gocryptfs\n",
      "R| INFO:    gocryptfs not found, will not be able to use gocryptfs\n",
      "R| 2025-02-21_17-52-27  | api call to [stage_workflow] with [{'plan_dir': '/tmp/metasmith.VLr5Nw', 'force': 'True'}]\n",
      "R| 2025-02-21_17-52-27  | staging workflow [VLr5Nw] with [4] given data instances\n",
      "R| 2025-02-21_17-52-27  | already staged at [/ws/runs/VLr5Nw]\n",
      "R| 2025-02-21_17-52-27  | removing previous\n",
      "R| 2025-02-21_17-52-28  | ex| /scratch/st-shallam-1/pwy_group/metasmith\n",
      "R| 2025-02-21_17-52-28  | work [/ws/runs/VLr5Nw]\n",
      "R| 2025-02-21_17-52-28  | data [/ws/data]\n",
      "R| 2025-02-21_17-52-28  | external work [/scratch/st-shallam-1/pwy_group/metasmith/runs/VLr5Nw]\n",
      "R| 2025-02-21_17-52-28  | external data [/scratch/st-shallam-1/pwy_group/metasmith/data]\n",
      "R| 2025-02-21_17-52-28  | staging plan [/tmp/metasmith.VLr5Nw/plan.json] to [/ws/runs/VLr5Nw/metasmith]\n",
      "R| 2025-02-21_17-52-28  | staging bootstrap [/msm_home/lib/msm_bootstrap] to [/ws/runs/VLr5Nw/metasmith/msm_bootstrap]\n",
      "R| 2025-02-21_17-52-28  | staging transforms [/tmp/metasmith.VLr5Nw/transforms.lib] to [/ws/runs/VLr5Nw/metasmith/transforms.lib]\n",
      "R| 2025-02-21_17-52-28  | starting [4] transfers\n",
      "R| 2025-02-21_17-52-28  | executing globus batch of [4] for [2602486c-1e0f-47a0-be15-eec1b0ff0f96] -> [64a5c402-05c4-4607-bbad-46a9c2aebd98]\n",
      "R| 2025-02-21_17-52-28  | [/Metasmith/globus_test3/xgdb/example.msm_sbq72Lgs35k6.fna] -> [/scratch/st-shallam-1/pwy_group/metasmith/data/56yRzLGzCQes]\n",
      "R| 2025-02-21_17-52-28  | [/Metasmith/globus_test3/refdb/diamond.oci.msm_eqLcckPvXFTB.uri] -> [/scratch/st-shallam-1/pwy_group/metasmith/data/moz2z9kmeP0w]\n",
      "R| 2025-02-21_17-52-28  | [/Metasmith/globus_test3/refdb/pprodigal.oci.msm_DaORQPNcOLWU.uri] -> [/scratch/st-shallam-1/pwy_group/metasmith/data/JLaqxG6izrKv]\n",
      "R| 2025-02-21_17-52-28  | [/Metasmith/globus_test3/refdb/uniprot_sprot.msm_LeKhpJ5OZPOx.dmnd] -> [/scratch/st-shallam-1/pwy_group/metasmith/data/BuekRtZ0H8YA]\n",
      "R| 2025-02-21_17-52-32  | Message: The transfer has been accepted and a task has been created and queued for execution\n",
      "R| 2025-02-21_17-52-32  | Task ID: adffe0c8-f0bf-11ef-b247-0e26ca329435\n",
      "R| 2025-02-21_17-52-33  | awaiting [1] globus transfers\n",
      "R| 2025-02-21_17-52-40  | attempted [4] transfers\n",
      "R| 2025-02-21_17-52-40  | already staged [/scratch/st-shallam-1/pwy_group/metasmith/data/56yRzLGzCQes]\n",
      "R| Traceback (most recent call last):\n",
      "R|   File \"/opt/conda/envs/metasmith_env/bin/metasmith\", line 8, in <module>\n",
      "R|     sys.exit(main())\n",
      "R|              ^^^^^^\n",
      "R|   File \"/opt/conda/envs/metasmith_env/lib/python3.12/site-packages/metasmith/coms/cli.py\", line 92, in main\n",
      "R|     COMMANDS.get(# calls command function with args\n",
      "R|   File \"/opt/conda/envs/metasmith_env/lib/python3.12/site-packages/metasmith/coms/cli.py\", line 67, in api\n",
      "R|     HandleRequest(args.endpoint, body)\n",
      "R|   File \"/opt/conda/envs/metasmith_env/lib/python3.12/site-packages/metasmith/coms/api.py\", line 42, in HandleRequest\n",
      "R|     _ENDPOINTS[endpoint](api, body)\n",
      "R|   File \"/opt/conda/envs/metasmith_env/lib/python3.12/site-packages/metasmith/coms/api.py\", line 26, in stage_workflow\n",
      "R|     StageWorkflow(plan_dir, force)\n",
      "R|   File \"/opt/conda/envs/metasmith_env/lib/python3.12/site-packages/metasmith/agents/workflow.py\", line 85, in StageWorkflow\n",
      "R|     mover.RemoveTransfer(given_lib[inst._key].source, staged_lib[inst._key].source)\n",
      "R|   File \"/opt/conda/envs/metasmith_env/lib/python3.12/site-packages/metasmith/models/remote.py\", line 159, in RemoveTransfer\n",
      "R|     self._queue.remove((src, dest))\n",
      "R| ValueError: list.remove(x): x not in list\n"
     ]
    }
   ],
   "source": [
    "from metasmith.coms.ipc import LiveShell\n",
    "from metasmith.logging import Log\n",
    "from tempfile import TemporaryDirectory\n",
    "\n",
    "from metasmith.models.workflow import WorkflowTask\n",
    "\n",
    "with open(WORKSPACE_ROOT/\"secrets/slurm_account\") as f:\n",
    "    slurm_account = f.read().strip()\n",
    "\n",
    "plan = plan\n",
    "local_temp = Path(\"./cache/mock_temp/\")\n",
    "# with LiveShell() as shell, TemporaryDirectory(prefix=\"msm.\") as local_temp:\n",
    "with LiveShell() as sh_local, LiveShell() as sh_remote:\n",
    "    local_temp = Path(local_temp)\n",
    "    sh_local.RegisterOnOut(lambda x: Log.Info(f\"{x}\"))\n",
    "    sh_local.RegisterOnErr(lambda x: Log.Error(f\"{x}\"))\n",
    "    sh_remote.RegisterOnOut(lambda x: print(f\"R| {x}\"))\n",
    "    sh_remote.RegisterOnErr(lambda x: print(f\"R| {x}\"))\n",
    "    remote_cache = Path(f\"/tmp/metasmith.{plan._key}\")\n",
    "\n",
    "    task_path = local_temp/f\"plan.json\"\n",
    "    task = WorkflowTask(plan=plan, agent=agent, config=dict(\n",
    "        nextflow=dict(\n",
    "            slurm_account=slurm_account\n",
    "        ),\n",
    "    ))\n",
    "    task.Save(task_path)\n",
    "\n",
    "    tr_path = local_temp/f\"transforms.lib\"\n",
    "    trlib.Gather(tr_path, overwrite=True)\n",
    "\n",
    "    Log.Info(f\"establishing ssh via [{agent.ssh_command}]\")\n",
    "    res = sh_remote.Exec(agent.ssh_command)\n",
    "    errs = [e for e in res.err if e not in {\"Pseudo-terminal will not be allocated because stdin is not a terminal.\"}]\n",
    "    assert len(errs) == 0, errs\n",
    "    Log.Info(f\"runnning setup commands:\")\n",
    "    for l in agent.pre.split(\"\\n\"):\n",
    "        Log.Info(f\"    {l}\")\n",
    "    sh_remote.Exec(agent.pre)\n",
    "    Log.Info(f\"making destination cache at [{remote_cache}]\")\n",
    "    sh_remote.Exec(f\"[ -e {remote_cache} ] && rm -rf {remote_cache}\")\n",
    "    sh_remote.Exec(f\"mkdir -p {remote_cache} && cd {agent.home}\")\n",
    "    Log.Info(f\"starting relay service\")\n",
    "    sh_remote.Exec(f\"./relay/msm_relay start\")\n",
    "\n",
    "    task_dest = f\"{agent.ssh_address}:{remote_cache/task_path.name}\"\n",
    "    Log.Info(f\"sending task [{task_path}] to [{task_dest}]\")\n",
    "    sh_local.Exec(f\"rsync -avcp {task_path} {task_dest}\")\n",
    "    tr_dest = f\"{agent.ssh_address}:{remote_cache/tr_path.name}\"\n",
    "    Log.Info(f\"sending transforms [{tr_path}] to [{tr_dest}]\")\n",
    "    sh_local.Exec(f\"rsync -avcp --exclude=__pycache__ {tr_path}/ {tr_dest}\") # the trailing slash is important\n",
    "\n",
    "    Log.Info(f\"calling stage\")\n",
    "    sh_remote.Exec(f'./msm api stage_workflow -a plan_dir={remote_cache} -a force=True') # this is ok because /tmp is mounted\n",
    "    # Log.Info(f\"calling execute\")\n",
    "    # sh_remote.Exec(f'./msm api execute_workflow -a plan_dir=/ws/runs/{plan._key}')\n",
    "\n",
    "    sh_remote.Exec(f\"rm -rf {remote_cache}\")\n",
    "    # sh_remote.Exec(f\"{agent.home}/relay/msm_relay stop\")\n",
    "    sh_remote.Exec(\"exit\")"
   ]
  },
  {
   "cell_type": "code",
   "execution_count": 17,
   "metadata": {},
   "outputs": [],
   "source": [
    "x1 = Source(\"asdf\")\n",
    "x2 = Source(\"1234\")\n",
    "\n",
    "k1 = (x1, x2)\n",
    "x = [k1]\n",
    "x.remove((x1, x2))"
   ]
  },
  {
   "cell_type": "code",
   "execution_count": 13,
   "metadata": {},
   "outputs": [
    {
     "name": "stdout",
     "output_type": "stream",
     "text": [
      "DL05P\n",
      "0RiTl\n"
     ]
    }
   ],
   "source": [
    "for s in task.plan.steps:\n",
    "    print(s.transform_key)"
   ]
  },
  {
   "cell_type": "code",
   "execution_count": 14,
   "metadata": {},
   "outputs": [],
   "source": [
    "# error here\n",
    "# path incorrect\n",
    "# loading type library [/ws/runs/WSFa2f/_metasmith/transforms.lib/_type_libraries/metagenomics.dev3.yml]"
   ]
  },
  {
   "cell_type": "code",
   "execution_count": 15,
   "metadata": {},
   "outputs": [
    {
     "data": {
      "text/plain": [
       "globus://2602486c-1e0f-47a0-be15-eec1b0ff0f96:/Metasmith/globus_test3/xgdb/example.msm_sbq72Lgs35k6.fna"
      ]
     },
     "execution_count": 15,
     "metadata": {},
     "output_type": "execute_result"
    }
   ],
   "source": [
    "GlobusSource.Parse(task.plan.given[0].source.address)"
   ]
  },
  {
   "cell_type": "code",
   "execution_count": 16,
   "metadata": {},
   "outputs": [
    {
     "data": {
      "text/plain": [
       "'https://app.globus.org/file-manager?origin_id=2602486c-1e0f-47a0-be15-eec1b0ff0f96&origin_path=%2FMetasmith%2Fglobus_test1%2F'"
      ]
     },
     "execution_count": 16,
     "metadata": {},
     "output_type": "execute_result"
    }
   ],
   "source": [
    "\"https://app.globus.org/file-manager?origin_id=2602486c-1e0f-47a0-be15-eec1b0ff0f96&origin_path=%2FMetasmith%2Fglobus_test1%2F\""
   ]
  }
 ],
 "metadata": {
  "kernelspec": {
   "display_name": "msm",
   "language": "python",
   "name": "python3"
  },
  "language_info": {
   "codemirror_mode": {
    "name": "ipython",
    "version": 3
   },
   "file_extension": ".py",
   "mimetype": "text/x-python",
   "name": "python",
   "nbconvert_exporter": "python",
   "pygments_lexer": "ipython3",
   "version": "3.12.8"
  }
 },
 "nbformat": 4,
 "nbformat_minor": 2
}
