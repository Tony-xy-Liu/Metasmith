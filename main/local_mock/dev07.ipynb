{
 "cells": [
  {
   "cell_type": "markdown",
   "metadata": {},
   "source": [
    "- deploy via ssh\n",
    "- recieve job from local via ssh\n",
    "- obtain datainstances via globus\n",
    "- execute job\n",
    "- upload produced datainstances via globus\n",
    "- return globus paths (indexes/keys?)"
   ]
  },
  {
   "cell_type": "code",
   "execution_count": 1,
   "metadata": {},
   "outputs": [],
   "source": [
    "from pathlib import Path\n",
    "from metasmith.agents.ssh import Agent\n",
    "from metasmith.models.libraries import *"
   ]
  },
  {
   "cell_type": "code",
   "execution_count": 2,
   "metadata": {},
   "outputs": [
    {
     "data": {
      "text/plain": [
       "'64a5c402-05c4-4607-bbad-46a9c2aebd98'"
      ]
     },
     "execution_count": 2,
     "metadata": {},
     "output_type": "execute_result"
    }
   ],
   "source": [
    "globus = GlobusSource.Parse(\"https://app.globus.org/file-manager?destination_id=64a5c402-05c4-4607-bbad-46a9c2aebd98&destination_path=%2Fhome%2Ftxyliu%2Fscratch%2F\")\n",
    "sockeye_globus_endpoint = globus.endpoint\n",
    "sockeye_globus_endpoint"
   ]
  },
  {
   "cell_type": "code",
   "execution_count": 3,
   "metadata": {},
   "outputs": [],
   "source": [
    "# agent = Agent(\n",
    "#     ssh_command='ssh sockeye',\n",
    "#     ssh_address='sockeye',\n",
    "#     pre = f\"\"\"\\\n",
    "#         module load gcc/9.4.0 apptainer/1.3.1\n",
    "#     \"\"\",\n",
    "#     home='~/scratch/metasmith',\n",
    "#     globus_endpoint=sockeye_globus_endpoint\n",
    "# )\n",
    "\n",
    "# agent = Agent(\n",
    "#     ssh_command='ssh cedar',\n",
    "#     ssh_address='cedar',\n",
    "#     pre = f\"\"\"\\\n",
    "#         module load StdEnv/2023 apptainer/1.3.5\n",
    "#     \"\"\",\n",
    "#     home='~/metasmith',\n",
    "#     workspace='~/scratch/metasmith',\n",
    "# )\n",
    "\n",
    "agent = Agent(\n",
    "    ssh_command='ssh cosmos',\n",
    "    ssh_host='cosmos',\n",
    "        # module load gcc/9.4.0 apptainer/1.3.1\n",
    "    pre = f\"\"\"\\\n",
    "    \"\"\",\n",
    "    home='~/workspace/metasmith',\n",
    "    # globus_endpoint=sockeye_globus_endpoint\n",
    ")\n",
    "\n",
    "# agent.Deploy()"
   ]
  },
  {
   "cell_type": "code",
   "execution_count": 7,
   "metadata": {},
   "outputs": [
    {
     "name": "stdout",
     "output_type": "stream",
     "text": [
      "<{data:DNA sequence,format:FASTA}:4M4PqXwA>\n",
      "<{data:software container,format:OCI,provides:[diamond,asdf]}:Jp093JC3>\n",
      "<{data:software container,format:OCI,provides:pprodigal}:90LdbjQO>\n",
      "<{data:Protein features,format:CSV}:kImyYZjD>\n",
      "<{data:Amino acid sequence,format:FASTA}:oF3YSVYQ>\n",
      "<{data:database reference,format:.dmnd}:VpPqsgy1>\n"
     ]
    }
   ],
   "source": [
    "from local.constants import WORKSPACE_ROOT\n",
    "from local.utils import LinkifyPath\n",
    "CACHE = WORKSPACE_ROOT/\"main/local_mock/cache/xgdb_tests\"\n",
    "\n",
    "types = DataTypeLibrary.Load(WORKSPACE_ROOT/\"main/local_mock/prototypes/metagenomics.dev3.yml\")\n",
    "for name, t in types:\n",
    "    print(t)"
   ]
  },
  {
   "cell_type": "code",
   "execution_count": 11,
   "metadata": {},
   "outputs": [
    {
     "data": {
      "text/plain": [
       "'a: as:df\\n'"
      ]
     },
     "execution_count": 11,
     "metadata": {},
     "output_type": "execute_result"
    }
   ],
   "source": [
    "yaml.dump(dict(a=\"as:df\"))"
   ]
  },
  {
   "cell_type": "code",
   "execution_count": 10,
   "metadata": {},
   "outputs": [
    {
     "data": {
      "text/plain": [
       "str"
      ]
     },
     "execution_count": 10,
     "metadata": {},
     "output_type": "execute_result"
    }
   ],
   "source": [
    "type(\"asdf\")"
   ]
  },
  {
   "cell_type": "code",
   "execution_count": 5,
   "metadata": {},
   "outputs": [
    {
     "data": {
      "text/plain": [
       "DataTypeLibrary(schema='0.3', ontology=DataTypeOntology(name='EDAM', version=1.25, doi='https://doi.org/10.1093/bioinformatics/btt113', strict=False), types={'contigs': <{data:DNA sequence,format:FASTA}:4M4PqXwA>, 'oci_image': <{data:software container,format:OCI,provides:{python:3.12}}:qTmQmzhg>})"
      ]
     },
     "execution_count": 5,
     "metadata": {},
     "output_type": "execute_result"
    }
   ],
   "source": [
    "types"
   ]
  },
  {
   "cell_type": "code",
   "execution_count": 5,
   "metadata": {},
   "outputs": [
    {
     "data": {
      "text/plain": [
       "{'{\"data\":\"software container\"}',\n",
       " '{\"format\":\"OCI\"}',\n",
       " '{\"provides\":[\"diamond\",\"asdf\"]}'}"
      ]
     },
     "execution_count": 5,
     "metadata": {},
     "output_type": "execute_result"
    }
   ],
   "source": [
    "types['oci_image_diamond'].properties"
   ]
  },
  {
   "cell_type": "code",
   "execution_count": 5,
   "metadata": {},
   "outputs": [
    {
     "name": "stdout",
     "output_type": "stream",
     "text": [
      "[PosixPath('contigs.fna')]\n",
      "[PosixPath('reference.uniprot_sprot.dmnd'), PosixPath('container.diamond.oci.uri'), PosixPath('container.pprodigal.oci.uri')]\n",
      "./../../main/local_mock/cache/xgdb_tests/ref.xgdb/_metadata/index.yml\n"
     ]
    }
   ],
   "source": [
    "xgdb_path = CACHE/\"test.xgdb\"\n",
    "refdb_path = CACHE/\"ref.xgdb\"\n",
    "xgdb = DataInstanceLibrary(xgdb_path)\n",
    "refdb = DataInstanceLibrary(refdb_path)\n",
    "xgdb.AddTypeLibrary(\"metagenomics\", types)\n",
    "added = xgdb.Add(\n",
    "    [\n",
    "        (Path(WORKSPACE_ROOT/\"scratch/test_ws/data/local/example.fna\"), \"contigs.fna\", \"metagenomics::contigs\"),\n",
    "    ],\n",
    ")\n",
    "print(added)\n",
    "refdb.AddTypeLibrary(\"metagenomics\", types)\n",
    "added = refdb.Add(\n",
    "    [\n",
    "        (WORKSPACE_ROOT/\"scratch/test_ws/data/local/uniprot_sprot.dmnd\", \"reference.uniprot_sprot.dmnd\", \"metagenomics::protein_reference_diamond\"),\n",
    "        (WORKSPACE_ROOT/\"scratch/test_ws/data/local/diamond.oci.uri\", \"container.diamond.oci.uri\", \"metagenomics::oci_image_diamond\"),\n",
    "        (WORKSPACE_ROOT/\"scratch/test_ws/data/local/pprodigal.oci.uri\", \"container.pprodigal.oci.uri\", \"metagenomics::oci_image_pprodigal\"),\n",
    "    ],\n",
    ")\n",
    "print(added)\n",
    "\n",
    "xgdb.Save()\n",
    "refdb.Save()\n",
    "LinkifyPath((refdb_path/refdb._path_to_meta)/(refdb._index_name+refdb._metadata_ext))\n",
    "# LinkifyPath(refdb_path/refdb._path_to_types)\n",
    "xgdb_local = DataInstanceLibrary.Load(xgdb_path)"
   ]
  },
  {
   "cell_type": "code",
   "execution_count": 6,
   "metadata": {},
   "outputs": [],
   "source": [
    "trlib = TransformInstanceLibrary(\"./transforms/simple_1\")\n",
    "trlib.AddTypeLibrary(\"metagenomics\", types)\n",
    "trlib.AddStub(\"diamond\", exist_ok=True)\n",
    "trlib.AddStub(\"pprodigal\", exist_ok=True)\n",
    "trlib.Save()"
   ]
  },
  {
   "cell_type": "code",
   "execution_count": 7,
   "metadata": {},
   "outputs": [
    {
     "data": {
      "text/plain": [
       "'2602486c-1e0f-47a0-be15-eec1b0ff0f96'"
      ]
     },
     "execution_count": 7,
     "metadata": {},
     "output_type": "execute_result"
    }
   ],
   "source": [
    "gs = GlobusSource.Parse(\"https://app.globus.org/file-manager?origin_id=2602486c-1e0f-47a0-be15-eec1b0ff0f96&origin_path=%2FMetasmith%2Fglobus_test3%2Fxgdb%2F\")\n",
    "REMOTE_GLOBUS_ENDPOINT = gs.endpoint\n",
    "REMOTE_GLOBUS_ENDPOINT"
   ]
  },
  {
   "cell_type": "code",
   "execution_count": 8,
   "metadata": {},
   "outputs": [],
   "source": [
    "xgdb_remote_source = GlobusSource(\n",
    "    endpoint=REMOTE_GLOBUS_ENDPOINT,\n",
    "    path = \"/Metasmith/dev07\",\n",
    ").AsSource()\n",
    "\n",
    "# res = xgdb_local.SaveAs(dest=xgdb_remote_source, label=\"dev07_xgdb\")\n",
    "# for e in res.errors:\n",
    "#     print(e)\n",
    "# res.completed"
   ]
  },
  {
   "cell_type": "code",
   "execution_count": 9,
   "metadata": {},
   "outputs": [],
   "source": [
    "refdb_remote_source = GlobusSource(\n",
    "    endpoint=REMOTE_GLOBUS_ENDPOINT,\n",
    "    path = \"/Metasmith/dev07.ref\",\n",
    ").AsSource()\n",
    "\n",
    "# res = refdb.SaveAs(dest=refdb_remote_source, label=\"dev07_refdb\")\n",
    "# for e in res.errors:\n",
    "#     print(e)\n",
    "# res.completed"
   ]
  },
  {
   "cell_type": "code",
   "execution_count": 10,
   "metadata": {},
   "outputs": [
    {
     "name": "stdout",
     "output_type": "stream",
     "text": [
      "metagenomics::orfs_faa\n",
      "metagenomics::orf_annotations\n",
      "pprodigal\n",
      "    (D:{\"data\":\"software container\"}-{\"format\":\"OCI\"}-{\"provides\":[\"pprodigal\"]})\n",
      "    (D:{\"data\":\"DNA sequence\"}-{\"format\":\"FASTA\"})\n",
      "    v\n",
      "    (D:{\"data\":\"Amino acid sequence\"}-{\"format\":\"FASTA\"})\n",
      "diamond\n",
      "    (D:{\"data\":\"software container\"}-{\"format\":\"OCI\"}-{\"provides\":[\"diamond\"]})\n",
      "    (D:{\"data\":\"Amino acid sequence\"}-{\"format\":\"FASTA\"})\n",
      "    (D:{\"data\":\"database reference\"}-{\"format\":\".dmnd\"})\n",
      "    v\n",
      "    (D:{\"data\":\"Protein features\"}-{\"format\":\"CSV\"})\n"
     ]
    }
   ],
   "source": [
    "from metasmith.models.workflow import WorkflowPlan\n",
    "\n",
    "plan = WorkflowPlan.Generate(\n",
    "    given=[xgdb, refdb],\n",
    "    transforms=[trlib],\n",
    "    targets=[\n",
    "        types[\"orf_annotations\"].WithLineage([\n",
    "            types[\"contigs\"],\n",
    "            # xgdb[\"example.fna\"].type,\n",
    "        ]),\n",
    "    ],\n",
    ")\n",
    "\n",
    "for step in plan.steps:\n",
    "    step_path = Path(step.transform.name)\n",
    "    model = step.transform.model\n",
    "    print(f\"{step_path.stem}\")\n",
    "    for x in model.requires:\n",
    "        print(f\"    {x}\")\n",
    "    print(\"    v\")\n",
    "    for x in model.produces:\n",
    "        print(f\"    {x}\")\n",
    "    # print([f\"{x.source}\" for x in step.uses], [f\"{x.source}\" for x in step.produces], sep=\"->\")\n",
    "    # LinkifyPath(step.transform._source.address)"
   ]
  },
  {
   "cell_type": "code",
   "execution_count": 11,
   "metadata": {},
   "outputs": [],
   "source": [
    "from metasmith.coms.ipc import LiveShell\n",
    "from metasmith.logging import Log\n",
    "from tempfile import TemporaryDirectory\n",
    "\n",
    "from metasmith.models.remote import SshSource\n",
    "from metasmith.models.workflow import WorkflowTask"
   ]
  },
  {
   "cell_type": "code",
   "execution_count": 19,
   "metadata": {},
   "outputs": [
    {
     "data": {
      "text/plain": [
       "LogiscsResult(completed=[(Source(address='/tmp/tmpixhvuf2y/task.yml', type=SourceType.DIRECT), Source(address='ssh://cosmos:/home/tony/workspace/metasmith/tmp/OVCdT/task.yml', type=SourceType.SSH)), (Source(address='/tmp/tmpixhvuf2y/plan.yml', type=SourceType.DIRECT), Source(address='ssh://cosmos:/home/tony/workspace/metasmith/tmp/OVCdT/plan.yml', type=SourceType.SSH)), (Source(address='/home/tony/workspace/tools/Metasmith/main/local_mock/cache/xgdb_tests/test.xgdb', type=SourceType.DIRECT), Source(address='ssh://cosmos:/home/tony/workspace/metasmith/tmp/OVCdT/data/72Q0C', type=SourceType.SSH)), (Source(address='/home/tony/workspace/tools/Metasmith/main/local_mock/cache/xgdb_tests/ref.xgdb', type=SourceType.DIRECT), Source(address='ssh://cosmos:/home/tony/workspace/metasmith/tmp/OVCdT/data/kizB8', type=SourceType.SSH)), (Source(address='/home/tony/workspace/tools/Metasmith/main/local_mock/transforms/simple_1', type=SourceType.DIRECT), Source(address='ssh://cosmos:/home/tony/workspace/metasmith/tmp/OVCdT/transforms/uEZD6', type=SourceType.SSH))], errors=['ssh: Pseudo-terminal will not be allocated because stdin is not a terminal.'])"
      ]
     },
     "execution_count": 19,
     "metadata": {},
     "output_type": "execute_result"
    }
   ],
   "source": [
    "with open(WORKSPACE_ROOT/\"secrets/slurm_account\") as f:\n",
    "    slurm_account = f.read().strip()\n",
    "\n",
    "remote_cache = Path(f\"/home/tony/workspace/metasmith/tmp/{plan._key}\")\n",
    "local_task_path = WORKSPACE_ROOT/\"main/local_mock/cache/xgdb_tests/task\"\n",
    "\n",
    "# send task & plan\n",
    "task = WorkflowTask(\n",
    "    plan=plan,\n",
    "    agent=agent,\n",
    "    data_libraries=[xgdb, refdb],\n",
    "    transform_libraries=[trlib],\n",
    "    config=dict(\n",
    "        nextflow=dict(\n",
    "            preset=\"default\",\n",
    "            # slurm_account=slurm_account,\n",
    "        ),\n",
    "    ),\n",
    ")\n",
    "# task.SaveAs(Source.FromLocal(local_task_path))\n",
    "# task.SaveAs(SshSource(host=agent.ssh_host, path=remote_cache).AsSource())"
   ]
  },
  {
   "cell_type": "code",
   "execution_count": 13,
   "metadata": {},
   "outputs": [
    {
     "name": "stdout",
     "output_type": "stream",
     "text": [
      "pprodigal\n",
      "    container.pprodigal.oci.uri as metagenomics::oci_image_pprodigal\n",
      "    contigs.fna as metagenomics::contigs\n",
      "    v\n",
      "    orfs.faa as metagenomics::orfs_faa\n",
      "diamond\n",
      "    container.diamond.oci.uri as metagenomics::oci_image_diamond\n",
      "    orfs.faa as metagenomics::orfs_faa\n",
      "    reference.uniprot_sprot.dmnd as metagenomics::protein_reference_diamond\n",
      "    v\n",
      "    annotations.csv as metagenomics::orf_annotations\n"
     ]
    }
   ],
   "source": [
    "local_task = WorkflowTask.Load(local_task_path)\n",
    "\n",
    "for step in local_task.plan.steps:\n",
    "    step_path = Path(step.transform.name)\n",
    "    model = step.transform.model\n",
    "    print(f\"{step_path.stem}\")\n",
    "    for x in step.uses:\n",
    "        print(f\"    {x.path} as {x.dtype_name}\")\n",
    "    print(\"    v\")\n",
    "    for x in step.produces:\n",
    "        print(f\"    {x.path} as {x.dtype_name}\")\n"
   ]
  },
  {
   "cell_type": "code",
   "execution_count": 14,
   "metadata": {},
   "outputs": [
    {
     "name": "stdout",
     "output_type": "stream",
     "text": [
      "OVCdT\n"
     ]
    }
   ],
   "source": [
    "print(plan._key)"
   ]
  },
  {
   "cell_type": "code",
   "execution_count": 20,
   "metadata": {},
   "outputs": [
    {
     "name": "stdout",
     "output_type": "stream",
     "text": [
      "2025-03-05_02-28-36  | establishing ssh via [ssh cosmos]\n",
      "R| Pseudo-terminal will not be allocated because stdin is not a terminal.\n",
      "R| Welcome to Ubuntu 22.04.3 LTS (GNU/Linux 5.15.167.4-microsoft-standard-WSL2 x86_64)\n",
      "R|  * Documentation:  https://help.ubuntu.com\n",
      "R|  * Management:     https://landscape.canonical.com\n",
      "R|  * Support:        https://ubuntu.com/advantage\n",
      "R|  * Strictly confined Kubernetes makes edge and IoT secure. Learn how MicroK8s\n",
      "R|    just raised the bar for easy, resilient and secure K8s cluster deployment.\n",
      "R|    https://ubuntu.com/engage/secure-kubernetes-at-the-edge\n",
      "2025-03-05_02-28-36  | runnning setup commands:\n",
      "2025-03-05_02-28-36  |     \n",
      "2025-03-05_02-28-36  | making destination cache at [/home/tony/workspace/metasmith/tmp/OVCdT]\n",
      "2025-03-05_02-28-36  | starting relay service\n",
      "R| 2025-03-05_02-28-37 E| relay server already running in [relay/connections]\n",
      "2025-03-05_02-28-37  | calling stage\n",
      "R| 2025-03-05_02-28-38  | api call to [stage_workflow] with [{'task_dir': '/home/tony/workspace/metasmith/tmp/OVCdT', 'force': 'True'}]\n",
      "R| 2025-03-05_02-28-38  | staging workflow [OVCdT] with [4] given data instances\n",
      "R| 2025-03-05_02-28-38  | already staged at [/ws/runs/OVCdT]\n",
      "R| 2025-03-05_02-28-38  | removing previous\n",
      "R| 2025-03-05_02-28-38  | ex| /home/tony/workspace/metasmith\n",
      "R| 2025-03-05_02-28-38  | work [/ws/runs/OVCdT]\n",
      "R| 2025-03-05_02-28-38  | data [/ws/data]\n",
      "R| 2025-03-05_02-28-38  | external work [/home/tony/workspace/metasmith/runs/OVCdT]\n",
      "R| 2025-03-05_02-28-38  | external data [/home/tony/workspace/metasmith/data]\n",
      "R| 2025-03-05_02-28-40  | additional params:\n",
      "R| 2025-03-05_02-28-40  |     nextflow:\n",
      "R| 2025-03-05_02-28-40  |       preset: default\n",
      "R| 2025-03-05_02-28-40  |     \n",
      "R| 2025-03-05_02-28-40  | [OVCdT] staged to [/ws/runs/OVCdT]\n",
      "2025-03-05_02-28-40  | calling execute\n",
      "R| 2025-03-05_02-28-41  | api call to [execute_workflow] with [{'key': 'OVCdT'}]\n",
      "R| 2025-03-05_02-28-41  | executing workflow [OVCdT] with [2] steps\n",
      "R| 2025-03-05_02-28-41  | connecting to relay for external shell\n",
      "R| 2025-03-05_02-28-42  | calling nextflow\n",
      "\u001b[K2025-03-05_02-28-43  | Downloading nextflow dependencies. It may require a few seconds, please wait .. \n",
      "R| 2025-03-05_02-28-43  | \u001b[1m\u001b[38;5;232m\u001b[48;5;43m N E X T F L O W \u001b[0;2m  ~  \u001b[mversion 24.10.5\u001b[m\n",
      "R| 2025-03-05_02-28-43  | \u001b[K\n",
      "R| 2025-03-05_02-28-43  | WARN: It appears you have never run this project before -- Option `-resume` is ignored\n",
      "R| 2025-03-05_02-28-43  | Launching\u001b[35m `./workflow.nf` \u001b[0;2m[\u001b[0;1;36mridiculous_brown\u001b[0;2m] DSL2 - \u001b[36mrevision: \u001b[0;36m8cdf4ea0f2\u001b[m\n",
      "R| 2025-03-05_02-28-43  | \u001b[K\n",
      "R| 2025-03-05_02-28-44  | \u001b[2m[\u001b[0;34m-        \u001b[0;2m] \u001b[0;2m\u001b[mpprodigal__1yb7poMO -\u001b[K\n",
      "R| 2025-03-05_02-28-44  | \u001b[2m[\u001b[0;34m-        \u001b[0;2m] \u001b[0;2m\u001b[mdiamond__87agDkrC   -\u001b[K\n",
      "R| 2025-03-05_02-28-44  | \u001b[3A\n",
      "R| 2025-03-05_02-28-44  | \u001b[2mexecutor >  local (1)\u001b[m\u001b[K\n",
      "R| 2025-03-05_02-28-44  | \u001b[2m[\u001b[0;34mcd/0589fe\u001b[0;2m] \u001b[0;2m\u001b[mpprodigal__1yb7poMO\u001b[33;2m (\u001b[0;33m1\u001b[2m)\u001b[m\u001b[2m |\u001b[m 0 of 1\u001b[K\n",
      "R| 2025-03-05_02-28-44  | \u001b[2m[\u001b[0;34m-        \u001b[0;2m] \u001b[0;2m\u001b[mdiamond__87agDkrC       -\u001b[K\n",
      "R| 2025-03-05_02-28-48  | \u001b[4A\n",
      "R| 2025-03-05_02-28-48  | \u001b[2mexecutor >  local (2)\u001b[m\u001b[K\n",
      "R| 2025-03-05_02-28-48  | \u001b[2m[\u001b[0;34mcd/0589fe\u001b[0;2m] \u001b[0;2m\u001b[mpprodigal__1yb7poMO\u001b[33;2m (\u001b[0;33m1\u001b[2m)\u001b[m\u001b[2m |\u001b[m 1 of 1\u001b[32m ✔\u001b[m\u001b[K\n",
      "R| 2025-03-05_02-28-48  | \u001b[2m[\u001b[0;34m04/cebd57\u001b[0;2m] \u001b[0;2m\u001b[mdiamond__87agDkrC\u001b[33;2m (\u001b[0;33m1\u001b[2m)\u001b[m  \u001b[2m |\u001b[m 0 of 1\u001b[K\n",
      "R| 2025-03-05_02-28-53  | \u001b[4A\n",
      "R| 2025-03-05_02-28-53  | \u001b[2mexecutor >  local (2)\u001b[m\u001b[K\n",
      "R| 2025-03-05_02-28-53  | \u001b[2m[\u001b[0;34mcd/0589fe\u001b[0;2m] \u001b[0;2m\u001b[mpprodigal__1yb7poMO\u001b[33;2m (\u001b[0;33m1\u001b[2m)\u001b[m\u001b[2m |\u001b[m 1 of 1\u001b[32m ✔\u001b[m\u001b[K\n",
      "R| 2025-03-05_02-28-53  | \u001b[2m[\u001b[0;34m04/cebd57\u001b[0;2m] \u001b[0;2m\u001b[mdiamond__87agDkrC\u001b[33;2m (\u001b[0;33m1\u001b[2m)\u001b[m  \u001b[2m |\u001b[m 1 of 1\u001b[32m ✔\u001b[m\u001b[K\n",
      "R| 2025-03-05_02-28-53  | \n"
     ]
    }
   ],
   "source": [
    "local_temp = Path(\"./cache/mock_temp/\")\n",
    "# with LiveShell() as shell, TemporaryDirectory(prefix=\"msm.\") as local_temp:\n",
    "with LiveShell() as sh_local, LiveShell() as sh_remote:\n",
    "    local_temp = Path(local_temp)\n",
    "    sh_local.RegisterOnOut(lambda x: Log.Info(f\"{x}\"))\n",
    "    sh_local.RegisterOnErr(lambda x: Log.Error(f\"{x}\"))\n",
    "    sh_remote.RegisterOnOut(lambda x: print(f\"R| {x}\"))\n",
    "    sh_remote.RegisterOnErr(lambda x: print(f\"R| {x}\"))\n",
    "    remote_cache = Path(f\"/home/tony/workspace/metasmith/tmp/{plan._key}\")\n",
    "    # remote_cache = Path(f\"/tmp/metasmith.{plan._key}\")\n",
    "\n",
    "    # connect and prepare remote\n",
    "    Log.Info(f\"establishing ssh via [{agent.ssh_command}]\")\n",
    "    res = sh_remote.Exec(agent.ssh_command)\n",
    "    errs = [e for e in res.err if e not in {\"Pseudo-terminal will not be allocated because stdin is not a terminal.\"}]\n",
    "    assert len(errs) == 0, errs\n",
    "    Log.Info(f\"runnning setup commands:\")\n",
    "    for l in agent.pre.split(\"\\n\"):\n",
    "        Log.Info(f\"    {l}\")\n",
    "    sh_remote.Exec(agent.pre)\n",
    "    Log.Info(f\"making destination cache at [{remote_cache}]\")\n",
    "    # sh_remote.Exec(f\"[ -e {remote_cache} ] && rm -rf {remote_cache}\")\n",
    "    sh_remote.Exec(f\"mkdir -p {remote_cache} && cd {agent.home}\")\n",
    "    Log.Info(f\"starting relay service\")\n",
    "    sh_remote.Exec(f\"./relay/msm_relay start\")\n",
    "    \n",
    "    Log.Info(f\"calling stage\")\n",
    "    sh_remote.Exec(f'./msm api stage_workflow -a task_dir={remote_cache} -a force=True') # this is ok because /tmp is mounted\n",
    "    Log.Info(f\"calling execute\")\n",
    "    sh_remote.Exec(f'./msm api execute_workflow -a key={plan._key}')\n",
    "\n",
    "    # sh_remote.Exec(f\"rm -rf {remote_cache}\")\n",
    "    # sh_remote.Exec(f\"{agent.home}/relay/msm_relay stop\")\n",
    "    sh_remote.Exec(\"exit\")"
   ]
  },
  {
   "cell_type": "code",
   "execution_count": 16,
   "metadata": {},
   "outputs": [],
   "source": [
    "x1 = Source(\"asdf\")\n",
    "x2 = Source(\"1234\")\n",
    "\n",
    "k1 = (x1, x2)\n",
    "x = [k1]\n",
    "x.remove((x1, x2))"
   ]
  },
  {
   "cell_type": "code",
   "execution_count": 17,
   "metadata": {},
   "outputs": [
    {
     "ename": "AttributeError",
     "evalue": "'WorkflowStep' object has no attribute 'transform_key'",
     "output_type": "error",
     "traceback": [
      "\u001b[0;31m---------------------------------------------------------------------------\u001b[0m",
      "\u001b[0;31mAttributeError\u001b[0m                            Traceback (most recent call last)",
      "Cell \u001b[0;32mIn[17], line 2\u001b[0m\n\u001b[1;32m      1\u001b[0m \u001b[38;5;28;01mfor\u001b[39;00m s \u001b[38;5;129;01min\u001b[39;00m task\u001b[38;5;241m.\u001b[39mplan\u001b[38;5;241m.\u001b[39msteps:\n\u001b[0;32m----> 2\u001b[0m     \u001b[38;5;28mprint\u001b[39m(\u001b[43ms\u001b[49m\u001b[38;5;241;43m.\u001b[39;49m\u001b[43mtransform_key\u001b[49m)\n",
      "\u001b[0;31mAttributeError\u001b[0m: 'WorkflowStep' object has no attribute 'transform_key'"
     ]
    }
   ],
   "source": [
    "for s in task.plan.steps:\n",
    "    print(s.transform_key)"
   ]
  },
  {
   "cell_type": "code",
   "execution_count": null,
   "metadata": {},
   "outputs": [],
   "source": [
    "# error here\n",
    "# path incorrect\n",
    "# loading type library [/ws/runs/WSFa2f/_metasmith/transforms.lib/_type_libraries/metagenomics.dev3.yml]"
   ]
  },
  {
   "cell_type": "code",
   "execution_count": null,
   "metadata": {},
   "outputs": [
    {
     "data": {
      "text/plain": [
       "globus://2602486c-1e0f-47a0-be15-eec1b0ff0f96:/Metasmith/globus_test3/xgdb/example.msm_sbq72Lgs35k6.fna"
      ]
     },
     "execution_count": 15,
     "metadata": {},
     "output_type": "execute_result"
    }
   ],
   "source": [
    "GlobusSource.Parse(task.plan.given[0].source.address)"
   ]
  },
  {
   "cell_type": "code",
   "execution_count": null,
   "metadata": {},
   "outputs": [
    {
     "data": {
      "text/plain": [
       "'https://app.globus.org/file-manager?origin_id=2602486c-1e0f-47a0-be15-eec1b0ff0f96&origin_path=%2FMetasmith%2Fglobus_test1%2F'"
      ]
     },
     "execution_count": 16,
     "metadata": {},
     "output_type": "execute_result"
    }
   ],
   "source": [
    "\"https://app.globus.org/file-manager?origin_id=2602486c-1e0f-47a0-be15-eec1b0ff0f96&origin_path=%2FMetasmith%2Fglobus_test1%2F\""
   ]
  }
 ],
 "metadata": {
  "kernelspec": {
   "display_name": "msm",
   "language": "python",
   "name": "python3"
  },
  "language_info": {
   "codemirror_mode": {
    "name": "ipython",
    "version": 3
   },
   "file_extension": ".py",
   "mimetype": "text/x-python",
   "name": "python",
   "nbconvert_exporter": "python",
   "pygments_lexer": "ipython3",
   "version": "3.12.8"
  }
 },
 "nbformat": 4,
 "nbformat_minor": 2
}
