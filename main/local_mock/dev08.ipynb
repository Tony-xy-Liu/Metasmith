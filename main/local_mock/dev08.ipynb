{
 "cells": [
  {
   "cell_type": "markdown",
   "metadata": {},
   "source": [
    "# rework datainstances and DataInstanceLibs\n",
    "* DILs should be linked to an actual local directory\n",
    "* Transform libraries can use DILs\n",
    "* DILs know how to move self to remote Sources"
   ]
  },
  {
   "cell_type": "code",
   "execution_count": 1,
   "metadata": {},
   "outputs": [],
   "source": [
    "from pathlib import Path\n",
    "from metasmith.agents.presets import Agent\n",
    "from metasmith.models.libraries import *\n",
    "\n",
    "from local.constants import WORKSPACE_ROOT\n",
    "from local.utils import LinkifyPath"
   ]
  },
  {
   "cell_type": "code",
   "execution_count": 2,
   "metadata": {},
   "outputs": [],
   "source": [
    "CACHE = WORKSPACE_ROOT/\"main/local_mock/cache/xgdb_tests\"\n",
    "CACHE.mkdir(parents=True, exist_ok=True)"
   ]
  },
  {
   "cell_type": "code",
   "execution_count": 3,
   "metadata": {},
   "outputs": [
    {
     "data": {
      "text/plain": [
       "6"
      ]
     },
     "execution_count": 3,
     "metadata": {},
     "output_type": "execute_result"
    }
   ],
   "source": [
    "types = DataTypeLibrary.Load(WORKSPACE_ROOT/\"main/local_mock/prototypes/metagenomics.dev3.yml\")\n",
    "len(types)"
   ]
  },
  {
   "cell_type": "code",
   "execution_count": 4,
   "metadata": {},
   "outputs": [
    {
     "name": "stdout",
     "output_type": "stream",
     "text": [
      "[PosixPath('contigs.fna')]\n",
      "[PosixPath('reference.uniprot_sprot.dmnd'), PosixPath('container.diamond.oci.uri'), PosixPath('container.pprodigal.oci.uri')]\n",
      "./../../main/local_mock/cache/xgdb_tests/ref.xgdb/_metadata/index.yml\n"
     ]
    }
   ],
   "source": [
    "xgdb_path = CACHE/\"test.xgdb\"\n",
    "refdb_path = CACHE/\"ref.xgdb\"\n",
    "_xgdb = DataInstanceLibrary(xgdb_path)\n",
    "refdb = DataInstanceLibrary(refdb_path)\n",
    "_xgdb.AddTypeLibrary(\"metagenomics\", types)\n",
    "added = _xgdb.Add(\n",
    "    [\n",
    "        (Path(WORKSPACE_ROOT/\"scratch/test_ws/data/local/example.fna\"), \"contigs.fna\", \"metagenomics::contigs\"),\n",
    "    ],\n",
    ")\n",
    "print(added)\n",
    "refdb.AddTypeLibrary(\"metagenomics\", types)\n",
    "added = refdb.Add(\n",
    "    [\n",
    "        (WORKSPACE_ROOT/\"scratch/test_ws/data/local/uniprot_sprot.dmnd\", \"reference.uniprot_sprot.dmnd\", \"metagenomics::protein_reference_diamond\"),\n",
    "        (WORKSPACE_ROOT/\"scratch/test_ws/data/local/diamond.oci.uri\", \"container.diamond.oci.uri\", \"metagenomics::oci_image_diamond\"),\n",
    "        (WORKSPACE_ROOT/\"scratch/test_ws/data/local/pprodigal.oci.uri\", \"container.pprodigal.oci.uri\", \"metagenomics::oci_image_pprodigal\"),\n",
    "    ],\n",
    ")\n",
    "print(added)\n",
    "\n",
    "_xgdb.Save()\n",
    "refdb.Save()\n",
    "LinkifyPath((refdb_path/refdb._path_to_meta)/(refdb._index_name+refdb._metadata_ext))\n",
    "# LinkifyPath(refdb_path/refdb._path_to_types)\n",
    "xgdb_local = DataInstanceLibrary.Load(xgdb_path)"
   ]
  },
  {
   "cell_type": "code",
   "execution_count": 5,
   "metadata": {},
   "outputs": [
    {
     "data": {
      "text/plain": [
       "{PosixPath('contigs.fna'): 'metagenomics::contigs'}"
      ]
     },
     "execution_count": 5,
     "metadata": {},
     "output_type": "execute_result"
    }
   ],
   "source": [
    "xgdb_local.manifest"
   ]
  },
  {
   "cell_type": "code",
   "execution_count": 6,
   "metadata": {},
   "outputs": [
    {
     "data": {
      "text/plain": [
       "{PosixPath('reference.uniprot_sprot.dmnd'): 'metagenomics::protein_reference_diamond',\n",
       " PosixPath('container.diamond.oci.uri'): 'metagenomics::oci_image_diamond',\n",
       " PosixPath('container.pprodigal.oci.uri'): 'metagenomics::oci_image_pprodigal'}"
      ]
     },
     "execution_count": 6,
     "metadata": {},
     "output_type": "execute_result"
    }
   ],
   "source": [
    "refdb.manifest"
   ]
  },
  {
   "cell_type": "code",
   "execution_count": 7,
   "metadata": {},
   "outputs": [
    {
     "data": {
      "text/plain": [
       "Source(address='globus://2602486c-1e0f-47a0-be15-eec1b0ff0f96:/Metasmith/globus_test6', type=SourceType.GLOBUS)"
      ]
     },
     "execution_count": 7,
     "metadata": {},
     "output_type": "execute_result"
    }
   ],
   "source": [
    "# REMOTE = GlobusSource.Parse(\"https://app.globus.org/file-manager?origin_id=2602486c-1e0f-47a0-be15-eec1b0ff0f96&origin_path=%2FMetasmith%2Fglobus_test5%2F\")\n",
    "# REMOTE.path = REMOTE.path.parent/\"globus_test6\"\n",
    "# REMOTE = REMOTE.AsSource()\n",
    "# REMOTE"
   ]
  },
  {
   "cell_type": "code",
   "execution_count": 8,
   "metadata": {},
   "outputs": [
    {
     "name": "stdout",
     "output_type": "stream",
     "text": [
      "[(Source(address='/home/tony/workspace/tools/Metasmith/main/local_mock/cache/xgdb_tests/test.xgdb', type=SourceType.DIRECT), Source(address='globus://2602486c-1e0f-47a0-be15-eec1b0ff0f96:/Metasmith/globus_test6', type=SourceType.GLOBUS))]\n",
      ">[(Source(address='/home/tony/workspace/tools/Metasmith/main/local_mock/cache/xgdb_tests/test.xgdb', type=SourceType.DIRECT), Source(address='globus://2602486c-1e0f-47a0-be15-eec1b0ff0f96:/Metasmith/globus_test6', type=SourceType.GLOBUS))]\n"
     ]
    }
   ],
   "source": [
    "# res = xgdb_local.SaveAs(REMOTE, label=\"msm.dev8\")"
   ]
  },
  {
   "cell_type": "code",
   "execution_count": 9,
   "metadata": {},
   "outputs": [
    {
     "data": {
      "text/plain": [
       "LogiscsResult(completed=[(Source(address='/home/tony/workspace/tools/Metasmith/main/local_mock/cache/xgdb_tests/test.xgdb', type=SourceType.DIRECT), Source(address='globus://2602486c-1e0f-47a0-be15-eec1b0ff0f96:/Metasmith/globus_test6', type=SourceType.GLOBUS))], errors=[])"
      ]
     },
     "execution_count": 9,
     "metadata": {},
     "output_type": "execute_result"
    }
   ],
   "source": [
    "# res"
   ]
  },
  {
   "cell_type": "code",
   "execution_count": 9,
   "metadata": {},
   "outputs": [],
   "source": [
    "# remotedb_path = CACHE/\"remote.xgdb\"\n",
    "\n",
    "# xgdb_remote = DataInstanceLibrary.DownloadFrom(REMOTE, remotedb_path)\n",
    "# xgdb_remote"
   ]
  },
  {
   "cell_type": "code",
   "execution_count": 10,
   "metadata": {},
   "outputs": [
    {
     "name": "stdout",
     "output_type": "stream",
     "text": [
      "./../../main/local_mock/cache/xgdb_tests/transforms/test.py\n"
     ]
    }
   ],
   "source": [
    "tr_path = CACHE/\"transforms\"\n",
    "tr_lib = TransformInstanceLibrary(tr_path)\n",
    "_path = tr_path/\"test.py\"\n",
    "if _path.exists(): _path.unlink()\n",
    "added = tr_lib.AddStub(\"test\", exist_ok=True)\n",
    "LinkifyPath(added)"
   ]
  },
  {
   "cell_type": "code",
   "execution_count": 11,
   "metadata": {},
   "outputs": [
    {
     "data": {
      "text/plain": [
       "{'transforms': DataTypeLibrary(types={'example_input': <[example_input,metasmith]:Z0ETnMgP>, 'example_output': <[example_output,metasmith]:dBmYCKSX>, 'transform': <[metasmith,transform]:yi7vyC4a>})}"
      ]
     },
     "execution_count": 11,
     "metadata": {},
     "output_type": "execute_result"
    }
   ],
   "source": [
    "tr_lib = TransformInstanceLibrary.Load(tr_path)\n",
    "tr_lib.lib.types"
   ]
  },
  {
   "cell_type": "code",
   "execution_count": 12,
   "metadata": {},
   "outputs": [
    {
     "data": {
      "text/plain": [
       "TransformInstance(protocol=<function protocol at 0x7f3c643ca840>, model={[\"example_input\"]-[\"metasmith\"]}->{[\"example_output\"]-[\"metasmith\"]}, output_signature={(D:[\"example_output\"]-[\"metasmith\"]): PosixPath('output.txt')})"
      ]
     },
     "execution_count": 12,
     "metadata": {},
     "output_type": "execute_result"
    }
   ],
   "source": [
    "inst = tr_lib.GetTransform(\"test\")\n",
    "inst"
   ]
  },
  {
   "cell_type": "code",
   "execution_count": 13,
   "metadata": {},
   "outputs": [
    {
     "data": {
      "text/plain": [
       "<{data:DNA sequence,format:FASTA}:4M4PqXwA>"
      ]
     },
     "execution_count": 13,
     "metadata": {},
     "output_type": "execute_result"
    }
   ],
   "source": [
    "types.types[\"contigs\"]"
   ]
  },
  {
   "cell_type": "code",
   "execution_count": 14,
   "metadata": {},
   "outputs": [
    {
     "data": {
      "text/plain": [
       "<[example_input,metasmith]:Z0ETnMgP>"
      ]
     },
     "execution_count": 14,
     "metadata": {},
     "output_type": "execute_result"
    }
   ],
   "source": [
    "tr_lib.GetType(\"transforms::example_input\")"
   ]
  },
  {
   "cell_type": "code",
   "execution_count": 15,
   "metadata": {},
   "outputs": [
    {
     "name": "stdout",
     "output_type": "stream",
     "text": [
      "ExecutionResult(success=True)\n",
      "/home/tony/workspace/tools/Metasmith/main/local_mock/cache/ws1/run_dev8/output.txt True\n"
     ]
    }
   ],
   "source": [
    "_work_dir = WORKSPACE_ROOT/\"main/local_mock/cache/ws1/run_dev8\"\n",
    "_work_dir.mkdir(parents=True, exist_ok=True)\n",
    "HERE = os.getcwd()\n",
    "os.chdir(_work_dir)\n",
    "with LiveShell() as shell:\n",
    "    shell.RegisterOnOut(lambda x: print(f\" |{x}\"))\n",
    "    shell.RegisterOnErr(lambda x: print(f\"E |{x}\"))\n",
    "    try:\n",
    "        for p in inst.output_signature.values():\n",
    "            p = _work_dir/p\n",
    "            if p.exists(): p.unlink()\n",
    "        res = inst.protocol(ExecutionContext(\n",
    "            inputs={\n",
    "                tr_lib.GetType(\"transforms::example_input\"): xgdb_local.location/\"contigs.fna\",\n",
    "            },\n",
    "            work_dir=_work_dir,\n",
    "            shell=shell,\n",
    "        ))\n",
    "    finally:\n",
    "        os.chdir(HERE)\n",
    "    print(res)\n",
    "for p in inst.output_signature.values():\n",
    "    p = _work_dir/p\n",
    "    print(p, p.exists())"
   ]
  },
  {
   "cell_type": "code",
   "execution_count": 16,
   "metadata": {},
   "outputs": [],
   "source": [
    "from metasmith.models.remote import SshSource\n",
    "\n",
    "remote_source = SshSource(\n",
    "    host=\"cosmos\",\n",
    "    path=\"~/downloads/metasmith_transformlib_test\"\n",
    ").AsSource()\n",
    "\n",
    "tr_lib.lib.SaveAs(\n",
    "    dest = remote_source,\n",
    ")"
   ]
  },
  {
   "cell_type": "code",
   "execution_count": 17,
   "metadata": {},
   "outputs": [
    {
     "data": {
      "text/plain": [
       "{'transforms': DataTypeLibrary(types={'example_input': <[example_input,metasmith]:Z0ETnMgP>, 'example_output': <[example_output,metasmith]:dBmYCKSX>, 'transform': <[metasmith,transform]:yi7vyC4a>})}"
      ]
     },
     "execution_count": 17,
     "metadata": {},
     "output_type": "execute_result"
    }
   ],
   "source": [
    "tr_remote = TransformInstanceLibrary.LoadFrom(\n",
    "    src = remote_source,\n",
    "    dest = WORKSPACE_ROOT/\"main/local_mock/cache/xgdb_tests/transforms.remote\",\n",
    ")\n",
    "tr_remote.lib.types"
   ]
  },
  {
   "cell_type": "code",
   "execution_count": 20,
   "metadata": {},
   "outputs": [
    {
     "data": {
      "text/plain": [
       "{(D:[\"example_output\"]-[\"metasmith\"]): PosixPath('output.txt')}"
      ]
     },
     "execution_count": 20,
     "metadata": {},
     "output_type": "execute_result"
    }
   ],
   "source": [
    "inst_remote = tr_remote.GetTransform(\"test\")\n",
    "inst_remote.output_signature"
   ]
  },
  {
   "cell_type": "code",
   "execution_count": 21,
   "metadata": {},
   "outputs": [
    {
     "name": "stdout",
     "output_type": "stream",
     "text": [
      "ExecutionResult(success=True)\n",
      "/home/tony/workspace/tools/Metasmith/main/local_mock/cache/ws1/run_dev8.remote/output.txt True\n"
     ]
    }
   ],
   "source": [
    "_work_dir = WORKSPACE_ROOT/\"main/local_mock/cache/ws1/run_dev8.remote\"\n",
    "_work_dir.mkdir(parents=True, exist_ok=True)\n",
    "HERE = os.getcwd()\n",
    "os.chdir(_work_dir)\n",
    "with LiveShell() as shell:\n",
    "    shell.RegisterOnOut(lambda x: print(f\" |{x}\"))\n",
    "    shell.RegisterOnErr(lambda x: print(f\"E |{x}\"))\n",
    "    try:\n",
    "        for p in inst_remote.output_signature.values():\n",
    "            p = _work_dir/p\n",
    "            if p.exists(): p.unlink()\n",
    "        res = inst_remote.protocol(ExecutionContext(\n",
    "            inputs={\n",
    "                tr_lib.GetType(\"transforms::example_input\"): xgdb_local.location/\"contigs.fna\",\n",
    "            },\n",
    "            work_dir=_work_dir,\n",
    "            shell=shell,\n",
    "        ))\n",
    "    finally:\n",
    "        os.chdir(HERE)\n",
    "    print(res)\n",
    "for p in inst_remote.output_signature.values():\n",
    "    p = _work_dir/p\n",
    "    print(p, p.exists())"
   ]
  }
 ],
 "metadata": {
  "kernelspec": {
   "display_name": "p312",
   "language": "python",
   "name": "python3"
  },
  "language_info": {
   "codemirror_mode": {
    "name": "ipython",
    "version": 3
   },
   "file_extension": ".py",
   "mimetype": "text/x-python",
   "name": "python",
   "nbconvert_exporter": "python",
   "pygments_lexer": "ipython3",
   "version": "3.12.8"
  }
 },
 "nbformat": 4,
 "nbformat_minor": 2
}
