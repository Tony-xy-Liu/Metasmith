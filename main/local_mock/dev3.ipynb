{
 "cells": [
  {
   "cell_type": "markdown",
   "metadata": {},
   "source": [
    "setup and import files into DataInstanceLibrary"
   ]
  },
  {
   "cell_type": "code",
   "execution_count": 1,
   "metadata": {},
   "outputs": [],
   "source": [
    "from __future__ import annotations\n",
    "from dataclasses import dataclass, field\n",
    "\n",
    "from metasmith.models.solver import Endpoint, Namespace\n",
    "from metasmith.models.libraries import *\n",
    "\n",
    "from local.utils import LinkifyPath\n",
    "from local.constants import WORKSPACE_ROOT\n",
    "CACHE = WORKSPACE_ROOT/\"main/local_mock/cache\""
   ]
  },
  {
   "cell_type": "code",
   "execution_count": 2,
   "metadata": {},
   "outputs": [
    {
     "name": "stdout",
     "output_type": "stream",
     "text": [
      "./../../main/local_mock/prototypes/metagenomics.dev3.yml\n"
     ]
    },
    {
     "data": {
      "text/plain": [
       "6"
      ]
     },
     "execution_count": 2,
     "metadata": {},
     "output_type": "execute_result"
    }
   ],
   "source": [
    "_types = DataTypeLibrary(\n",
    "    source = WORKSPACE_ROOT/\"main/local_mock/prototypes/metagenomics.dev3.yml\",\n",
    ")\n",
    "_types[\"contigs\"] = DataType(dict(\n",
    "    format=\"FASTA\",\n",
    "    data=\"DNA sequence\"\n",
    "))\n",
    "_types[\"orfs_faa\"] = DataType(dict(\n",
    "    format=\"FASTA\",\n",
    "    data=\"Amino acid sequence\"\n",
    "))\n",
    "_types[\"protein_reference_diamond\"] = DataType(dict(\n",
    "    format=\".dmnd\",\n",
    "    data=\"database reference\"\n",
    "))\n",
    "_types[\"oci_image_diamond\"] = DataType(dict(\n",
    "    format=\"OCI\",\n",
    "    data=\"software contaienr\",\n",
    "    provides=[\"diamond\"]\n",
    "))\n",
    "_types[\"oci_image_pprodigal\"] = DataType(dict(\n",
    "    format=\"OCI\", \n",
    "    data=\"software contaienr\",\n",
    "    provides=[\"pprodigal\"]\n",
    "))\n",
    "_types[\"orf_annotations\"] = DataType(dict(\n",
    "    format=\"CSV\",\n",
    "    data=\"Protein features\"\n",
    "))\n",
    "_types.Save()\n",
    "LinkifyPath(_types.source)\n",
    "types = DataTypeLibrary.Load(_types.source)\n",
    "len(types)"
   ]
  },
  {
   "cell_type": "code",
   "execution_count": 3,
   "metadata": {},
   "outputs": [
    {
     "name": "stdout",
     "output_type": "stream",
     "text": [
      "./../../main/local_mock/cache/test.xgdb/info.yml\n"
     ]
    }
   ],
   "source": [
    "xgdb_path = CACHE/\"test.xgdb\"\n",
    "_xgdb = DataInstanceLibrary(xgdb_path)\n",
    "refdb = DataInstanceLibrary(CACHE/\"ref.xgdb\")\n",
    "_xgdb.ImportDataInstance(WORKSPACE_ROOT/\"scratch/test_ws/data/local/example.fna\", types[\"contigs\"], overwrite=True)\n",
    "refdb.ImportDataInstance(WORKSPACE_ROOT/\"scratch/test_ws/data/local/uniprot_sprot.dmnd\", types[\"protein_reference_diamond\"], overwrite=True)\n",
    "refdb.ImportDataInstance(WORKSPACE_ROOT/\"scratch/test_ws/data/local/diamond.oci.uri\", types[\"oci_image_diamond\"], overwrite=True)\n",
    "refdb.ImportDataInstance(WORKSPACE_ROOT/\"scratch/test_ws/data/local/pprodigal.oci.uri\", types[\"oci_image_pprodigal\"], overwrite=True)\n",
    "_xgdb.Save()\n",
    "refdb.Save()\n",
    "LinkifyPath(_xgdb._index_path())\n",
    "xgdb = DataInstanceLibrary.Load(_xgdb.source)"
   ]
  },
  {
   "cell_type": "code",
   "execution_count": 4,
   "metadata": {},
   "outputs": [
    {
     "name": "stdout",
     "output_type": "stream",
     "text": [
      "diamond.py <class 'metasmith.models.libraries.TransformInstance'>\n",
      "pprodigal.py <class 'metasmith.models.libraries.TransformInstance'>\n"
     ]
    }
   ],
   "source": [
    "trlib = TransformInstanceLibrary.Load([\n",
    "    Path(\"./transforms/simple_1\"),\n",
    "    # Path(\"./transforms/dupe_test\"),\n",
    "])\n",
    "for k, v in trlib:\n",
    "    print(k.name, type(v))"
   ]
  },
  {
   "cell_type": "code",
   "execution_count": 5,
   "metadata": {},
   "outputs": [
    {
     "data": {
      "text/plain": [
       "{PosixPath('example.fna'): DataInstance(source=PosixPath('example.fna'), type=DataType(properties={'data': 'DNA sequence', 'format': 'FASTA'}, lineage=[]))}"
      ]
     },
     "execution_count": 5,
     "metadata": {},
     "output_type": "execute_result"
    }
   ],
   "source": [
    "xgdb.manifest"
   ]
  },
  {
   "cell_type": "code",
   "execution_count": 6,
   "metadata": {},
   "outputs": [
    {
     "ename": "AttributeError",
     "evalue": "'DataType' object has no attribute 'AsEndpoint'",
     "output_type": "error",
     "traceback": [
      "\u001b[0;31m---------------------------------------------------------------------------\u001b[0m",
      "\u001b[0;31mAttributeError\u001b[0m                            Traceback (most recent call last)",
      "Cell \u001b[0;32mIn[6], line 54\u001b[0m\n\u001b[1;32m     52\u001b[0m _given_dict: \u001b[38;5;28mdict\u001b[39m[DataInstance, Endpoint] \u001b[38;5;241m=\u001b[39m {}\n\u001b[1;32m     53\u001b[0m \u001b[38;5;28;01mfor\u001b[39;00m path, x \u001b[38;5;129;01min\u001b[39;00m [x \u001b[38;5;28;01mfor\u001b[39;00m g \u001b[38;5;129;01min\u001b[39;00m given \u001b[38;5;28;01mfor\u001b[39;00m x \u001b[38;5;129;01min\u001b[39;00m g]:\n\u001b[0;32m---> 54\u001b[0m     e \u001b[38;5;241m=\u001b[39m \u001b[43mx\u001b[49m\u001b[38;5;241;43m.\u001b[39;49m\u001b[43mtype\u001b[49m\u001b[38;5;241;43m.\u001b[39;49m\u001b[43mAsEndpoint\u001b[49m(_namespace)\n\u001b[1;32m     55\u001b[0m     _given_dict[x] \u001b[38;5;241m=\u001b[39m e\n\u001b[1;32m     59\u001b[0m _given_dict\n",
      "\u001b[0;31mAttributeError\u001b[0m: 'DataType' object has no attribute 'AsEndpoint'"
     ]
    }
   ],
   "source": [
    "from metasmith.models.solver import Transform\n",
    "from metasmith.solver import _solve_by_bounded_dfs\n",
    "\n",
    "@dataclass\n",
    "class WorkflowStep:\n",
    "    key: str\n",
    "    transform_key: str\n",
    "    uses: list[tuple[DataInstance, Endpoint]]\n",
    "    produces: list[tuple[DataInstance, Endpoint]]\n",
    "    transform: TransformInstance | Path\n",
    "\n",
    "@dataclass\n",
    "class WorkflowPlan:\n",
    "    given: list[tuple[DataInstance, Endpoint]]\n",
    "    targets: list[tuple[DataInstance, Endpoint]]\n",
    "    steps: list[WorkflowStep]\n",
    "\n",
    "    def __len__(self):\n",
    "        return len(self.steps)\n",
    "    \n",
    "    @classmethod\n",
    "    def Generate(\n",
    "        cls,\n",
    "        given: Iterable[DataInstanceLibrary], transforms: TransformInstanceLibrary, targets: DataTypeLibrary,\n",
    "        seed: int=42,\n",
    "    ):\n",
    "        _namespace = Namespace(seed=seed)\n",
    "        _given = given.AsEndpoints(_namespace)\n",
    "        # _target = targets.AddAsDependencies(Transform(_namespace))\n",
    "        # _transforms = transforms.AsTransforms(_namespace)\n",
    "\n",
    "        # solutions = _solve_by_bounded_dfs(\n",
    "        #     _given.keys(),\n",
    "\n",
    "\n",
    "        # )\n",
    "\n",
    "        pass\n",
    "\n",
    "given=[xgdb, refdb]\n",
    "transforms=trlib\n",
    "targets=[\n",
    "    types[\"orf_annotations\"].WithLineage([\n",
    "        # xgdb.Get(types[\"contigs\"]),\n",
    "        xgdb[\"example.fna\"].type,\n",
    "    ]),\n",
    "]\n",
    "seed=42\n",
    "_run_path = CACHE/\"ws1/run_dev3\"\n",
    "_run_path.mkdir(parents=True, exist_ok=True)\n",
    "_namespace = Namespace(seed=seed)\n",
    "_given_dict: dict[Endpoint, DataInstance] = {}\n",
    "for _map in [lib.AsEndpoints(_namespace) for lib in given]:\n",
    "    _given_dict.update(_map)\n",
    "\n",
    "\n",
    "\n",
    "\n",
    "_given_dict"
   ]
  }
 ],
 "metadata": {
  "kernelspec": {
   "display_name": "p312",
   "language": "python",
   "name": "python3"
  },
  "language_info": {
   "codemirror_mode": {
    "name": "ipython",
    "version": 3
   },
   "file_extension": ".py",
   "mimetype": "text/x-python",
   "name": "python",
   "nbconvert_exporter": "python",
   "pygments_lexer": "ipython3",
   "version": "3.12.8"
  }
 },
 "nbformat": 4,
 "nbformat_minor": 2
}
