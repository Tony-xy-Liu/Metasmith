{
 "cells": [
  {
   "cell_type": "markdown",
   "metadata": {},
   "source": [
    "enable lineage constraint"
   ]
  },
  {
   "cell_type": "code",
   "execution_count": 1,
   "metadata": {},
   "outputs": [],
   "source": [
    "from __future__ import annotations\n",
    "from dataclasses import dataclass, field\n",
    "\n",
    "from metasmith.models.solver import Endpoint, Namespace, _set_default_namespace\n",
    "from metasmith.models.libraries import *\n",
    "\n",
    "from local.utils import LinkifyPath\n",
    "from local.constants import WORKSPACE_ROOT\n",
    "CACHE = WORKSPACE_ROOT/\"main/local_mock/cache\"\n",
    "\n",
    "_set_default_namespace(Namespace(seed=42))"
   ]
  },
  {
   "cell_type": "code",
   "execution_count": 2,
   "metadata": {},
   "outputs": [
    {
     "name": "stdout",
     "output_type": "stream",
     "text": [
      "./../../main/local_mock/prototypes/metagenomics.dev3.yml\n"
     ]
    },
    {
     "data": {
      "text/plain": [
       "6"
      ]
     },
     "execution_count": 2,
     "metadata": {},
     "output_type": "execute_result"
    }
   ],
   "source": [
    "_types = DataTypeLibrary(\n",
    "    source = WORKSPACE_ROOT/\"main/local_mock/prototypes/metagenomics.dev3.yml\",\n",
    ")\n",
    "_types[\"contigs\"] = Endpoint.FromDict(dict(\n",
    "    format=\"FASTA\",\n",
    "    data=\"DNA sequence\"\n",
    "))\n",
    "_types[\"orfs_faa\"] = Endpoint.FromDict(dict(\n",
    "    format=\"FASTA\",\n",
    "    data=\"Amino acid sequence\"\n",
    "))\n",
    "_types[\"protein_reference_diamond\"] = Endpoint.FromDict(dict(\n",
    "    format=\".dmnd\",\n",
    "    data=\"database reference\"\n",
    "))\n",
    "_types[\"oci_image_diamond\"] = Endpoint.FromDict(dict(\n",
    "    format=\"OCI\",\n",
    "    data=\"software container\",\n",
    "    provides=[\"diamond\"]\n",
    "))\n",
    "_types[\"oci_image_pprodigal\"] = Endpoint.FromDict(dict(\n",
    "    format=\"OCI\", \n",
    "    data=\"software container\",\n",
    "    provides=[\"pprodigal\"]\n",
    "))\n",
    "_types[\"orf_annotations\"] = Endpoint.FromDict(dict(\n",
    "    format=\"CSV\",\n",
    "    data=\"Protein features\"\n",
    "))\n",
    "_types.Save()\n",
    "LinkifyPath(_types.source)\n",
    "types = DataTypeLibrary.Load(_types.source)\n",
    "len(types)"
   ]
  },
  {
   "cell_type": "code",
   "execution_count": 3,
   "metadata": {},
   "outputs": [
    {
     "data": {
      "text/plain": [
       "{'contigs': <{\"data\":\"DNA sequence\"},{\"format\":\"FASTA\"}:5leRQ>,\n",
       " 'orfs_faa': <{\"data\":\"Amino acid sequence\"},{\"format\":\"FASTA\"}:r5hC5>,\n",
       " 'protein_reference_diamond': <{\"data\":\"database reference\"},{\"format\":\".dmnd\"}:Wyjli>,\n",
       " 'oci_image_diamond': <{\"data\":\"software container\"},{\"format\":\"OCI\"},{\"provides\":[\"diamond\"]}:mV7qR>,\n",
       " 'oci_image_pprodigal': <{\"data\":\"software container\"},{\"format\":\"OCI\"},{\"provides\":[\"pprodigal\"]}:VMBvm>,\n",
       " 'orf_annotations': <{\"data\":\"Protein features\"},{\"format\":\"CSV\"}:dOpXR>}"
      ]
     },
     "execution_count": 3,
     "metadata": {},
     "output_type": "execute_result"
    }
   ],
   "source": [
    "types.types"
   ]
  },
  {
   "cell_type": "code",
   "execution_count": 4,
   "metadata": {},
   "outputs": [
    {
     "name": "stdout",
     "output_type": "stream",
     "text": [
      "./../../main/local_mock/cache/test.xgdb/info.yml\n"
     ]
    }
   ],
   "source": [
    "xgdb_path = CACHE/\"test.xgdb\"\n",
    "_xgdb = DataInstanceLibrary(xgdb_path)\n",
    "refdb = DataInstanceLibrary(CACHE/\"ref.xgdb\")\n",
    "_xgdb.ImportDataInstance(WORKSPACE_ROOT/\"scratch/test_ws/data/local/example.fna\", types[\"contigs\"], overwrite=True)\n",
    "refdb.ImportDataInstance(WORKSPACE_ROOT/\"scratch/test_ws/data/local/uniprot_sprot.dmnd\", types[\"protein_reference_diamond\"], overwrite=True)\n",
    "refdb.ImportDataInstance(WORKSPACE_ROOT/\"scratch/test_ws/data/local/diamond.oci.uri\", types[\"oci_image_diamond\"], overwrite=True)\n",
    "refdb.ImportDataInstance(WORKSPACE_ROOT/\"scratch/test_ws/data/local/pprodigal.oci.uri\", types[\"oci_image_pprodigal\"], overwrite=True)\n",
    "_xgdb.Save()\n",
    "refdb.Save()\n",
    "LinkifyPath(_xgdb._index_path())\n",
    "xgdb = DataInstanceLibrary.Load(_xgdb.source)"
   ]
  },
  {
   "cell_type": "code",
   "execution_count": 5,
   "metadata": {},
   "outputs": [
    {
     "name": "stdout",
     "output_type": "stream",
     "text": [
      "diamond.py <class 'metasmith.models.libraries.TransformInstance'>\n",
      "pprodigal.py <class 'metasmith.models.libraries.TransformInstance'>\n"
     ]
    }
   ],
   "source": [
    "trlib = TransformInstanceLibrary.Load([\n",
    "    Path(\"./transforms/simple_1\"),\n",
    "    # Path(\"./transforms/dupe_test\"),\n",
    "])\n",
    "for k, v in trlib:\n",
    "    print(k.name, type(v))"
   ]
  },
  {
   "cell_type": "code",
   "execution_count": 8,
   "metadata": {},
   "outputs": [
    {
     "name": "stdout",
     "output_type": "stream",
     "text": [
      "['pprodigal.oci.uri', 'example.fna']->['orfs.faa']\n",
      "['diamond.oci.uri', 'orfs.faa', 'uniprot_sprot.dmnd']->['annotations.csv']\n"
     ]
    }
   ],
   "source": [
    "from metasmith.models.workflow import WorkflowPlan\n",
    "\n",
    "plan = WorkflowPlan.Generate(\n",
    "    given=[xgdb, refdb],\n",
    "    transforms=trlib,\n",
    "    targets=[\n",
    "        types[\"orf_annotations\"].WithLineage([\n",
    "            types[\"contigs\"],\n",
    "            # xgdb[\"example.fna\"].type,\n",
    "        ]),\n",
    "    ],\n",
    ")\n",
    "\n",
    "for step in plan.steps:\n",
    "    print([f\"{x.source}\" for x in step.uses], [f\"{x.source}\" for x in step.produces], sep=\"->\")"
   ]
  }
 ],
 "metadata": {
  "kernelspec": {
   "display_name": "p312",
   "language": "python",
   "name": "python3"
  },
  "language_info": {
   "codemirror_mode": {
    "name": "ipython",
    "version": 3
   },
   "file_extension": ".py",
   "mimetype": "text/x-python",
   "name": "python",
   "nbconvert_exporter": "python",
   "pygments_lexer": "ipython3",
   "version": "3.12.8"
  }
 },
 "nbformat": 4,
 "nbformat_minor": 2
}
