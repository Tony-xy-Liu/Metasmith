{
 "cells": [
  {
   "cell_type": "code",
   "execution_count": 1,
   "metadata": {},
   "outputs": [],
   "source": [
    "from pathlib import Path\n",
    "from metasmith.agents.presets import Agent, AGENT_SETUP_COMPLETE\n",
    "from metasmith.models.libraries import *\n",
    "from metasmith.models.remote import *\n",
    "\n",
    "from local.constants import WORKSPACE_ROOT"
   ]
  },
  {
   "cell_type": "code",
   "execution_count": 2,
   "metadata": {},
   "outputs": [],
   "source": [
    "agent = Agent(\n",
    "    setup_commands=[\n",
    "        f'echo \"{AGENT_SETUP_COMPLETE}\"',\n",
    "    ],\n",
    "    cleanup_commands=[],\n",
    "    home=Source.FromLocal(WORKSPACE_ROOT/\"main/local_mock/cache/local_home\"),\n",
    ")\n",
    "\n",
    "# agent.Deploy()"
   ]
  },
  {
   "cell_type": "code",
   "execution_count": 3,
   "metadata": {},
   "outputs": [
    {
     "name": "stdout",
     "output_type": "stream",
     "text": [
      "transforms::transform TransformInstance(protocol=<function protocol at 0x7fdc6acc39c0>, model={{\"data\":\"software container\"}-{\"format\":\"OCI\"}-{\"provides\":\"diamond\"}},{{\"data\":\"Amino acid sequence\"}-{\"format\":\"FASTA\"}},{{\"data\":\"database reference\"}-{\"format\":\".dmnd\"}}->{{\"data\":\"Protein features\"}-{\"format\":\"CSV\"}}, output_signature={(D:{\"data\":\"Protein features\"}-{\"format\":\"CSV\"}): PosixPath('annotations.csv')}, name='diamond')\n",
      "transforms::transform TransformInstance(protocol=<function protocol at 0x7fdc6acc3a60>, model={{\"data\":\"software container\"}-{\"format\":\"OCI\"}-{\"provides\":\"pprodigal\"}},{{\"data\":\"DNA sequence\"}-{\"format\":\"FASTA\"}}->{{\"data\":\"Amino acid sequence\"}-{\"format\":\"FASTA\"}}, output_signature={(D:{\"data\":\"Amino acid sequence\"}-{\"format\":\"FASTA\"}): PosixPath('orfs.faa')}, name='pprodigal')\n"
     ]
    }
   ],
   "source": [
    "trlib = TransformInstanceLibrary.Load(\"./transforms/simple_1\")\n",
    "for path, name, tr in trlib.IterateTransforms():\n",
    "    print(name, tr)"
   ]
  }
 ],
 "metadata": {
  "kernelspec": {
   "display_name": "msm",
   "language": "python",
   "name": "python3"
  },
  "language_info": {
   "codemirror_mode": {
    "name": "ipython",
    "version": 3
   },
   "file_extension": ".py",
   "mimetype": "text/x-python",
   "name": "python",
   "nbconvert_exporter": "python",
   "pygments_lexer": "ipython3",
   "version": "3.12.8"
  }
 },
 "nbformat": 4,
 "nbformat_minor": 2
}
