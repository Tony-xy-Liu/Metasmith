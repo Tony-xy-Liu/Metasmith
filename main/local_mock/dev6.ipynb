{
 "cells": [
  {
   "cell_type": "code",
   "execution_count": null,
   "metadata": {},
   "outputs": [],
   "source": [
    "from pathlib import Path\n",
    "from dataclasses import dataclass\n",
    "from metasmith import DataInstanceLibrary, Endpoint, DataTypeLibrary, TransformInstanceLibrary\n",
    "from metasmith.hashing import KeyGenerator\n",
    "\n",
    "from local.constants import WORKSPACE_ROOT\n",
    "from local.utils import LinkifyPath\n",
    "CACHE = WORKSPACE_ROOT/\"main/local_mock/cache\""
   ]
  },
  {
   "cell_type": "code",
   "execution_count": null,
   "metadata": {},
   "outputs": [],
   "source": [
    "@dataclass\n",
    "class ResourceService:\n",
    "    pass\n",
    "\n",
    "class GlobusService:\n",
    "    pass\n",
    "\n",
    "class FileSystemService:\n",
    "    pass\n",
    "\n",
    "@dataclass\n",
    "class DataInstance:\n",
    "    source: Path\n",
    "    type: Endpoint\n",
    "\n",
    "    def __hash__(self) -> int:\n",
    "        if not hasattr(self, \"_hash\"):\n",
    "            _hash, _key = KeyGenerator.FromStr(str(self.source)+''.join(self.type.properties))\n",
    "            self._hash: int = _hash\n",
    "        return self._hash\n",
    "\n",
    "    @classmethod\n",
    "    def Unpack(cls, d: dict):\n",
    "        return cls(\n",
    "            source=Path(d[\"source\"]),\n",
    "            type=Endpoint.Unpack(d[\"type\"]),\n",
    "        )\n",
    "    \n",
    "    def Pack(self, parents=False):\n",
    "        return {\n",
    "            \"source\": str(self.source),\n",
    "            \"type\": self.type.Pack(parents=parents),\n",
    "        }\n",
    "def ImportDataInstance(self, source: Path|str, type: Endpoint, local_path: Path=None, copy: bool=False, overwrite: bool=False):\n",
    "    pass\n",
    "\n",
    "import re\n",
    "url1 = \"https://app.globus.org/file-manager?origin_id=2602486c-1e0f-47a0-be15-eec1b0ff0f96&origin_path=%2FMetasmith%2Fglobus_test1%2F\"\n",
    "url2 = \"https://g-743d49.88cee.8443.data.globus.org/Metasmith/globus_test1/x.txt\"\n",
    "\n",
    "url1"
   ]
  },
  {
   "cell_type": "code",
   "execution_count": null,
   "metadata": {},
   "outputs": [],
   "source": [
    "xgdb = DataInstanceLibrary(source=\"./cache/globus_test.xgdb\")\n",
    "xgdb.ImportDataInstance(\n",
    "    source=\"https://g-743d49.88cee.8443.data.globus.org/Metasmith/globus_test1/x.txt\"\n",
    ")"
   ]
  },
  {
   "cell_type": "code",
   "execution_count": null,
   "metadata": {},
   "outputs": [],
   "source": [
    "import requests\n",
    "import re\n",
    "\n",
    "from local.constants import WORKSPACE_ROOT\n",
    "\n",
    "with open(WORKSPACE_ROOT/\"secrets/git_token\") as f:\n",
    "    tok = f.read().strip()\n",
    "url = f\"https://raw.githubusercontent.com/Tony-xy-Liu/Metasmith/release/main/local_mock/prototypes/metagenomics.yml\"\n",
    "res = requests.get(url, headers=dict(Authorization=f\"token {tok}\"))\n",
    "print(res.text)"
   ]
  },
  {
   "cell_type": "code",
   "execution_count": null,
   "metadata": {},
   "outputs": [],
   "source": []
  }
 ],
 "metadata": {
  "kernelspec": {
   "display_name": "msm",
   "language": "python",
   "name": "python3"
  },
  "language_info": {
   "name": "python",
   "version": "3.12.8"
  }
 },
 "nbformat": 4,
 "nbformat_minor": 2
}
