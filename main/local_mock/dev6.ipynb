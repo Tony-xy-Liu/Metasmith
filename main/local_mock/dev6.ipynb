{
 "cells": [
  {
   "cell_type": "markdown",
   "metadata": {},
   "source": [
    "a DataInstanceLibrary should be an index of pointers to DataInstances\n",
    "\n",
    "this means:\n",
    "- 2 libs can overlap, or 1 can implicitly contain a subset of the other\n",
    "- a \"bring all here\" function can be used to stage (nextflow jobs, from globus, etc.)\n",
    "- to function as an xgdb, an external \"edge\" library should describe how data instances are connected"
   ]
  },
  {
   "cell_type": "code",
   "execution_count": 1,
   "metadata": {},
   "outputs": [],
   "source": [
    "from pathlib import Path\n",
    "from dataclasses import dataclass\n",
    "from metasmith.models.libraries import DataInstanceLibrary,DataTypeLibrary, TransformInstanceLibrary\n",
    "from metasmith.models.solver import Endpoint \n",
    "from metasmith.hashing import KeyGenerator\n",
    "\n",
    "from local.constants import WORKSPACE_ROOT\n",
    "from local.utils import LinkifyPath\n",
    "CACHE = WORKSPACE_ROOT/\"main/local_mock/cache\""
   ]
  },
  {
   "cell_type": "code",
   "execution_count": 2,
   "metadata": {},
   "outputs": [
    {
     "data": {
      "text/plain": [
       "'28ea4f3c-8d9d-11ee-8c73-fd88ce9321ad'"
      ]
     },
     "execution_count": 2,
     "metadata": {},
     "output_type": "execute_result"
    }
   ],
   "source": [
    "from metasmith.coms.ipc import LiveShell\n",
    "\n",
    "with LiveShell() as shell:\n",
    "    out, err = shell.Exec(\"globus endpoint local-id\", history=True)\n",
    "    assert len(err) == 0, \"\\n\".join(err)\n",
    "    assert len(out) == 1, \"\\n\".join(out)\n",
    "    LOCAL_ID = out[0].strip()\n",
    "    \n",
    "LOCAL_ID"
   ]
  },
  {
   "cell_type": "code",
   "execution_count": 3,
   "metadata": {},
   "outputs": [
    {
     "name": "stdout",
     "output_type": "stream",
     "text": [
      "globus://2602486c-1e0f-47a0-be15-eec1b0ff0f96:/Metasmith/globus_test1\n",
      "globus://28ea4f3c-8d9d-11ee-8c73-fd88ce9321ad:/home/tony/workspace/tools/Metasmith/main/local_mock/dev5.ipynb\n"
     ]
    }
   ],
   "source": [
    "from metasmith.models.remote import GlobusSource\n",
    "\n",
    "for address in [\n",
    "    \"https://app.globus.org/file-manager?origin_id=2602486c-1e0f-47a0-be15-eec1b0ff0f96&origin_path=%2FMetasmith%2Fglobus_test1%2F\",\n",
    "    # \"https://g-743d49.88cee.8443.data.globus.org/Metasmith/globus_test1/x.txt\", # this requires a search\n",
    "    \"globus://28ea4f3c-8d9d-11ee-8c73-fd88ce9321ad:/home/tony/workspace/tools/Metasmith/main/local_mock/dev5.ipynb\"\n",
    "]:\n",
    "    x = GlobusSource.Parse(address)\n",
    "    print(x)"
   ]
  },
  {
   "cell_type": "code",
   "execution_count": 6,
   "metadata": {},
   "outputs": [
    {
     "data": {
      "text/plain": [
       "[]"
      ]
     },
     "execution_count": 6,
     "metadata": {},
     "output_type": "execute_result"
    }
   ],
   "source": [
    "from metasmith.models.remote import Source, SourceType, Logistics\n",
    "\n",
    "_kg = KeyGenerator()\n",
    "label = f\"msm.dev6-{_kg.GenerateUID(l=3)}\"\n",
    "import shutil\n",
    "TEST_DIR = WORKSPACE_ROOT/\"main/local_mock/cache/logistics\"\n",
    "# if TEST_DIR.exists(): shutil.rmtree(TEST_DIR)\n",
    "# TEST_DIR.mkdir(parents=True, exist_ok=True)\n",
    "mover = Logistics()\n",
    "# mover.QueueTransfer(\n",
    "#     src=Source(address=\"https://g-743d49.88cee.8443.data.globus.org/Metasmith/globus_test1/x.txt\", type=SourceType.GLOBUS),\n",
    "#     dest=Source(address=TEST_DIR/\"x.txt\", type=SourceType.DIRECT)\n",
    "# )\n",
    "# mover.QueueTransfer(\n",
    "#     src=Source(address=\"https://app.globus.org/file-manager?origin_id=2602486c-1e0f-47a0-be15-eec1b0ff0f96&origin_path=%2FMetasmith%2Fglobus_test1%2F\", type=SourceType.GLOBUS),\n",
    "#     dest=Source(address=TEST_DIR/\"test/\", type=SourceType.DIRECT)\n",
    "# )\n",
    "mover.QueueTransfer(\n",
    "    src=Source(address=WORKSPACE_ROOT/\"scratch/test_ws/data/local/\", type=SourceType.DIRECT),\n",
    "    dest=Source(address=\"https://app.globus.org/file-manager?origin_id=2602486c-1e0f-47a0-be15-eec1b0ff0f96&origin_path=%2FMetasmith%2Fglobus_test2%2F\", type=SourceType.GLOBUS),\n",
    ")\n",
    "# mover.QueueTransfer(\n",
    "#     src=Source(address=WORKSPACE_ROOT/\"scratch/test_ws/data/local/example.fna\", type=SourceType.DIRECT),\n",
    "#     dest=Source(address=TEST_DIR/\"example.symlink.fna\", type=SourceType.SYMLINK)\n",
    "# )\n",
    "# mover.QueueTransfer(\n",
    "#     src=Source(address=WORKSPACE_ROOT/\"scratch/test_ws/data/local/example.fna\", type=SourceType.DIRECT),\n",
    "#     dest=Source(address=TEST_DIR/\"example.direct.fna\", type=SourceType.DIRECT)\n",
    "# )\n",
    "print(label)\n",
    "mover.ExecuteTransfers(label=label)"
   ]
  },
  {
   "cell_type": "code",
   "execution_count": null,
   "metadata": {},
   "outputs": [
    {
     "data": {
      "text/plain": [
       "(65479678594925636049056182858251969315311511450188536163598884859028701888535,\n",
       " 'DBR5OxCPHmC2mA6KsLEq1fXeZBrKKE2Z')"
      ]
     },
     "execution_count": 29,
     "metadata": {},
     "output_type": "execute_result"
    }
   ],
   "source": [
    "KeyGenerator.FromHex(\"90c42f49e4b1b50087a48a636716ffa65507af803b19c7973c42d02ced8ac017\", l=32)"
   ]
  },
  {
   "cell_type": "code",
   "execution_count": null,
   "metadata": {},
   "outputs": [
    {
     "data": {
      "text/plain": [
       "(65479678594925636049056182858251969315311511450188536163598884859028701888535,\n",
       " 'KE2Z')"
      ]
     },
     "execution_count": 30,
     "metadata": {},
     "output_type": "execute_result"
    }
   ],
   "source": [
    "KeyGenerator.FromHex(\"90c42f49e4b1b50087a48a636716ffa65507af803b19c7973c42d02ced8ac017\", l=4)"
   ]
  }
 ],
 "metadata": {
  "kernelspec": {
   "display_name": "msm",
   "language": "python",
   "name": "python3"
  },
  "language_info": {
   "codemirror_mode": {
    "name": "ipython",
    "version": 3
   },
   "file_extension": ".py",
   "mimetype": "text/x-python",
   "name": "python",
   "nbconvert_exporter": "python",
   "pygments_lexer": "ipython3",
   "version": "3.12.8"
  }
 },
 "nbformat": 4,
 "nbformat_minor": 2
}
