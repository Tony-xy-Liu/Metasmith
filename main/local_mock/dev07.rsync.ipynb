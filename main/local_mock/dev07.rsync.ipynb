{
 "cells": [
  {
   "cell_type": "markdown",
   "metadata": {},
   "source": [
    "for convenience, sync the src code to sockeye so that the container doesn't need to be copied on every change"
   ]
  },
  {
   "cell_type": "code",
   "execution_count": 5,
   "metadata": {},
   "outputs": [],
   "source": [
    "from metasmith.coms.ipc import LiveShell\n",
    "from local.constants import WORKSPACE_ROOT"
   ]
  },
  {
   "cell_type": "code",
   "execution_count": 6,
   "metadata": {},
   "outputs": [
    {
     "name": "stdout",
     "output_type": "stream",
     "text": [
      "sending incremental file list\n",
      "sent 1,516 bytes  received 22 bytes  1,025.33 bytes/sec\n",
      "total size is 130,831  speedup is 85.07\n"
     ]
    }
   ],
   "source": [
    "# remote = \"sockeye\"\n",
    "# remote_home = \"~/scratch/metasmith\"\n",
    "\n",
    "remote = \"cosmos\"\n",
    "remote_home = \"/home/tony/workspace/metasmith_home\"\n",
    "\n",
    "with LiveShell() as shell:\n",
    "    shell.RegisterOnOut(lambda x: print(x))\n",
    "    shell.RegisterOnErr(lambda x: print(f\"E: {x}\"))\n",
    "    # shell.Exec(\"ssh sockeye\")\n",
    "    # shell.Exec(\"mkdir -p {remote_home}/dev/relay\")\n",
    "    # shell.Exec(\"exit\")\n",
    "    # shell.Exec(f\"rsync -acvp {WORKSPACE_ROOT}/main/relay_agent/dist/relay {remote}:{remote_home}/relay/server\")\n",
    "    # shell.Exec(f\"rsync -acvp {WORKSPACE_ROOT}/metasmith.sif {remote}:{remote_home}/metasmith.sif\")\n",
    "    shell.Exec(f\"rsync -acvp --exclude=__pycache__ {WORKSPACE_ROOT}/src/metasmith {remote}:{remote_home}/dev/\")\n",
    "    # shell.Exec(f\"rsync -acvp --exclude=__pycache__ {WORKSPACE_ROOT}/src/metasmith/nextflow_config {remote}:{remote_home}/lib/\")\n"
   ]
  },
  {
   "cell_type": "code",
   "execution_count": 7,
   "metadata": {},
   "outputs": [],
   "source": [
    "# with LiveShell() as shell:\n",
    "#     shell.RegisterOnOut(lambda x: print(x))\n",
    "#     shell.RegisterOnErr(lambda x: print(f\"E: {x}\"))\n",
    "#     shell.Exec(\n",
    "#         f\"\"\"\n",
    "#         cd /home/tony/workspace/tools/Metasmith/main/local_mock/cache/ws1/run_container\n",
    "#         apptainer run --no-home --workdir /ws \\\n",
    "#             --bind ./:/ws,.msm:/msm_home \\\n",
    "#             --bind ./:/agent_home \\\n",
    "#             --bind /home/tony/workspace/tools/Metasmith/src/metasmith:/opt/conda/envs/metasmith_env/lib/python3.12/site-packages/metasmith \\\n",
    "#             /home/tony/workspace/tools/Metasmith/metasmith.sif nextflow\n",
    "\n",
    "#         apptainer run -B ./:/ws\n",
    "#         cd ~/downloads \n",
    "#         mkdir x && cd x\n",
    "#         /home/tony/workspace/metasmith/lib/msm_bootstrap\n",
    "#         \"\"\"\n",
    "#     )"
   ]
  }
 ],
 "metadata": {
  "kernelspec": {
   "display_name": "msm",
   "language": "python",
   "name": "python3"
  },
  "language_info": {
   "codemirror_mode": {
    "name": "ipython",
    "version": 3
   },
   "file_extension": ".py",
   "mimetype": "text/x-python",
   "name": "python",
   "nbconvert_exporter": "python",
   "pygments_lexer": "ipython3",
   "version": "3.12.8"
  }
 },
 "nbformat": 4,
 "nbformat_minor": 2
}
