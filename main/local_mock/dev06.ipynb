{
 "cells": [
  {
   "cell_type": "markdown",
   "metadata": {},
   "source": [
    "a DataInstanceLibrary should be an index of pointers to DataInstances\n",
    "\n",
    "this means:\n",
    "- 2 libs can overlap, or 1 can implicitly contain a subset of the other\n",
    "- a \"bring all here\" function can be used to stage (nextflow jobs, from globus, etc.)\n",
    "- to function as an xgdb, an external \"edge\" library should describe how data instances are connected"
   ]
  },
  {
   "cell_type": "markdown",
   "metadata": {},
   "source": [
    "# This has been made obsolete by dev09"
   ]
  },
  {
   "cell_type": "code",
   "execution_count": 1,
   "metadata": {},
   "outputs": [],
   "source": [
    "from pathlib import Path\n",
    "from dataclasses import dataclass\n",
    "from metasmith.models.libraries import DataInstanceLibrary,DataTypeLibrary, TransformInstanceLibrary\n",
    "from metasmith.models.solver import Endpoint \n",
    "from metasmith.hashing import KeyGenerator\n",
    "\n",
    "from local.constants import WORKSPACE_ROOT\n",
    "from local.utils import LinkifyPath\n",
    "CACHE = WORKSPACE_ROOT/\"main/local_mock/cache\""
   ]
  },
  {
   "cell_type": "code",
   "execution_count": null,
   "metadata": {},
   "outputs": [],
   "source": [
    "assert False, \"stop notebook\""
   ]
  },
  {
   "cell_type": "code",
   "execution_count": 2,
   "metadata": {},
   "outputs": [
    {
     "data": {
      "text/plain": [
       "'28ea4f3c-8d9d-11ee-8c73-fd88ce9321ad'"
      ]
     },
     "execution_count": 2,
     "metadata": {},
     "output_type": "execute_result"
    }
   ],
   "source": [
    "from metasmith.coms.ipc import LiveShell\n",
    "\n",
    "with LiveShell() as shell:\n",
    "    res = shell.Exec(\"globus endpoint local-id\", history=True)\n",
    "    out, err = res.out, res.err\n",
    "    assert len(err) == 0, \"\\n\".join(err)\n",
    "    assert len(out) == 1, \"\\n\".join(out)\n",
    "    LOCAL_ID = out[0].strip()\n",
    "    \n",
    "LOCAL_ID"
   ]
  },
  {
   "cell_type": "code",
   "execution_count": 3,
   "metadata": {},
   "outputs": [
    {
     "name": "stdout",
     "output_type": "stream",
     "text": [
      "globus://2602486c-1e0f-47a0-be15-eec1b0ff0f96:/Metasmith/globus_test1\n",
      "2602486c-1e0f-47a0-be15-eec1b0ff0f96\n",
      "globus://28ea4f3c-8d9d-11ee-8c73-fd88ce9321ad:/home/tony/workspace/tools/Metasmith/main/local_mock/dev5.ipynb\n",
      "28ea4f3c-8d9d-11ee-8c73-fd88ce9321ad\n"
     ]
    },
    {
     "data": {
      "text/plain": [
       "'2602486c-1e0f-47a0-be15-eec1b0ff0f96'"
      ]
     },
     "execution_count": 3,
     "metadata": {},
     "output_type": "execute_result"
    }
   ],
   "source": [
    "from metasmith.models.remote import GlobusSource\n",
    "\n",
    "for i, address in enumerate([\n",
    "    \"https://app.globus.org/file-manager?origin_id=2602486c-1e0f-47a0-be15-eec1b0ff0f96&origin_path=%2FMetasmith%2Fglobus_test1%2F\",\n",
    "    # \"https://g-743d49.88cee.8443.data.globus.org/Metasmith/globus_test1/x.txt\", # this requires a search\n",
    "    \"globus://28ea4f3c-8d9d-11ee-8c73-fd88ce9321ad:/home/tony/workspace/tools/Metasmith/main/local_mock/dev5.ipynb\"\n",
    "]):\n",
    "    x = GlobusSource.Parse(address)\n",
    "    print(x)\n",
    "    print(x.endpoint)\n",
    "    if i == 0: \n",
    "        REMOTE_ID = x.endpoint\n",
    "REMOTE_ID"
   ]
  },
  {
   "cell_type": "code",
   "execution_count": 4,
   "metadata": {},
   "outputs": [
    {
     "name": "stdout",
     "output_type": "stream",
     "text": [
      "/home/tony/workspace/tools/Metasmith/scratch/test_ws/data/local/manifest.yml /Metasmith/globus_test4/manifest.yml\n",
      "/home/tony/workspace/tools/Metasmith/scratch/test_ws/data/local/diamond.oci.uri /Metasmith/globus_test4/diamond.oci.uri\n",
      "/home/tony/workspace/tools/Metasmith/scratch/test_ws/data/local/pprodigal.oci.uri /Metasmith/globus_test4/pprodigal.oci.uri\n",
      "/home/tony/workspace/tools/Metasmith/scratch/test_ws/data/local/example.fna /Metasmith/globus_test4/example.fna\n",
      "/home/tony/workspace/tools/Metasmith/scratch/test_ws/data/local/uniprot_sprot.dmnd /Metasmith/globus_test4/uniprot_sprot.dmnd\n"
     ]
    }
   ],
   "source": [
    "batch_path = CACHE/\"globus_batch.txt\"\n",
    "REMOTE_PATH = \"/Metasmith/globus_test4\"\n",
    "with open(batch_path, \"w\") as f:\n",
    "    p = WORKSPACE_ROOT/\"scratch/test_ws/data/local\"\n",
    "    lines = []\n",
    "    for x in p.glob(\"*\"):\n",
    "        x = Path(x)\n",
    "        line = f\"{x} {REMOTE_PATH}/{x.name}\"\n",
    "        lines.append(line)\n",
    "    # lines.append(f\"{p}/doesnt_exist {REMOTE_PATH}/doesnt_exist\\n\")\n",
    "    for line in lines:\n",
    "        print(line)\n",
    "        f.write(line+\"\\n\")"
   ]
  },
  {
   "cell_type": "code",
   "execution_count": 5,
   "metadata": {},
   "outputs": [],
   "source": [
    "# with LiveShell() as shell:\n",
    "#     shell.RegisterOnErr(lambda x: print(f\"E |{x}\"))\n",
    "#     # res = shell.Exec(f\"globus task show -F json {TASK_ID}\", history=True)\n",
    "#     res = shell.Exec(f\"globus ls {REMOTE_ID}:{REMOTE_PATH}\", history=True)"
   ]
  },
  {
   "cell_type": "code",
   "execution_count": 6,
   "metadata": {},
   "outputs": [
    {
     "data": {
      "text/plain": [
       "['28ea4f3c-8d9d-11ee-8c73-fd88ce9321ad']"
      ]
     },
     "execution_count": 6,
     "metadata": {},
     "output_type": "execute_result"
    }
   ],
   "source": [
    "res.out"
   ]
  },
  {
   "cell_type": "code",
   "execution_count": 7,
   "metadata": {},
   "outputs": [],
   "source": [
    "# src_ep = LOCAL_ID\n",
    "# dest_ep = REMOTE_ID\n",
    "# label = \"test.dev6\"\n",
    "\n",
    "# TASK_ID = None\n",
    "# with LiveShell() as shell:\n",
    "#     def on_out(x):\n",
    "#         print(f\"  |{x}\")\n",
    "#         K = \"Task ID\"\n",
    "#         if K in x:\n",
    "#             global TASK_ID\n",
    "#             TASK_ID = x.split(\" \")[-1].strip()\n",
    "#     shell.RegisterOnOut(on_out)\n",
    "#     shell.RegisterOnErr(lambda x: print(f\"E |{x}\"))\n",
    "#     cmd = f\"globus transfer {src_ep} {dest_ep} --batch {batch_path} --sync-level checksum\" + (f\" --label {label}\" if label else \"\")\n",
    "#     res = shell.Exec(cmd, history=True)\n",
    "# TASK_ID"
   ]
  },
  {
   "cell_type": "code",
   "execution_count": 8,
   "metadata": {},
   "outputs": [],
   "source": [
    "# import json\n",
    "\n",
    "# with LiveShell() as shell:\n",
    "#     shell.RegisterOnErr(lambda x: print(f\"E |{x}\"))\n",
    "#     # res = shell.Exec(f\"globus task show -F json {TASK_ID}\", history=True)\n",
    "#     res = shell.Exec(f\"globus task event-list --filter-errors -F json {TASK_ID}\", history=True)\n",
    "#     d = json.loads(\"\\n\".join(res.out))\n",
    "# len(d)"
   ]
  },
  {
   "cell_type": "code",
   "execution_count": 9,
   "metadata": {},
   "outputs": [],
   "source": [
    "# context_str = d[\"DATA\"][0][\"details\"]\n",
    "# context = json.loads(context_str)\n",
    "# context"
   ]
  },
  {
   "cell_type": "code",
   "execution_count": 10,
   "metadata": {},
   "outputs": [
    {
     "name": "stdout",
     "output_type": "stream",
     "text": [
      "globus://2602486c-1e0f-47a0-be15-eec1b0ff0f96:/Metasmith/globus_test1\n",
      "globus://28ea4f3c-8d9d-11ee-8c73-fd88ce9321ad:/home/tony/workspace/tools/Metasmith/main/local_mock/dev5.ipynb\n"
     ]
    }
   ],
   "source": [
    "from metasmith.models.remote import GlobusSource\n",
    "\n",
    "for address in [\n",
    "    \"https://app.globus.org/file-manager?origin_id=2602486c-1e0f-47a0-be15-eec1b0ff0f96&origin_path=%2FMetasmith%2Fglobus_test1%2F\",\n",
    "    # \"https://g-743d49.88cee.8443.data.globus.org/Metasmith/globus_test1/x.txt\", # this requires a search\n",
    "    \"globus://28ea4f3c-8d9d-11ee-8c73-fd88ce9321ad:/home/tony/workspace/tools/Metasmith/main/local_mock/dev5.ipynb\"\n",
    "]:\n",
    "    x = GlobusSource.Parse(address)\n",
    "    print(x)"
   ]
  },
  {
   "cell_type": "code",
   "execution_count": 11,
   "metadata": {},
   "outputs": [
    {
     "name": "stdout",
     "output_type": "stream",
     "text": [
      "msm.dev6-GPZ\n",
      "2025-02-27_16-53-32  | starting [1] transfers\n",
      "2025-02-27_16-53-32  | executing globus batch of [1] for [28ea4f3c-8d9d-11ee-8c73-fd88ce9321ad] -> [2602486c-1e0f-47a0-be15-eec1b0ff0f96]\n",
      "2025-02-27_16-53-32  | [/home/tony/workspace/tools/Metasmith/scratch/test_ws/data/local] -> [/Metasmith/globus_test5]\n",
      "2025-02-27_16-53-34  | Message: The transfer has been accepted and a task has been created and queued for execution\n",
      "2025-02-27_16-53-34  | Task ID: 6f6a7d3c-f56e-11ef-a288-0affeb6b961d\n",
      "2025-02-27_16-53-34  | awaiting [1] globus transfers\n"
     ]
    }
   ],
   "source": [
    "from metasmith.models.remote import Source, SourceType, Logistics\n",
    "\n",
    "_kg = KeyGenerator()\n",
    "label = f\"msm.dev6-{_kg.GenerateUID(l=3)}\"\n",
    "import shutil\n",
    "TEST_DIR = WORKSPACE_ROOT/\"main/local_mock/cache/logistics\"\n",
    "# if TEST_DIR.exists(): shutil.rmtree(TEST_DIR)\n",
    "# TEST_DIR.mkdir(parents=True, exist_ok=True)\n",
    "mover = Logistics()\n",
    "# mover.QueueTransfer(\n",
    "#     src=Source(address=\"https://g-743d49.88cee.8443.data.globus.org/Metasmith/globus_test1/x.txt\", type=SourceType.GLOBUS),\n",
    "#     dest=Source(address=TEST_DIR/\"x.txt\", type=SourceType.DIRECT)\n",
    "# )\n",
    "# mover.QueueTransfer(\n",
    "#     src=Source(address=\"https://app.globus.org/file-manager?origin_id=2602486c-1e0f-47a0-be15-eec1b0ff0f96&origin_path=%2FMetasmith%2Fglobus_test1%2F\", type=SourceType.GLOBUS),\n",
    "#     dest=Source(address=TEST_DIR/\"test/\", type=SourceType.DIRECT)\n",
    "# )\n",
    "mover.QueueTransfer(\n",
    "    src=Source(address=WORKSPACE_ROOT/\"scratch/test_ws/data/local/\", type=SourceType.DIRECT),\n",
    "    dest=Source(address=\"https://app.globus.org/file-manager?origin_id=2602486c-1e0f-47a0-be15-eec1b0ff0f96&origin_path=%2FMetasmith%2Fglobus_test5%2F\", type=SourceType.GLOBUS),\n",
    ")\n",
    "# mover.QueueTransfer(\n",
    "#     src=Source(address=WORKSPACE_ROOT/\"scratch/test_ws/data/local/example.fna\", type=SourceType.DIRECT),\n",
    "#     dest=Source(address=TEST_DIR/\"example.symlink.fna\", type=SourceType.SYMLINK)\n",
    "# )\n",
    "# mover.QueueTransfer(\n",
    "#     src=Source(address=WORKSPACE_ROOT/\"scratch/test_ws/data/local/example.fna\", type=SourceType.DIRECT),\n",
    "#     dest=Source(address=TEST_DIR/\"example.direct.fna\", type=SourceType.DIRECT)\n",
    "# )\n",
    "print(label)\n",
    "res = mover.ExecuteTransfers(label=label)"
   ]
  },
  {
   "cell_type": "code",
   "execution_count": 15,
   "metadata": {},
   "outputs": [
    {
     "data": {
      "text/plain": [
       "[(Source(address='/home/tony/workspace/tools/Metasmith/scratch/test_ws/data/local', type=SourceType.DIRECT, _hash=5606015452939407378109634166840052797944397002211028586754959945751277375584),\n",
       "  Source(address='https://app.globus.org/file-manager?origin_id=2602486c-1e0f-47a0-be15-eec1b0ff0f96&origin_path=%2FMetasmith%2Fglobus_test5%2F', type=SourceType.GLOBUS, _hash=85428222523088586099219141354108239678301974078005146985257544608011953527751))]"
      ]
     },
     "execution_count": 15,
     "metadata": {},
     "output_type": "execute_result"
    }
   ],
   "source": [
    "res"
   ]
  },
  {
   "cell_type": "code",
   "execution_count": 13,
   "metadata": {},
   "outputs": [
    {
     "data": {
      "text/plain": [
       "(65479678594925636049056182858251969315311511450188536163598884859028701888535,\n",
       " 'DBR5OxCPHmC2mA6KsLEq1fXeZBrKKE2Z')"
      ]
     },
     "execution_count": 13,
     "metadata": {},
     "output_type": "execute_result"
    }
   ],
   "source": [
    "KeyGenerator.FromHex(\"90c42f49e4b1b50087a48a636716ffa65507af803b19c7973c42d02ced8ac017\", l=32)"
   ]
  },
  {
   "cell_type": "code",
   "execution_count": 14,
   "metadata": {},
   "outputs": [
    {
     "data": {
      "text/plain": [
       "(65479678594925636049056182858251969315311511450188536163598884859028701888535,\n",
       " 'KE2Z')"
      ]
     },
     "execution_count": 14,
     "metadata": {},
     "output_type": "execute_result"
    }
   ],
   "source": [
    "KeyGenerator.FromHex(\"90c42f49e4b1b50087a48a636716ffa65507af803b19c7973c42d02ced8ac017\", l=4)"
   ]
  }
 ],
 "metadata": {
  "kernelspec": {
   "display_name": "msm",
   "language": "python",
   "name": "python3"
  },
  "language_info": {
   "codemirror_mode": {
    "name": "ipython",
    "version": 3
   },
   "file_extension": ".py",
   "mimetype": "text/x-python",
   "name": "python",
   "nbconvert_exporter": "python",
   "pygments_lexer": "ipython3",
   "version": "3.12.8"
  }
 },
 "nbformat": 4,
 "nbformat_minor": 2
}
