{
 "cells": [
  {
   "cell_type": "code",
   "execution_count": 1,
   "metadata": {},
   "outputs": [],
   "source": [
    "from pathlib import Path\n",
    "from metasmith.agents.ssh import Agent\n",
    "from metasmith.models.libraries import *\n",
    "\n",
    "from local.constants import WORKSPACE_ROOT\n",
    "from local.utils import LinkifyPath"
   ]
  },
  {
   "cell_type": "code",
   "execution_count": 2,
   "metadata": {},
   "outputs": [],
   "source": [
    "CACHE = WORKSPACE_ROOT/\"main/local_mock/cache/xgdb_tests\"\n",
    "CACHE.mkdir(parents=True, exist_ok=True)"
   ]
  },
  {
   "cell_type": "code",
   "execution_count": 3,
   "metadata": {},
   "outputs": [
    {
     "data": {
      "text/plain": [
       "6"
      ]
     },
     "execution_count": 3,
     "metadata": {},
     "output_type": "execute_result"
    }
   ],
   "source": [
    "types = DataTypeLibrary.Load(WORKSPACE_ROOT/\"main/local_mock/prototypes/metagenomics.dev3.yml\")\n",
    "len(types)"
   ]
  },
  {
   "cell_type": "code",
   "execution_count": 4,
   "metadata": {},
   "outputs": [
    {
     "name": "stdout",
     "output_type": "stream",
     "text": [
      "[PosixPath('contigs.fna')]\n",
      "[PosixPath('reference.uniprot_sprot.dmnd'), PosixPath('container.diamond.oci.uri'), PosixPath('container.pprodigal.oci.uri')]\n",
      "./../../main/local_mock/cache/xgdb_tests/ref.xgdb/metadata/index.yml\n",
      "./../../main/local_mock/cache/xgdb_tests/ref.xgdb/metadata/types.yml\n"
     ]
    }
   ],
   "source": [
    "xgdb_path = CACHE/\"test.xgdb\"\n",
    "refdb_path = CACHE/\"ref.xgdb\"\n",
    "_xgdb = DataInstanceLibrary(xgdb_path)\n",
    "refdb = DataInstanceLibrary(refdb_path)\n",
    "added = _xgdb.Add(\n",
    "    [\n",
    "        (Path(WORKSPACE_ROOT/\"scratch/test_ws/data/local/example.fna\"), \"contigs.fna\", types[\"contigs\"]),\n",
    "    ],\n",
    ")\n",
    "print(added)\n",
    "added = refdb.Add(\n",
    "    [\n",
    "        (WORKSPACE_ROOT/\"scratch/test_ws/data/local/uniprot_sprot.dmnd\", \"reference.uniprot_sprot.dmnd\", types[\"protein_reference_diamond\"]),\n",
    "        (WORKSPACE_ROOT/\"scratch/test_ws/data/local/diamond.oci.uri\", \"container.diamond.oci.uri\", types[\"oci_image_diamond\"]),\n",
    "        (WORKSPACE_ROOT/\"scratch/test_ws/data/local/pprodigal.oci.uri\", \"container.pprodigal.oci.uri\", types[\"oci_image_pprodigal\"]),\n",
    "    ],\n",
    ")\n",
    "print(added)\n",
    "\n",
    "_xgdb.Save()\n",
    "refdb.Save()\n",
    "LinkifyPath(refdb_path/refdb._path_to_index)\n",
    "LinkifyPath(refdb_path/refdb._path_to_types)\n",
    "xgdb_local = DataInstanceLibrary.Load(xgdb_path)"
   ]
  },
  {
   "cell_type": "code",
   "execution_count": 5,
   "metadata": {},
   "outputs": [
    {
     "data": {
      "text/plain": [
       "{PosixPath('reference.uniprot_sprot.dmnd'): <{\"data\":\"database reference\",\"format\":\".dmnd\"}:VpPqsgy1>,\n",
       " PosixPath('container.diamond.oci.uri'): <{\"data\":\"software container\",\"format\":\"OCI\",\"provides\":[\"diamond\"]}:dmbDzoUx>,\n",
       " PosixPath('container.pprodigal.oci.uri'): <{\"data\":\"software container\",\"format\":\"OCI\",\"provides\":[\"pprodigal\"]}:sbz4U7zj>}"
      ]
     },
     "execution_count": 5,
     "metadata": {},
     "output_type": "execute_result"
    }
   ],
   "source": [
    "refdb.manifest"
   ]
  },
  {
   "cell_type": "code",
   "execution_count": 6,
   "metadata": {},
   "outputs": [
    {
     "data": {
      "text/plain": [
       "Source(address='globus://2602486c-1e0f-47a0-be15-eec1b0ff0f96:/Metasmith/globus_test6', type=SourceType.GLOBUS)"
      ]
     },
     "execution_count": 6,
     "metadata": {},
     "output_type": "execute_result"
    }
   ],
   "source": [
    "REMOTE = GlobusSource.Parse(\"https://app.globus.org/file-manager?origin_id=2602486c-1e0f-47a0-be15-eec1b0ff0f96&origin_path=%2FMetasmith%2Fglobus_test5%2F\")\n",
    "REMOTE.path = REMOTE.path.parent/\"globus_test6\"\n",
    "REMOTE = REMOTE.AsSource()\n",
    "REMOTE"
   ]
  },
  {
   "cell_type": "code",
   "execution_count": 7,
   "metadata": {},
   "outputs": [
    {
     "data": {
      "text/plain": [
       "{PosixPath('contigs.fna'): <{\"data\":\"DNA sequence\",\"format\":\"FASTA\"}:4M4PqXwA>}"
      ]
     },
     "execution_count": 7,
     "metadata": {},
     "output_type": "execute_result"
    }
   ],
   "source": [
    "xgdb_local.manifest"
   ]
  },
  {
   "cell_type": "code",
   "execution_count": 8,
   "metadata": {},
   "outputs": [],
   "source": [
    "# xgdb_local.CopyTo(REMOTE)"
   ]
  },
  {
   "cell_type": "code",
   "execution_count": 9,
   "metadata": {},
   "outputs": [
    {
     "data": {
      "text/plain": [
       "DataInstanceLibrary(location=PosixPath('/home/tony/workspace/tools/Metasmith/main/local_mock/cache/xgdb_tests/remote.xgdb'), manifest={PosixPath('contigs.fna'): <{\"data\":\"DNA sequence\",\"format\":\"FASTA\"}:4M4PqXwA>}, schema='0.3', _path_to_index=PosixPath('metadata/index.yml'), _path_to_types=PosixPath('metadata/types.yml'))"
      ]
     },
     "execution_count": 9,
     "metadata": {},
     "output_type": "execute_result"
    }
   ],
   "source": [
    "remotedb_path = CACHE/\"remote.xgdb\"\n",
    "\n",
    "xgdb_remote = DataInstanceLibrary.DownloadFrom(REMOTE, remotedb_path)\n",
    "xgdb_remote"
   ]
  },
  {
   "cell_type": "code",
   "execution_count": 11,
   "metadata": {},
   "outputs": [
    {
     "data": {
      "text/plain": [
       "{PosixPath('contigs.fna'): <{\"data\":\"DNA sequence\",\"format\":\"FASTA\"}:4M4PqXwA>}"
      ]
     },
     "execution_count": 11,
     "metadata": {},
     "output_type": "execute_result"
    }
   ],
   "source": [
    "xgdb_remote.manifest"
   ]
  }
 ],
 "metadata": {
  "kernelspec": {
   "display_name": "p312",
   "language": "python",
   "name": "python3"
  },
  "language_info": {
   "codemirror_mode": {
    "name": "ipython",
    "version": 3
   },
   "file_extension": ".py",
   "mimetype": "text/x-python",
   "name": "python",
   "nbconvert_exporter": "python",
   "pygments_lexer": "ipython3",
   "version": "3.12.8"
  }
 },
 "nbformat": 4,
 "nbformat_minor": 2
}
