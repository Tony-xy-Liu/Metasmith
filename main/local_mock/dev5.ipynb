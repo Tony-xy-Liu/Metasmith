{
 "cells": [
  {
   "cell_type": "code",
   "execution_count": 5,
   "metadata": {},
   "outputs": [
    {
     "name": "stdout",
     "output_type": "stream",
     "text": [
      "schema: 0.3\n",
      "ontology:\n",
      "    doi: https://doi.org/10.1093/bioinformatics/btt113\n",
      "    name: EDAM\n",
      "    version: 1.25\n",
      "    strict: false\n",
      "types:\n",
      "    contigs:\n",
      "        format: FASTA\n",
      "        data: DNA sequence\n",
      "    orfs_gbk:\n",
      "        format: GenBank\n",
      "        data: Protein features\n",
      "    orfs_faa:\n",
      "        format: FASTA\n",
      "        data: Amino acid sequence\n",
      "    diamond_protein_reference:\n",
      "        format: Binary format\n",
      "        data: database reference\n",
      "        reference_type: diamond db\n",
      "    fastal_protein_reference:\n",
      "        format: Binary format\n",
      "        data: database reference\n",
      "        reference_type: diamond db\n",
      "    orf_annotations:\n",
      "        format: CSV\n",
      "        data: Protein features\n",
      "\n"
     ]
    }
   ],
   "source": [
    "import requests\n",
    "import re\n",
    "\n",
    "from local.constants import WORKSPACE_ROOT\n",
    "\n",
    "with open(WORKSPACE_ROOT/\"secrets/git_token\") as f:\n",
    "    tok = f.read().strip()\n",
    "url = f\"https://raw.githubusercontent.com/Tony-xy-Liu/Metasmith/release/main/local_mock/prototypes/metagenomics.yml\"\n",
    "res = requests.get(url, headers=dict(Authorization=f\"token {tok}\"))\n",
    "print(res.text)"
   ]
  },
  {
   "cell_type": "code",
   "execution_count": 3,
   "metadata": {},
   "outputs": [
    {
     "data": {
      "text/plain": [
       "<re.Match object; span=(0, 8), match='https://'>"
      ]
     },
     "execution_count": 3,
     "metadata": {},
     "output_type": "execute_result"
    }
   ],
   "source": [
    "re.match(r'^(https?|ftp)://', url)"
   ]
  }
 ],
 "metadata": {
  "kernelspec": {
   "display_name": "msm",
   "language": "python",
   "name": "python3"
  },
  "language_info": {
   "codemirror_mode": {
    "name": "ipython",
    "version": 3
   },
   "file_extension": ".py",
   "mimetype": "text/x-python",
   "name": "python",
   "nbconvert_exporter": "python",
   "pygments_lexer": "ipython3",
   "version": "3.12.8"
  }
 },
 "nbformat": 4,
 "nbformat_minor": 2
}
