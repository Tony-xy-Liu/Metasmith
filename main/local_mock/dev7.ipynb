{
 "cells": [
  {
   "cell_type": "markdown",
   "metadata": {},
   "source": [
    "- deploy via ssh\n",
    "- recieve job from local via ssh\n",
    "- obtain datainstances via globus\n",
    "- execute job\n",
    "- upload produced datainstances via globus\n",
    "- return globus paths (indexes/keys?)"
   ]
  },
  {
   "cell_type": "code",
   "execution_count": 1,
   "metadata": {},
   "outputs": [],
   "source": [
    "from pathlib import Path\n",
    "from metasmith.agents.ssh import Agent"
   ]
  },
  {
   "cell_type": "code",
   "execution_count": 2,
   "metadata": {},
   "outputs": [],
   "source": [
    "agent = Agent(\n",
    "    ssh_command='ssh sockeye',\n",
    "    ssh_address='sockeye',\n",
    "    pre = f\"\"\"\\\n",
    "        module load gcc/9.4.0 apptainer/1.3.1\n",
    "    \"\"\",\n",
    "    home='~/metasmith',\n",
    "    workspace='~/scratch/metasmith',\n",
    "    globus_endpoint=\"64a5c402-05c4-4607-bbad-46a9c2aebd98\"\n",
    ")\n",
    "\n",
    "# agent = Agent(\n",
    "#     ssh_command='ssh cedar',\n",
    "#     ssh_address='cedar',\n",
    "#     pre = f\"\"\"\\\n",
    "#         module load StdEnv/2023 apptainer/1.3.5\n",
    "#     \"\"\",\n",
    "#     home='~/metasmith',\n",
    "#     workspace='~/scratch/metasmith',\n",
    "# )\n",
    "\n",
    "# agent.Deploy()\n",
    "# agent.Deploy(force=True)"
   ]
  },
  {
   "cell_type": "code",
   "execution_count": 3,
   "metadata": {},
   "outputs": [
    {
     "data": {
      "text/plain": [
       "6"
      ]
     },
     "execution_count": 3,
     "metadata": {},
     "output_type": "execute_result"
    }
   ],
   "source": [
    "from metasmith.models.libraries import *\n",
    "from local.constants import WORKSPACE_ROOT\n",
    "from local.utils import LinkifyPath\n",
    "CACHE = WORKSPACE_ROOT/\"main/local_mock/cache\"\n",
    "\n",
    "types = DataTypeLibrary.Load(WORKSPACE_ROOT/\"main/local_mock/prototypes/metagenomics.dev3.yml\")\n",
    "len(types)"
   ]
  },
  {
   "cell_type": "code",
   "execution_count": 4,
   "metadata": {},
   "outputs": [
    {
     "name": "stdout",
     "output_type": "stream",
     "text": [
      "./../../main/local_mock/cache/test.xgdb/info.yml\n",
      "./../../main/local_mock/cache/ref.xgdb/info.yml\n"
     ]
    }
   ],
   "source": [
    "xgdb_path = CACHE/\"test.xgdb\"\n",
    "refdb_path = CACHE/\"ref.xgdb\"\n",
    "_xgdb = DataInstanceLibrary()\n",
    "refdb = DataInstanceLibrary()\n",
    "_xgdb.Add(\n",
    "    name=\"contigs\",\n",
    "    source=Source(WORKSPACE_ROOT/\"scratch/test_ws/data/local/example.fna\"),\n",
    "    type=types[\"contigs\"],\n",
    ")\n",
    "refdb.Add(\n",
    "    name=\"reference.uniprot_sprot\",\n",
    "    source=Source(WORKSPACE_ROOT/\"scratch/test_ws/data/local/uniprot_sprot.dmnd\"),\n",
    "    type=types[\"protein_reference_diamond\"],\n",
    ")\n",
    "refdb.Add(\n",
    "    name=\"container.diamond\",\n",
    "    source=Source(WORKSPACE_ROOT/\"scratch/test_ws/data/local/diamond.oci.uri\"),\n",
    "    type=types[\"oci_image_diamond\"],\n",
    ")\n",
    "refdb.Add(\n",
    "    name=\"container.pprodigal\",\n",
    "    source=Source(WORKSPACE_ROOT/\"scratch/test_ws/data/local/pprodigal.oci.uri\"),\n",
    "    type=types[\"oci_image_pprodigal\"],\n",
    ")\n",
    "_xgdb.Save(xgdb_path)\n",
    "refdb.Save(refdb_path)\n",
    "LinkifyPath(xgdb_path/_xgdb._index_name)\n",
    "LinkifyPath(refdb_path/refdb._index_name)\n",
    "xgdb = DataInstanceLibrary.Load(xgdb_path)"
   ]
  },
  {
   "cell_type": "code",
   "execution_count": 5,
   "metadata": {},
   "outputs": [
    {
     "name": "stdout",
     "output_type": "stream",
     "text": [
      "./../../main/local_mock/cache/testg.xgdb.yml\n",
      "./../../main/local_mock/cache/testg.refdb.yml\n"
     ]
    }
   ],
   "source": [
    "xgdb_g_path = CACHE/\"testg.xgdb.yml\"\n",
    "refdb_g_path = CACHE/\"testg.refdb.yml\"\n",
    "\n",
    "if not xgdb_g_path.exists():\n",
    "    xgdb_g = xgdb.Move(\n",
    "        dest=GlobusSource.Parse(\"https://app.globus.org/file-manager?origin_id=2602486c-1e0f-47a0-be15-eec1b0ff0f96&origin_path=%2FMetasmith%2Fglobus_test3%2Fxgdb%2F\").AsSource(),\n",
    "    )\n",
    "    xgdb_g.Save(xgdb_g_path)\n",
    "if not refdb_g_path.exists():\n",
    "    refdb_g = refdb.Move(\n",
    "        dest=GlobusSource.Parse(\"https://app.globus.org/file-manager?origin_id=2602486c-1e0f-47a0-be15-eec1b0ff0f96&origin_path=%2FMetasmith%2Fglobus_test3%2Frefdb%2F\").AsSource(),\n",
    "    )\n",
    "    refdb_g.Save(refdb_g_path)\n",
    "\n",
    "xgdb_g = DataInstanceLibrary.Load(xgdb_g_path)\n",
    "refdb_g = DataInstanceLibrary.Load(refdb_g_path)\n",
    "LinkifyPath(xgdb_g_path)\n",
    "LinkifyPath(refdb_g_path)"
   ]
  },
  {
   "cell_type": "code",
   "execution_count": 6,
   "metadata": {},
   "outputs": [
    {
     "data": {
      "text/plain": [
       "'64a5c402-05c4-4607-bbad-46a9c2aebd98'"
      ]
     },
     "execution_count": 6,
     "metadata": {},
     "output_type": "execute_result"
    }
   ],
   "source": [
    "GlobusSource.Parse(\"https://app.globus.org/file-manager?destination_id=64a5c402-05c4-4607-bbad-46a9c2aebd98&destination_path=%2Fhome%2Ftxyliu%2F\").endpoint"
   ]
  },
  {
   "cell_type": "code",
   "execution_count": 7,
   "metadata": {},
   "outputs": [
    {
     "name": "stdout",
     "output_type": "stream",
     "text": [
      "diamond.py <class 'metasmith.models.libraries.TransformInstance'>\n",
      "pprodigal.py <class 'metasmith.models.libraries.TransformInstance'>\n"
     ]
    }
   ],
   "source": [
    "trlib = TransformInstanceLibrary.Load([\n",
    "    Path(\"./transforms/simple_1\"),\n",
    "    # Path(\"./transforms/dupe_test\"),\n",
    "])\n",
    "for k, v in trlib:\n",
    "    print(k.name, type(v))"
   ]
  },
  {
   "cell_type": "code",
   "execution_count": 8,
   "metadata": {},
   "outputs": [
    {
     "name": "stdout",
     "output_type": "stream",
     "text": [
      "[\"Source(address='globus://2602486c-1e0f-47a0-be15-eec1b0ff0f96:/Metasmith/globus_test3/refdb/pprodigal.oci.msm_DaORQPNcOLWU.uri', type=SourceType.GLOBUS, _hash=102204026265152225396459869697273031746939003151309883073453404794116985136543)\", \"Source(address='globus://2602486c-1e0f-47a0-be15-eec1b0ff0f96:/Metasmith/globus_test3/xgdb/example.msm_sbq72Lgs35k6.fna', type=SourceType.GLOBUS, _hash=84723774456271901842268332685540500057626299381193261955467606788476030347185)\"]->[\"Source(address='orfs.faa', type=SourceType.DIRECT, _hash=101873239097198290733880342831050169978545220014649872182640029742000354522415)\"]\n",
      "./../../main/local_mock/transforms/simple_1/pprodigal.py\n",
      "[\"Source(address='globus://2602486c-1e0f-47a0-be15-eec1b0ff0f96:/Metasmith/globus_test3/refdb/diamond.oci.msm_eqLcckPvXFTB.uri', type=SourceType.GLOBUS, _hash=47647831126271685893919590576411455385101697691183148169154647140868721415188)\", \"Source(address='orfs.faa', type=SourceType.DIRECT, _hash=101873239097198290733880342831050169978545220014649872182640029742000354522415)\", \"Source(address='globus://2602486c-1e0f-47a0-be15-eec1b0ff0f96:/Metasmith/globus_test3/refdb/uniprot_sprot.msm_LeKhpJ5OZPOx.dmnd', type=SourceType.GLOBUS, _hash=50426839467707645390278127427576933170948557291154270762500062926076911574749)\"]->[\"Source(address='annotations.csv', type=SourceType.DIRECT, _hash=58324461007827953066942527064239158722591970738604110795860092512036181520602)\"]\n",
      "./../../main/local_mock/transforms/simple_1/diamond.py\n"
     ]
    }
   ],
   "source": [
    "from metasmith.models.workflow import WorkflowPlan\n",
    "\n",
    "plan = WorkflowPlan.Generate(\n",
    "    given=[xgdb_g, refdb_g],\n",
    "    transforms=trlib,\n",
    "    targets=[\n",
    "        types[\"orf_annotations\"].WithLineage([\n",
    "            types[\"contigs\"],\n",
    "            # xgdb[\"example.fna\"].type,\n",
    "        ]),\n",
    "    ],\n",
    ")\n",
    "\n",
    "for step in plan.steps:\n",
    "    print([f\"{x.source}\" for x in step.uses], [f\"{x.source}\" for x in step.produces], sep=\"->\")\n",
    "    LinkifyPath(step.transform._source.address)"
   ]
  },
  {
   "cell_type": "code",
   "execution_count": 9,
   "metadata": {},
   "outputs": [
    {
     "data": {
      "text/plain": [
       "'VLr5Nw'"
      ]
     },
     "execution_count": 9,
     "metadata": {},
     "output_type": "execute_result"
    }
   ],
   "source": [
    "plan._key"
   ]
  },
  {
   "cell_type": "code",
   "execution_count": 10,
   "metadata": {},
   "outputs": [
    {
     "name": "stdout",
     "output_type": "stream",
     "text": [
      "2025-02-21_11-52-06  | starting [3] transfers\n",
      "2025-02-21_11-52-06  | executing [3] local transfers\n"
     ]
    },
    {
     "name": "stdout",
     "output_type": "stream",
     "text": [
      "2025-02-21_11-52-06  | attempted [3] transfers\n",
      "R| Pseudo-terminal will not be allocated because stdin is not a terminal.\n",
      "R| 2025-02-21_11-52-09 E| relay server already running in [/home/txyliu/metasmith/relay/connections]\n",
      "2025-02-21_11-52-11  | sending incremental file list\n",
      "2025-02-21_11-52-11  | plan.json\n",
      "2025-02-21_11-52-11  | sent 7,786 bytes  received 35 bytes  5,214.00 bytes/sec\n",
      "2025-02-21_11-52-11  | total size is 7,663  speedup is 0.98\n",
      "2025-02-21_11-52-11  | sending incremental file list\n",
      "2025-02-21_11-52-11  | created directory /tmp/metasmith.VLr5Nw/transforms.lib\n",
      "2025-02-21_11-52-11  | ./\n",
      "2025-02-21_11-52-11  | diamond.py\n",
      "2025-02-21_11-52-11  | pprodigal.py\n",
      "2025-02-21_11-52-11  | _type_libraries/\n",
      "2025-02-21_11-52-11  | _type_libraries/_aliases.yml\n",
      "2025-02-21_11-52-11  | _type_libraries/metagenomics.dev3.yml\n",
      "2025-02-21_11-52-11  | sent 2,788 bytes  received 162 bytes  5,900.00 bytes/sec\n",
      "2025-02-21_11-52-11  | total size is 2,336  speedup is 0.79\n",
      "R| INFO:    squashfuse not found, will not be able to use gocryptfs\n",
      "R| INFO:    gocryptfs not found, will not be able to use gocryptfs\n",
      "R| 2025-02-21_11-52-16  | api call to [stage_workflow] with [{'plan_dir': '/tmp/metasmith.VLr5Nw'}]\n",
      "R| 2025-02-21_11-52-16  | staging workflow [VLr5Nw] with [4] given data instances\n",
      "R| 2025-02-21_11-52-16  | ex| /scratch/st-shallam-1/pwy_group/metasmith\n",
      "R| 2025-02-21_11-52-16  | ex| /arc/home/txyliu/metasmith\n",
      "R| 2025-02-21_11-52-17  | work [/ws/runs/VLr5Nw]\n",
      "R| 2025-02-21_11-52-17  | data [/ws/data]\n",
      "R| 2025-02-21_11-52-17  | external home [/arc/home/txyliu/metasmith]\n",
      "R| 2025-02-21_11-52-17  | external work [/scratch/st-shallam-1/pwy_group/metasmith/runs/VLr5Nw]\n",
      "R| 2025-02-21_11-52-17  | external data [/scratch/st-shallam-1/pwy_group/metasmith/data]\n",
      "R| 2025-02-21_11-52-17  | starting [4] transfers\n",
      "R| 2025-02-21_11-52-17  | executing globus batch of [4] for [2602486c-1e0f-47a0-be15-eec1b0ff0f96] -> [64a5c402-05c4-4607-bbad-46a9c2aebd98]\n",
      "R| 2025-02-21_11-52-17  | [/Metasmith/globus_test3/xgdb/example.msm_sbq72Lgs35k6.fna] -> [/scratch/st-shallam-1/pwy_group/metasmith/data/example.msm_56yRzLGzCQes.fna]\n",
      "R| 2025-02-21_11-52-17  | [/Metasmith/globus_test3/refdb/diamond.oci.msm_eqLcckPvXFTB.uri] -> [/scratch/st-shallam-1/pwy_group/metasmith/data/diamond.oci.msm_moz2z9kmeP0w.uri]\n",
      "R| 2025-02-21_11-52-17  | [/Metasmith/globus_test3/refdb/pprodigal.oci.msm_DaORQPNcOLWU.uri] -> [/scratch/st-shallam-1/pwy_group/metasmith/data/pprodigal.oci.msm_JLaqxG6izrKv.uri]\n",
      "R| 2025-02-21_11-52-17  | [/Metasmith/globus_test3/refdb/uniprot_sprot.msm_LeKhpJ5OZPOx.dmnd] -> [/scratch/st-shallam-1/pwy_group/metasmith/data/uniprot_sprot.msm_BuekRtZ0H8YA.dmnd]\n",
      "R| 2025-02-21_11-52-21  | Message: The transfer has been accepted and a task has been created and queued for execution\n",
      "R| 2025-02-21_11-52-21  | Task ID: 5bee8089-f08d-11ef-ae22-0affeb6b961d\n",
      "R| 2025-02-21_11-52-21  | awaiting [1] globus transfers\n",
      "R| 2025-02-21_11-52-36  | attempted [4] transfers\n",
      "R| 2025-02-21_11-52-36  | staged [/scratch/st-shallam-1/pwy_group/metasmith/data/example.msm_56yRzLGzCQes.fna]\n",
      "R| 2025-02-21_11-52-36  | staged [/scratch/st-shallam-1/pwy_group/metasmith/data/diamond.oci.msm_moz2z9kmeP0w.uri]\n",
      "R| 2025-02-21_11-52-36  | staged [/scratch/st-shallam-1/pwy_group/metasmith/data/pprodigal.oci.msm_JLaqxG6izrKv.uri]\n",
      "R| 2025-02-21_11-52-36  | staged [/scratch/st-shallam-1/pwy_group/metasmith/data/uniprot_sprot.msm_BuekRtZ0H8YA.dmnd]\n",
      "R| 2025-02-21_11-52-36  | [VLr5Nw] staged to [/ws/runs/VLr5Nw]\n",
      "R| INFO:    squashfuse not found, will not be able to use gocryptfs\n",
      "R| INFO:    gocryptfs not found, will not be able to use gocryptfs\n",
      "R| 2025-02-21_11-52-38  | api call to [execute_workflow] with [{'plan_dir': '/ws/runs/VLr5Nw'}]\n",
      "R| 2025-02-21_11-52-38  | executing workflow [VLr5Nw] with [2] steps\n",
      "R| 2025-02-21_11-52-38 E| Illegal option --\n",
      "R| 2025-02-21_11-52-38 E| Nextflow 24.10.4 is available - Please consider updating your version to it\n",
      "R| 2025-02-21_11-52-42  | \u001b[1m\u001b[38;5;232m\u001b[48;5;43m N E X T F L O W \u001b[0;2m  ~  \u001b[mversion 24.10.2\u001b[m\n",
      "R| 2025-02-21_11-52-42  | \u001b[K\n",
      "R| 2025-02-21_11-52-45  | WARN: It appears you have never run this project before -- Option `-resume` is ignored\n",
      "R| 2025-02-21_11-52-45  | Launching\u001b[35m `./metasmith/workflow.nf` \u001b[0;2m[\u001b[0;1;36mprickly_aryabhata\u001b[0;2m] DSL2 - \u001b[36mrevision: \u001b[0;36m65834f26c9\u001b[m\n",
      "R| 2025-02-21_11-52-45  | \u001b[K\n",
      "R| 2025-02-21_11-52-48  | \u001b[2m[\u001b[0;34m-        \u001b[0;2m] \u001b[0;2m\u001b[mpprodigal__DL05P -\u001b[K\n",
      "R| 2025-02-21_11-52-48  | \u001b[2m[\u001b[0;34m-        \u001b[0;2m] \u001b[0;2m\u001b[mdiamond__0RiTl   -\u001b[K\n",
      "R| 2025-02-21_11-52-48  | \u001b[3A\n",
      "R| 2025-02-21_11-52-48  | \u001b[2m[\u001b[0;34m-        \u001b[0;2m] \u001b[0;2m\u001b[mpprodigal__DL05P\u001b[2m |\u001b[m 0 of 1\u001b[K\n",
      "R| 2025-02-21_11-52-48  | \u001b[2m[\u001b[0;34m-        \u001b[0;2m] \u001b[0;2m\u001b[mdiamond__0RiTl   -\u001b[K\n",
      "R| 2025-02-21_11-52-51  | \u001b[3A\n",
      "R| 2025-02-21_11-52-51  | \u001b[2mexecutor >  slurm (1)\u001b[m\u001b[K\n",
      "R| 2025-02-21_11-52-51  | \u001b[2m[\u001b[0;34m7b/3a3c80\u001b[0;2m] \u001b[0;2m\u001b[mpprodigal__DL05P\u001b[33;2m (\u001b[0;33m1\u001b[2m)\u001b[m\u001b[2m |\u001b[m 0 of 1\u001b[K\n",
      "R| 2025-02-21_11-52-51  | \u001b[2m[\u001b[0;34m-        \u001b[0;2m] \u001b[0;2m\u001b[mdiamond__0RiTl       -\u001b[K\n",
      "R| 2025-02-21_11-52-57  | \u001b[4A\n",
      "R| 2025-02-21_11-52-57  | \u001b[2mexecutor >  slurm (1)\u001b[m\u001b[K\n",
      "R| 2025-02-21_11-52-57  | \u001b[2m[\u001b[0;34m7b/3a3c80\u001b[0;2m] \u001b[0;2m\u001b[mpprodigal__DL05P\u001b[33;2m (\u001b[0;33m1\u001b[2m)\u001b[m\u001b[2m |\u001b[m 0 of 1\u001b[K\n",
      "R| 2025-02-21_11-52-57  | \u001b[2m[\u001b[0;34m-        \u001b[0;2m] \u001b[0;2m\u001b[mdiamond__0RiTl       -\u001b[K\n",
      "R| 2025-02-21_11-53-07  | \u001b[4A\n",
      "R| 2025-02-21_11-53-07  | \u001b[2mexecutor >  slurm (1)\u001b[m\u001b[K\n",
      "R| 2025-02-21_11-53-07  | \u001b[2m[\u001b[0;34m7b/3a3c80\u001b[0;2m] \u001b[0;2m\u001b[mpprodigal__DL05P\u001b[33;2m (\u001b[0;33m1\u001b[2m)\u001b[m\u001b[2m |\u001b[m 0 of 1\u001b[32m ✔\u001b[m\u001b[K\n",
      "R| 2025-02-21_11-53-07  | \u001b[2m[\u001b[0;34m-        \u001b[0;2m] \u001b[0;2m\u001b[mdiamond__0RiTl       -\u001b[K\n",
      "R| 2025-02-21_11-53-08  | \u001b[4A\n",
      "R| 2025-02-21_11-53-08  | \u001b[2mexecutor >  slurm (1)\u001b[m\u001b[K\n",
      "R| 2025-02-21_11-53-08  | \u001b[2m[\u001b[0;34m7b/3a3c80\u001b[0;2m] \u001b[0;2m\u001b[mpprodigal__DL05P\u001b[33;2m (\u001b[0;33m1\u001b[2m)\u001b[m\u001b[2m |\u001b[m 1 of 1\u001b[32m ✔\u001b[m\u001b[K\n",
      "R| 2025-02-21_11-53-08  | \u001b[2m[\u001b[0;34m-        \u001b[0;2m] \u001b[0;2m\u001b[mdiamond__0RiTl      \u001b[2m |\u001b[m 0 of 1\u001b[K\n",
      "R| 2025-02-21_11-53-10  | \u001b[4A\n",
      "R| 2025-02-21_11-53-10  | \u001b[2mexecutor >  slurm (2)\u001b[m\u001b[K\n",
      "R| 2025-02-21_11-53-10  | \u001b[2m[\u001b[0;34m7b/3a3c80\u001b[0;2m] \u001b[0;2m\u001b[mpprodigal__DL05P\u001b[33;2m (\u001b[0;33m1\u001b[2m)\u001b[m\u001b[2m |\u001b[m 1 of 1\u001b[32m ✔\u001b[m\u001b[K\n",
      "R| 2025-02-21_11-53-10  | \u001b[2m[\u001b[0;34m75/7b5fe9\u001b[0;2m] \u001b[0;2m\u001b[mdiamond__0RiTl\u001b[33;2m (\u001b[0;33m1\u001b[2m)\u001b[m  \u001b[2m |\u001b[m 0 of 1\u001b[K\n",
      "R| 2025-02-21_11-53-32  | \u001b[4A\n",
      "R| 2025-02-21_11-53-32  | \u001b[2mexecutor >  slurm (2)\u001b[m\u001b[K\n",
      "R| 2025-02-21_11-53-33  | \u001b[2m[\u001b[0;34m7b/3a3c80\u001b[0;2m] \u001b[0;2m\u001b[mpprodigal__DL05P\u001b[33;2m (\u001b[0;33m1\u001b[2m)\u001b[m\u001b[2m |\u001b[m 1 of 1\u001b[32m ✔\u001b[m\u001b[K\n",
      "R| 2025-02-21_11-53-33  | \u001b[2m[\u001b[0;34m75/7b5fe9\u001b[0;2m] \u001b[0;2m\u001b[mdiamond__0RiTl\u001b[33;2m (\u001b[0;33m1\u001b[2m)\u001b[m  \u001b[2m |\u001b[m 0 of 1\u001b[K\n",
      "R| 2025-02-21_11-53-38  | \u001b[4A\n",
      "R| 2025-02-21_11-53-38  | \u001b[2mexecutor >  slurm (2)\u001b[m\u001b[K\n",
      "R| 2025-02-21_11-53-38  | \u001b[2m[\u001b[0;34m7b/3a3c80\u001b[0;2m] \u001b[0;2m\u001b[mpprodigal__DL05P\u001b[33;2m (\u001b[0;33m1\u001b[2m)\u001b[m\u001b[2m |\u001b[m 1 of 1\u001b[32m ✔\u001b[m\u001b[K\n",
      "R| 2025-02-21_11-53-38  | \u001b[2m[\u001b[0;34m75/7b5fe9\u001b[0;2m] \u001b[0;2m\u001b[mdiamond__0RiTl\u001b[33;2m (\u001b[0;33m1\u001b[2m)\u001b[m  \u001b[2m |\u001b[m 1 of 1\u001b[32m ✔\u001b[m\u001b[K\n",
      "R| 2025-02-21_11-53-42  | \u001b[4A\n",
      "R| 2025-02-21_11-53-42  | \u001b[2mexecutor >  slurm (2)\u001b[m\u001b[K\n",
      "R| 2025-02-21_11-53-42  | \u001b[2m[\u001b[0;34m7b/3a3c80\u001b[0;2m] \u001b[0;2m\u001b[mpprodigal__DL05P\u001b[33;2m (\u001b[0;33m1\u001b[2m)\u001b[m\u001b[2m |\u001b[m 1 of 1\u001b[32m ✔\u001b[m\u001b[K\n",
      "R| 2025-02-21_11-53-42  | \u001b[2m[\u001b[0;34m75/7b5fe9\u001b[0;2m] \u001b[0;2m\u001b[mdiamond__0RiTl\u001b[33;2m (\u001b[0;33m1\u001b[2m)\u001b[m  \u001b[2m |\u001b[m 1 of 1\u001b[32m ✔\u001b[m\u001b[K\n"
     ]
    }
   ],
   "source": [
    "from metasmith.coms.ipc import LiveShell\n",
    "from metasmith.logging import Log\n",
    "from tempfile import TemporaryDirectory\n",
    "\n",
    "from metasmith.models.workflow import WorkflowTask\n",
    "\n",
    "with open(WORKSPACE_ROOT/\"secrets/slurm_account\") as f:\n",
    "    slurm_account = f.read().strip()\n",
    "\n",
    "plan = plan\n",
    "local_temp = Path(\"./cache/mock_temp/\")\n",
    "# with LiveShell() as shell, TemporaryDirectory(prefix=\"msm.\") as local_temp:\n",
    "with LiveShell() as sh_local, LiveShell() as sh_remote:\n",
    "    local_temp = Path(local_temp)\n",
    "    sh_local.RegisterOnOut(lambda x: Log.Info(f\"{x}\"))\n",
    "    sh_local.RegisterOnErr(lambda x: Log.Error(f\"{x}\"))\n",
    "    sh_remote.RegisterOnOut(lambda x: print(f\"R| {x}\"))\n",
    "    sh_remote.RegisterOnErr(lambda x: print(f\"R| {x}\"))\n",
    "    remote_cache = Path(f\"/tmp/metasmith.{plan._key}\")\n",
    "\n",
    "    task_path = local_temp/f\"plan.json\"\n",
    "    task = WorkflowTask(plan=plan, agent=agent, config=dict(\n",
    "        nextflow=dict(\n",
    "            slurm_account=slurm_account\n",
    "        ),\n",
    "    ))\n",
    "    task.Save(task_path)\n",
    "\n",
    "    tr_path = local_temp/f\"transforms.lib\"\n",
    "    trlib.Gather(tr_path, overwrite=True)\n",
    "\n",
    "    res = sh_remote.Exec(agent.ssh_command)\n",
    "    errs = [e for e in res.err if e not in {\"Pseudo-terminal will not be allocated because stdin is not a terminal.\"}]\n",
    "    assert len(errs) == 0, errs\n",
    "    sh_remote.Exec(agent.pre)\n",
    "    sh_remote.Exec(f\"[ -e {remote_cache} ] && rm -rf {remote_cache}\")\n",
    "    sh_remote.Exec(f\"mkdir -p {remote_cache}\")\n",
    "    sh_remote.Exec(f\"{agent.home}/relay/msm_relay start\")\n",
    "\n",
    "    sh_local.Exec(f\"rsync -avcp {task_path} {agent.ssh_address}:{remote_cache/task_path.name}\")\n",
    "    sh_local.Exec(f\"rsync -avcp --exclude=__pycache__ {tr_path}/ {agent.ssh_address}:{remote_cache/tr_path.name}\")\n",
    "\n",
    "    msm = agent.home/\"msm\"\n",
    "    sh_remote.Exec(f'{msm} api stage_workflow -a plan_dir={remote_cache}') # this is only ok because /tmp is mounted\n",
    "    sh_remote.Exec(f'{msm} api execute_workflow -a plan_dir=/ws/runs/{plan._key}')\n",
    "\n",
    "    sh_remote.Exec(f\"rm -rf {remote_cache}\")\n",
    "    # sh_remote.Exec(f\"{agent.home}/relay/msm_relay stop\")\n",
    "    sh_remote.Exec(\"exit\")"
   ]
  },
  {
   "cell_type": "code",
   "execution_count": 11,
   "metadata": {},
   "outputs": [
    {
     "name": "stdout",
     "output_type": "stream",
     "text": [
      "DL05P\n",
      "0RiTl\n"
     ]
    }
   ],
   "source": [
    "for s in task.plan.steps:\n",
    "    print(s.transform_key)"
   ]
  },
  {
   "cell_type": "code",
   "execution_count": 12,
   "metadata": {},
   "outputs": [
    {
     "data": {
      "text/plain": [
       "WorkflowTask(plan=WorkflowPlan(given=[DataInstance(source=Source(address='globus://2602486c-1e0f-47a0-be15-eec1b0ff0f96:/Metasmith/globus_test3/xgdb/example.msm_sbq72Lgs35k6.fna', type=SourceType.GLOBUS, _hash=84723774456271901842268332685540500057626299381193261955467606788476030347185), type=<{\"data\":\"DNA sequence\",\"format\":\"FASTA\"}:WrFmM>, _key='56yRzLGzCQes', _hash=19334972164257911230731478465347275442739001055883031028978266831408011409278), DataInstance(source=Source(address='globus://2602486c-1e0f-47a0-be15-eec1b0ff0f96:/Metasmith/globus_test3/refdb/diamond.oci.msm_eqLcckPvXFTB.uri', type=SourceType.GLOBUS, _hash=47647831126271685893919590576411455385101697691183148169154647140868721415188), type=<{\"data\":\"software container\",\"format\":\"OCI\",\"provides\":[\"diamond\"]}:VXp91>, _key='moz2z9kmeP0w', _hash=64286419791206899067609878188129191632963384648126594607047859740592213305182), DataInstance(source=Source(address='globus://2602486c-1e0f-47a0-be15-eec1b0ff0f96:/Metasmith/globus_test3/refdb/pprodigal.oci.msm_DaORQPNcOLWU.uri', type=SourceType.GLOBUS, _hash=102204026265152225396459869697273031746939003151309883073453404794116985136543), type=<{\"data\":\"software container\",\"format\":\"OCI\",\"provides\":[\"pprodigal\"]}:9f3TH>, _key='JLaqxG6izrKv', _hash=86495295573722374817149711463494929498805636241175820562590987263330312687229), DataInstance(source=Source(address='globus://2602486c-1e0f-47a0-be15-eec1b0ff0f96:/Metasmith/globus_test3/refdb/uniprot_sprot.msm_LeKhpJ5OZPOx.dmnd', type=SourceType.GLOBUS, _hash=50426839467707645390278127427576933170948557291154270762500062926076911574749), type=<{\"data\":\"database reference\",\"format\":\".dmnd\"}:nau4k>, _key='BuekRtZ0H8YA', _hash=39564295979771405645373432981497118507731943098584752806564902328366819819710)], targets=[DataInstance(source=Source(address='annotations.csv', type=SourceType.DIRECT, _hash=58324461007827953066942527064239158722591970738604110795860092512036181520602), type=<{\"data\":\"Protein features\",\"format\":\"CSV\"}:qcQGH>, _key='YYaoWIWEQJI4', _hash=111633221317721734088318252062169049794698425899485888161166113946486577406524)], steps=[WorkflowStep(order=1, transform_key='DL05P', uses=[DataInstance(source=Source(address='globus://2602486c-1e0f-47a0-be15-eec1b0ff0f96:/Metasmith/globus_test3/refdb/pprodigal.oci.msm_DaORQPNcOLWU.uri', type=SourceType.GLOBUS, _hash=102204026265152225396459869697273031746939003151309883073453404794116985136543), type=<{\"data\":\"software container\",\"format\":\"OCI\",\"provides\":[\"pprodigal\"]}:9f3TH>, _key='JLaqxG6izrKv', _hash=86495295573722374817149711463494929498805636241175820562590987263330312687229), DataInstance(source=Source(address='globus://2602486c-1e0f-47a0-be15-eec1b0ff0f96:/Metasmith/globus_test3/xgdb/example.msm_sbq72Lgs35k6.fna', type=SourceType.GLOBUS, _hash=84723774456271901842268332685540500057626299381193261955467606788476030347185), type=<{\"data\":\"DNA sequence\",\"format\":\"FASTA\"}:WrFmM>, _key='56yRzLGzCQes', _hash=19334972164257911230731478465347275442739001055883031028978266831408011409278)], produces=[DataInstance(source=Source(address='orfs.faa', type=SourceType.DIRECT, _hash=101873239097198290733880342831050169978545220014649872182640029742000354522415), type=<{\"data\":\"Amino acid sequence\",\"format\":\"FASTA\"}:DV1cL>, _key='tTclXSKcso0H', _hash=44311281077816469825011429660480045103501168222392916667773910638019533350025)], transform=TransformInstance(protocol=<function protocol at 0x7f5c2964b600>, model=<metasmith.models.solver.Transform object at 0x7f5c29673830>, output_signature={(D:{\"data\":\"Amino acid sequence\"}-{\"format\":\"FASTA\"}): PosixPath('orfs.faa')}, _source=Source(address='/home/tony/workspace/tools/Metasmith/main/local_mock/transforms/simple_1/pprodigal.py', type=SourceType.DIRECT, _hash=90713668626955601977447696550723541925868611442645172023626865235153168752902), _used_libraries={'/home/tony/workspace/tools/Metasmith/main/local_mock/prototypes/metagenomics.dev3.yml'}, _hash=111046087116771540789073572150690237024467155305301514981848958820381695100247, _key='DL05P')), WorkflowStep(order=2, transform_key='0RiTl', uses=[DataInstance(source=Source(address='globus://2602486c-1e0f-47a0-be15-eec1b0ff0f96:/Metasmith/globus_test3/refdb/diamond.oci.msm_eqLcckPvXFTB.uri', type=SourceType.GLOBUS, _hash=47647831126271685893919590576411455385101697691183148169154647140868721415188), type=<{\"data\":\"software container\",\"format\":\"OCI\",\"provides\":[\"diamond\"]}:VXp91>, _key='moz2z9kmeP0w', _hash=64286419791206899067609878188129191632963384648126594607047859740592213305182), DataInstance(source=Source(address='orfs.faa', type=SourceType.DIRECT, _hash=101873239097198290733880342831050169978545220014649872182640029742000354522415), type=<{\"data\":\"Amino acid sequence\",\"format\":\"FASTA\"}:DV1cL>, _key='tTclXSKcso0H', _hash=44311281077816469825011429660480045103501168222392916667773910638019533350025), DataInstance(source=Source(address='globus://2602486c-1e0f-47a0-be15-eec1b0ff0f96:/Metasmith/globus_test3/refdb/uniprot_sprot.msm_LeKhpJ5OZPOx.dmnd', type=SourceType.GLOBUS, _hash=50426839467707645390278127427576933170948557291154270762500062926076911574749), type=<{\"data\":\"database reference\",\"format\":\".dmnd\"}:nau4k>, _key='BuekRtZ0H8YA', _hash=39564295979771405645373432981497118507731943098584752806564902328366819819710)], produces=[DataInstance(source=Source(address='annotations.csv', type=SourceType.DIRECT, _hash=58324461007827953066942527064239158722591970738604110795860092512036181520602), type=<{\"data\":\"Protein features\",\"format\":\"CSV\"}:qcQGH>, _key='YYaoWIWEQJI4', _hash=111633221317721734088318252062169049794698425899485888161166113946486577406524)], transform=TransformInstance(protocol=<function protocol at 0x7f5c2964ae80>, model=<metasmith.models.solver.Transform object at 0x7f5c29646780>, output_signature={(D:{\"data\":\"Protein features\"}-{\"format\":\"CSV\"}): PosixPath('annotations.csv')}, _source=Source(address='/home/tony/workspace/tools/Metasmith/main/local_mock/transforms/simple_1/diamond.py', type=SourceType.DIRECT, _hash=33176966290614244478145217568703723701295766240558431791418251264634582918103), _used_libraries={'/home/tony/workspace/tools/Metasmith/main/local_mock/prototypes/metagenomics.dev3.yml'}, _hash=101941391966459114182285625495911190642845549606543779305542398599821209931981, _key='0RiTl'))], _hash=56130070938219532875739998651698708024026699636301716888540581298120005351848, _key='VLr5Nw'), agent=Agent(ssh_command='ssh sockeye', ssh_address='sockeye', pre='module load gcc/9.4.0 apptainer/1.3.1\\n', home=PosixPath('~/metasmith'), workspace=PosixPath('~/scratch/metasmith'), container='docker://quay.io/hallamlab/metasmith:latest', globus_endpoint='64a5c402-05c4-4607-bbad-46a9c2aebd98'), config={'nextflow': {'slurm_account': 'st-shallam-1'}})"
      ]
     },
     "execution_count": 12,
     "metadata": {},
     "output_type": "execute_result"
    }
   ],
   "source": [
    "task"
   ]
  },
  {
   "cell_type": "code",
   "execution_count": 13,
   "metadata": {},
   "outputs": [],
   "source": [
    "# error here\n",
    "# path incorrect\n",
    "# loading type library [/ws/runs/WSFa2f/_metasmith/transforms.lib/_type_libraries/metagenomics.dev3.yml]"
   ]
  },
  {
   "cell_type": "code",
   "execution_count": 14,
   "metadata": {},
   "outputs": [
    {
     "data": {
      "text/plain": [
       "globus://2602486c-1e0f-47a0-be15-eec1b0ff0f96:/Metasmith/globus_test3/xgdb/example.msm_sbq72Lgs35k6.fna"
      ]
     },
     "execution_count": 14,
     "metadata": {},
     "output_type": "execute_result"
    }
   ],
   "source": [
    "GlobusSource.Parse(task.plan.given[0].source.address)"
   ]
  },
  {
   "cell_type": "code",
   "execution_count": 15,
   "metadata": {},
   "outputs": [
    {
     "data": {
      "text/plain": [
       "'https://app.globus.org/file-manager?origin_id=2602486c-1e0f-47a0-be15-eec1b0ff0f96&origin_path=%2FMetasmith%2Fglobus_test1%2F'"
      ]
     },
     "execution_count": 15,
     "metadata": {},
     "output_type": "execute_result"
    }
   ],
   "source": [
    "\"https://app.globus.org/file-manager?origin_id=2602486c-1e0f-47a0-be15-eec1b0ff0f96&origin_path=%2FMetasmith%2Fglobus_test1%2F\""
   ]
  }
 ],
 "metadata": {
  "kernelspec": {
   "display_name": "msm",
   "language": "python",
   "name": "python3"
  },
  "language_info": {
   "codemirror_mode": {
    "name": "ipython",
    "version": 3
   },
   "file_extension": ".py",
   "mimetype": "text/x-python",
   "name": "python",
   "nbconvert_exporter": "python",
   "pygments_lexer": "ipython3",
   "version": "3.12.8"
  }
 },
 "nbformat": 4,
 "nbformat_minor": 2
}
