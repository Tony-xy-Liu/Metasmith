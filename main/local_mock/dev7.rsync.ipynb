{
 "cells": [
  {
   "cell_type": "markdown",
   "metadata": {},
   "source": [
    "for convenience, sync the src code to sockeye so that the container doesn't need to be copied on every change"
   ]
  },
  {
   "cell_type": "code",
   "execution_count": 2,
   "metadata": {},
   "outputs": [],
   "source": [
    "from metasmith.coms.ipc import LiveShell\n",
    "from local.constants import WORKSPACE_ROOT"
   ]
  },
  {
   "cell_type": "code",
   "execution_count": 4,
   "metadata": {},
   "outputs": [
    {
     "name": "stdout",
     "output_type": "stream",
     "text": [
      "sending incremental file list\n",
      "metasmith/agents/workflow.py\n",
      "metasmith/models/libraries.py\n",
      "sent 3,846 bytes  received 238 bytes  8,168.00 bytes/sec\n",
      "total size is 120,873  speedup is 29.60\n"
     ]
    }
   ],
   "source": [
    "# remote = \"cedar\"\n",
    "remote = \"sockeye\"\n",
    "\n",
    "with LiveShell() as shell:\n",
    "    shell.RegisterOnOut(lambda x: print(x))\n",
    "    shell.RegisterOnErr(lambda x: print(f\"E: {x}\"))\n",
    "    # shell.Exec(\"ssh sockeye\")\n",
    "    # shell.Exec(\"mkdir -p ~/metasmith/dev/relay\")\n",
    "    # shell.Exec(\"exit\")\n",
    "    # shell.Exec(f\"rsync -acvp {WORKSPACE_ROOT}/main/relay_agent/dist/relay {remote}:~/metasmith/relay/server\")\n",
    "    shell.Exec(f\"rsync -acvp --exclude=__pycache__ {WORKSPACE_ROOT}/src/metasmith {remote}:~/metasmith/dev/\")\n",
    "    # shell.Exec(f\"rsync -acvp --exclude=__pycache__ {WORKSPACE_ROOT}/src/metasmith/nextflow_config {remote}:~/metasmith/lib/\")\n"
   ]
  }
 ],
 "metadata": {
  "kernelspec": {
   "display_name": "msm",
   "language": "python",
   "name": "python3"
  },
  "language_info": {
   "codemirror_mode": {
    "name": "ipython",
    "version": 3
   },
   "file_extension": ".py",
   "mimetype": "text/x-python",
   "name": "python",
   "nbconvert_exporter": "python",
   "pygments_lexer": "ipython3",
   "version": "3.12.8"
  }
 },
 "nbformat": 4,
 "nbformat_minor": 2
}
