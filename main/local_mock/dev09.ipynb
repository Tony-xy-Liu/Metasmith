{
 "cells": [
  {
   "cell_type": "markdown",
   "metadata": {},
   "source": [
    "new source types\n",
    "* ssh\n",
    "* url"
   ]
  },
  {
   "cell_type": "code",
   "execution_count": 1,
   "metadata": {},
   "outputs": [],
   "source": [
    "from pathlib import Path\n",
    "from metasmith.agents.presets import Agent\n",
    "from metasmith.models.libraries import *\n",
    "from metasmith.models.remote import *\n",
    "import requests\n",
    "\n",
    "from local.constants import WORKSPACE_ROOT\n",
    "from local.utils import LinkifyPath"
   ]
  },
  {
   "cell_type": "markdown",
   "metadata": {},
   "source": [
    "# ssh"
   ]
  },
  {
   "cell_type": "code",
   "execution_count": 2,
   "metadata": {},
   "outputs": [],
   "source": [
    "src_ssh = Source.FromLocal(WORKSPACE_ROOT/\"main/local_mock/transforms/simple_1/diamond.py\")\n",
    "\n",
    "dest_ssh = SshSource(\n",
    "    host=\"cosmos\",\n",
    "    path=\"~/downloads/metasmith_ssh_transfer_test.transforms/x3\"\n",
    ").AsSource()"
   ]
  },
  {
   "cell_type": "code",
   "execution_count": 3,
   "metadata": {},
   "outputs": [
    {
     "name": "stdout",
     "output_type": "stream",
     "text": [
      "ssh: Pseudo-terminal will not be allocated because stdin is not a terminal.\n",
      "1\n"
     ]
    },
    {
     "data": {
      "text/plain": [
       "[(Source(address='/home/tony/workspace/tools/Metasmith/main/local_mock/transforms/simple_1/diamond.py', type=SourceType.DIRECT),\n",
       "  Source(address='ssh://cosmos:~/downloads/metasmith_ssh_transfer_test.transforms/x3', type=SourceType.SSH))]"
      ]
     },
     "execution_count": 3,
     "metadata": {},
     "output_type": "execute_result"
    }
   ],
   "source": [
    "mover = Logistics()\n",
    "\n",
    "mover.QueueTransfer(src_ssh, dest_ssh)\n",
    "x = mover.ExecuteTransfers()\n",
    "for e in x.errors:\n",
    "    print(e)\n",
    "print(len(x.completed))\n",
    "x.completed"
   ]
  },
  {
   "cell_type": "markdown",
   "metadata": {},
   "source": [
    "# http\n",
    "\n",
    "do later when needed..."
   ]
  },
  {
   "cell_type": "code",
   "execution_count": 4,
   "metadata": {},
   "outputs": [
    {
     "name": "stdout",
     "output_type": "stream",
     "text": [
      "1\n"
     ]
    },
    {
     "data": {
      "text/plain": [
       "[(Source(address='https://github.com/tony-xy-liu', type=SourceType.HTTP),\n",
       "  Source(address='/home/tony/workspace/tools/Metasmith/main/local_mock/cache/logistics/http_test.html', type=SourceType.DIRECT))]"
      ]
     },
     "execution_count": 4,
     "metadata": {},
     "output_type": "execute_result"
    }
   ],
   "source": [
    "src_http = HttpSource.Parse(\"https://github.com/tony-xy-liu\").AsSource()\n",
    "dest_http = Source.FromLocal(WORKSPACE_ROOT/\"main/local_mock/cache/logistics/http_test.html\")\n",
    "\n",
    "mover = Logistics()\n",
    "mover.QueueTransfer(src_http, dest_http)\n",
    "x = mover.ExecuteTransfers()\n",
    "for e in x.errors:\n",
    "    print(e)\n",
    "print(len(x.completed))\n",
    "x.completed"
   ]
  },
  {
   "cell_type": "code",
   "execution_count": 5,
   "metadata": {},
   "outputs": [
    {
     "ename": "AssertionError",
     "evalue": "stop notebook",
     "output_type": "error",
     "traceback": [
      "\u001b[0;31m---------------------------------------------------------------------------\u001b[0m",
      "\u001b[0;31mAssertionError\u001b[0m                            Traceback (most recent call last)",
      "Cell \u001b[0;32mIn[5], line 1\u001b[0m\n\u001b[0;32m----> 1\u001b[0m \u001b[38;5;28;01massert\u001b[39;00m \u001b[38;5;28;01mFalse\u001b[39;00m, \u001b[38;5;124m\"\u001b[39m\u001b[38;5;124mstop notebook\u001b[39m\u001b[38;5;124m\"\u001b[39m\n",
      "\u001b[0;31mAssertionError\u001b[0m: stop notebook"
     ]
    }
   ],
   "source": [
    "assert False, \"stop notebook\""
   ]
  },
  {
   "cell_type": "markdown",
   "metadata": {},
   "source": [
    "## prototype method for authorization token"
   ]
  },
  {
   "cell_type": "code",
   "execution_count": null,
   "metadata": {},
   "outputs": [],
   "source": [
    "dest_http = Source.FromLocal(WORKSPACE_ROOT/\"main/local_mock/cache/logistics\")"
   ]
  },
  {
   "cell_type": "code",
   "execution_count": null,
   "metadata": {},
   "outputs": [
    {
     "data": {
      "text/plain": [
       "'# Metasmith\\n'"
      ]
     },
     "execution_count": 6,
     "metadata": {},
     "output_type": "execute_result"
    }
   ],
   "source": [
    "with open(WORKSPACE_ROOT/\"secrets/git_token\") as f:\n",
    "    TOKEN = f.read().strip()\n",
    "\n",
    "x = requests.get(\n",
    "    url=f\"https://raw.githubusercontent.com/Tony-xy-Liu/Metasmith/release/README.md\",\n",
    "    headers={\"Authorization\": f\"token {TOKEN}\"},\n",
    ")\n",
    "x.text"
   ]
  },
  {
   "cell_type": "code",
   "execution_count": null,
   "metadata": {},
   "outputs": [
    {
     "name": "stderr",
     "output_type": "stream",
     "text": [
      "** Resuming transfer from byte position 12\n",
      "  % Total    % Received % Xferd  Average Speed   Time    Time     Time  Current\n",
      "                                 Dload  Upload   Total   Spent    Left  Speed\n",
      "  0     0    0     0    0     0      0      0 --:--:-- --:--:-- --:--:--     0\n"
     ]
    }
   ],
   "source": [
    "with LiveShell() as shell:\n",
    "    shell.RegisterOnOut(print)\n",
    "    shell.RegisterOnErr(lambda x: print(x, file=sys.stderr))\n",
    "    out = WORKSPACE_ROOT/\"main/local_mock/cache/logistics/\"\n",
    "    url = \"https://raw.githubusercontent.com/Tony-xy-Liu/Metasmith/release/README.md\"\n",
    "    shell.Exec(f\"mkdir -p {out} && cd {out}\")\n",
    "    shell.Exec(f'curl -C - -H \"Authorization: token {TOKEN}\" -o curl_test.txt {url}')"
   ]
  }
 ],
 "metadata": {
  "kernelspec": {
   "display_name": "msm",
   "language": "python",
   "name": "python3"
  },
  "language_info": {
   "codemirror_mode": {
    "name": "ipython",
    "version": 3
   },
   "file_extension": ".py",
   "mimetype": "text/x-python",
   "name": "python",
   "nbconvert_exporter": "python",
   "pygments_lexer": "ipython3",
   "version": "3.12.8"
  }
 },
 "nbformat": 4,
 "nbformat_minor": 2
}
