{
 "cells": [
  {
   "cell_type": "markdown",
   "metadata": {},
   "source": [
    "# import data"
   ]
  },
  {
   "cell_type": "code",
   "execution_count": 1,
   "metadata": {},
   "outputs": [],
   "source": [
    "from __future__ import annotations\n",
    "from pathlib import Path\n",
    "import yaml\n",
    "from dataclasses import dataclass, field\n",
    "from datetime import datetime as dt\n",
    "import hashlib\n",
    "\n",
    "from local.constants import WORKSPACE_ROOT"
   ]
  },
  {
   "cell_type": "code",
   "execution_count": 2,
   "metadata": {},
   "outputs": [],
   "source": [
    "def str_hash(s):\n",
    "    return int(hashlib.sha256(s.encode(\"utf-8\", \"replace\")).hexdigest(), 16)\n",
    "\n",
    "@dataclass\n",
    "class DataType:\n",
    "    name: str\n",
    "    properties: dict[str, str]\n",
    "    library: DataTypeLibrary\n",
    "    _hash: int = None\n",
    "\n",
    "    def __hash__(self) -> int:\n",
    "        if self._hash is None:\n",
    "            self._hash = str_hash(''.join(self.AsSet()))\n",
    "        return self._hash\n",
    "    \n",
    "    @classmethod\n",
    "    def SetFromDict(cls, raw: dict[str, str]):\n",
    "        return set(f\"{k}={v}\" for k, v in raw.items())\n",
    "\n",
    "    def AsSet(self):\n",
    "        return self.SetFromDict(self.properties)\n",
    "    \n",
    "@dataclass\n",
    "class DataTypeLibrary:\n",
    "    source: Path\n",
    "    schema: str\n",
    "    ontology: dict\n",
    "    types: dict[str, DataType] = field(default_factory=dict)\n",
    "\n",
    "    def __getitem__(self, key: str) -> DataType:\n",
    "        return self.types[key]\n",
    "    \n",
    "    def __in__(self, key: str) -> bool:\n",
    "        return key in self.types\n",
    "    \n",
    "    @classmethod\n",
    "    def Load(cls, path: Path) -> DataTypeLibrary:\n",
    "        with open(path) as f:\n",
    "            d = yaml.safe_load(f)\n",
    "        lib = cls(path, d[\"schema\"], d[\"ontology\"])\n",
    "        types = {}\n",
    "        for k, v in d[\"types\"].items():\n",
    "            types[k] = DataType(\n",
    "                name=k,\n",
    "                properties=v,\n",
    "                library=lib,\n",
    "            )\n",
    "        lib.types = types\n",
    "        return lib\n",
    "\n",
    "@dataclass\n",
    "class DataInstance:\n",
    "    source: Path\n",
    "    type: DataType\n",
    "    _hash: int = None\n",
    "\n",
    "    def __hash__(self) -> int:\n",
    "        if self._hash is None:\n",
    "            self._hash = str_hash(str(self.source.resolve())+''.join(self.type.AsSet()))\n",
    "        return self._hash\n",
    "    \n",
    "    @classmethod\n",
    "    def Register(cls, source: Path, type: DataType):\n",
    "        return cls(source, type)\n",
    "    \n",
    "    def Pack(self):\n",
    "        return {\n",
    "            \"source\": str(self.source),\n",
    "            \"type\": self.type.name,\n",
    "            \"properties\": self.type.properties,\n",
    "        }\n",
    "\n",
    "@dataclass\n",
    "class DataInstanceLibrary:\n",
    "    description: str\n",
    "    types_library: DataTypeLibrary\n",
    "    manifest: dict[str, DataInstance] = field(default_factory=dict)\n",
    "    time_created: dt = field(default_factory=lambda: dt.now())\n",
    "    time_modified: dt = field(default_factory=lambda: dt.now())\n",
    "\n",
    "    @classmethod\n",
    "    def Load(cls, path: Path):\n",
    "        with open(path) as f:\n",
    "            d = yaml.safe_load(f)\n",
    "\n",
    "        class_attributes = set(cls.__annotations__.keys())\n",
    "        TYPE_LIB = \"types_library\"\n",
    "        d[TYPE_LIB] = DataTypeLibrary.Load(Path(d[TYPE_LIB]))\n",
    "        for k, v in d.items():\n",
    "            assert k in class_attributes, f\"unexpected field [{k}]\"\n",
    "            if k == \"manifest\":\n",
    "                manifest = {}\n",
    "                for kk, vv in v.items():\n",
    "                    type = d[TYPE_LIB][vv[\"type\"]]\n",
    "                    manifest[kk] = DataInstance(\n",
    "                        source=Path(vv[\"source\"]),\n",
    "                        type=type,\n",
    "                    )\n",
    "                d[k] = manifest\n",
    "        return cls(**d)\n",
    "\n",
    "    def Dump(self, path: Path):\n",
    "        self.time_modified = dt.now()\n",
    "        with open(path, \"w\") as f:\n",
    "            d = {}\n",
    "            for k, v in self.__dict__.items():\n",
    "                if k.startswith(\"_\"): continue\n",
    "                if callable(v): continue\n",
    "                if k == \"types_library\":\n",
    "                    v = str(v.source)\n",
    "                elif k == \"manifest\":\n",
    "                    v = {kk: vv.Pack() for kk, vv in v.items()}\n",
    "                d[k] = v\n",
    "            yaml.safe_dump(d, f, indent=4)\n",
    "\n",
    "lib = DataTypeLibrary.Load(WORKSPACE_ROOT/\"main/local_mock/prototypes/metagenomics.yml\")\n",
    "given_contigs = DataInstance.Register(WORKSPACE_ROOT/\"scratch/test_ws/data/local/example.fna\", lib[\"contigs\"])\n",
    "given_ref = DataInstance.Register(WORKSPACE_ROOT/\"scratch/test_ws/data/local/uniprot_sprot.dmnd\", lib[\"diamond_protein_reference\"])\n",
    "ilib = DataInstanceLibrary(\n",
    "    description=\"test workspace\",\n",
    "    types_library=lib,\n",
    "    manifest={\n",
    "        \"contigs\": given_contigs,\n",
    "        \"diamond_reference.uniprot_sprot\": given_ref,\n",
    "    }\n",
    ")\n",
    "ilib_path = Path(\"./cache/test.yml\")\n",
    "# ilib.Dump(ilib_path)\n",
    "# ilib2 = DataInstanceLibrary.Load(ilib_path)\n",
    "# ilib2.Dump(ilib_path.with_name(\"test2.yml\"))"
   ]
  },
  {
   "cell_type": "markdown",
   "metadata": {},
   "source": [
    "# generate workflow"
   ]
  },
  {
   "cell_type": "code",
   "execution_count": 3,
   "metadata": {},
   "outputs": [],
   "source": [
    "from metasmith.solver import Namespace, Endpoint, Transform, Solve\n",
    "from metasmith.models import TransformInstanceLibrary"
   ]
  },
  {
   "cell_type": "code",
   "execution_count": 4,
   "metadata": {},
   "outputs": [
    {
     "data": {
      "text/plain": [
       "[PosixPath('simple_1/_common.py')]"
      ]
     },
     "execution_count": 4,
     "metadata": {},
     "output_type": "execute_result"
    }
   ],
   "source": [
    "errs, trlib = TransformInstanceLibrary.Load(Path(\"./transforms/\"))\n",
    "errs"
   ]
  },
  {
   "cell_type": "code",
   "execution_count": 5,
   "metadata": {},
   "outputs": [
    {
     "data": {
      "text/plain": [
       "{PosixPath('simple_1/diamond.py'): TransformInstance(container='docker://bschiffthaler/diamond:2.0.14', protocol=<function protocol at 0x7f9c080d44a0>, input_signature={DataType(name='diamond_protein_reference', properties={'format': 'Binary format', 'data': 'database reference', 'reference_type': 'diamond db'}, library=DataTypeLibrary(path=PosixPath('/home/tony/workspace/tools/Metasmith/main/local_mock/prototypes/metagenomics.yml'), schema=0.3, ontology={'doi': 'https://doi.org/10.1093/bioinformatics/btt113', 'name': 'EDAM', 'version': 1.25, 'strict': False}, types={'contigs': DataType(name='contigs', properties={'format': 'FASTA', 'data': 'DNA sequence'}, library=...), 'orfs_gbk': DataType(name='orfs_gbk', properties={'format': 'GenBank', 'data': 'Protein features'}, library=...), 'orfs_faa': DataType(name='orfs_faa', properties={'format': 'FASTA', 'data': 'Amino acid sequence'}, library=...), 'diamond_protein_reference': ..., 'fastal_protein_reference': DataType(name='fastal_protein_reference', properties={'format': 'Binary format', 'data': 'database reference', 'reference_type': 'diamond db'}, library=...), 'orf_annotations': DataType(name='orf_annotations', properties={'format': 'CSV', 'data': 'Protein features'}, library=...)})), DataType(name='orfs_faa', properties={'format': 'FASTA', 'data': 'Amino acid sequence'}, library=DataTypeLibrary(path=PosixPath('/home/tony/workspace/tools/Metasmith/main/local_mock/prototypes/metagenomics.yml'), schema=0.3, ontology={'doi': 'https://doi.org/10.1093/bioinformatics/btt113', 'name': 'EDAM', 'version': 1.25, 'strict': False}, types={'contigs': DataType(name='contigs', properties={'format': 'FASTA', 'data': 'DNA sequence'}, library=...), 'orfs_gbk': DataType(name='orfs_gbk', properties={'format': 'GenBank', 'data': 'Protein features'}, library=...), 'orfs_faa': ..., 'diamond_protein_reference': DataType(name='diamond_protein_reference', properties={'format': 'Binary format', 'data': 'database reference', 'reference_type': 'diamond db'}, library=...), 'fastal_protein_reference': DataType(name='fastal_protein_reference', properties={'format': 'Binary format', 'data': 'database reference', 'reference_type': 'diamond db'}, library=...), 'orf_annotations': DataType(name='orf_annotations', properties={'format': 'CSV', 'data': 'Protein features'}, library=...)}))}, output_signature={DataInstance(source=PosixPath('annotations.csv'), type=DataType(name='orf_annotations', properties={'format': 'CSV', 'data': 'Protein features'}, library=DataTypeLibrary(path=PosixPath('/home/tony/workspace/tools/Metasmith/main/local_mock/prototypes/metagenomics.yml'), schema=0.3, ontology={'doi': 'https://doi.org/10.1093/bioinformatics/btt113', 'name': 'EDAM', 'version': 1.25, 'strict': False}, types={'contigs': DataType(name='contigs', properties={'format': 'FASTA', 'data': 'DNA sequence'}, library=...), 'orfs_gbk': DataType(name='orfs_gbk', properties={'format': 'GenBank', 'data': 'Protein features'}, library=...), 'orfs_faa': DataType(name='orfs_faa', properties={'format': 'FASTA', 'data': 'Amino acid sequence'}, library=...), 'diamond_protein_reference': DataType(name='diamond_protein_reference', properties={'format': 'Binary format', 'data': 'database reference', 'reference_type': 'diamond db'}, library=...), 'fastal_protein_reference': DataType(name='fastal_protein_reference', properties={'format': 'Binary format', 'data': 'database reference', 'reference_type': 'diamond db'}, library=...), 'orf_annotations': ...})))}, container_path=None),\n",
       " PosixPath('simple_1/pprodigal.py'): TransformInstance(container='docker://quay.io/hallamlab/external_pprodigal:1.0.1', protocol=<function protocol at 0x7f9c080d4680>, input_signature={DataType(name='contigs', properties={'format': 'FASTA', 'data': 'DNA sequence'}, library=DataTypeLibrary(path=PosixPath('/home/tony/workspace/tools/Metasmith/main/local_mock/prototypes/metagenomics.yml'), schema=0.3, ontology={'doi': 'https://doi.org/10.1093/bioinformatics/btt113', 'name': 'EDAM', 'version': 1.25, 'strict': False}, types={'contigs': ..., 'orfs_gbk': DataType(name='orfs_gbk', properties={'format': 'GenBank', 'data': 'Protein features'}, library=...), 'orfs_faa': DataType(name='orfs_faa', properties={'format': 'FASTA', 'data': 'Amino acid sequence'}, library=...), 'diamond_protein_reference': DataType(name='diamond_protein_reference', properties={'format': 'Binary format', 'data': 'database reference', 'reference_type': 'diamond db'}, library=...), 'fastal_protein_reference': DataType(name='fastal_protein_reference', properties={'format': 'Binary format', 'data': 'database reference', 'reference_type': 'diamond db'}, library=...), 'orf_annotations': DataType(name='orf_annotations', properties={'format': 'CSV', 'data': 'Protein features'}, library=...)}))}, output_signature={DataInstance(source=PosixPath('orfs.gbk'), type=DataType(name='orfs_gbk', properties={'format': 'GenBank', 'data': 'Protein features'}, library=DataTypeLibrary(path=PosixPath('/home/tony/workspace/tools/Metasmith/main/local_mock/prototypes/metagenomics.yml'), schema=0.3, ontology={'doi': 'https://doi.org/10.1093/bioinformatics/btt113', 'name': 'EDAM', 'version': 1.25, 'strict': False}, types={'contigs': DataType(name='contigs', properties={'format': 'FASTA', 'data': 'DNA sequence'}, library=...), 'orfs_gbk': ..., 'orfs_faa': DataType(name='orfs_faa', properties={'format': 'FASTA', 'data': 'Amino acid sequence'}, library=...), 'diamond_protein_reference': DataType(name='diamond_protein_reference', properties={'format': 'Binary format', 'data': 'database reference', 'reference_type': 'diamond db'}, library=...), 'fastal_protein_reference': DataType(name='fastal_protein_reference', properties={'format': 'Binary format', 'data': 'database reference', 'reference_type': 'diamond db'}, library=...), 'orf_annotations': DataType(name='orf_annotations', properties={'format': 'CSV', 'data': 'Protein features'}, library=...)}))), DataInstance(source=PosixPath('orfs.faa'), type=DataType(name='orfs_faa', properties={'format': 'FASTA', 'data': 'Amino acid sequence'}, library=DataTypeLibrary(path=PosixPath('/home/tony/workspace/tools/Metasmith/main/local_mock/prototypes/metagenomics.yml'), schema=0.3, ontology={'doi': 'https://doi.org/10.1093/bioinformatics/btt113', 'name': 'EDAM', 'version': 1.25, 'strict': False}, types={'contigs': DataType(name='contigs', properties={'format': 'FASTA', 'data': 'DNA sequence'}, library=...), 'orfs_gbk': DataType(name='orfs_gbk', properties={'format': 'GenBank', 'data': 'Protein features'}, library=...), 'orfs_faa': ..., 'diamond_protein_reference': DataType(name='diamond_protein_reference', properties={'format': 'Binary format', 'data': 'database reference', 'reference_type': 'diamond db'}, library=...), 'fastal_protein_reference': DataType(name='fastal_protein_reference', properties={'format': 'Binary format', 'data': 'database reference', 'reference_type': 'diamond db'}, library=...), 'orf_annotations': DataType(name='orf_annotations', properties={'format': 'CSV', 'data': 'Protein features'}, library=...)})))}, container_path=None),\n",
       " PosixPath('dupe_test/diamond.py'): TransformInstance(container='docker://bschiffthaler/diamond:2.0.14', protocol=<function protocol at 0x7f9c080d4360>, input_signature={DataType(name='diamond_protein_reference', properties={'format': 'Binary format', 'data': 'database reference', 'reference_type': 'diamond db'}, library=DataTypeLibrary(path=PosixPath('/home/tony/workspace/tools/Metasmith/main/local_mock/prototypes/metagenomics.yml'), schema=0.3, ontology={'doi': 'https://doi.org/10.1093/bioinformatics/btt113', 'name': 'EDAM', 'version': 1.25, 'strict': False}, types={'contigs': DataType(name='contigs', properties={'format': 'FASTA', 'data': 'DNA sequence'}, library=...), 'orfs_gbk': DataType(name='orfs_gbk', properties={'format': 'GenBank', 'data': 'Protein features'}, library=...), 'orfs_faa': DataType(name='orfs_faa', properties={'format': 'FASTA', 'data': 'Amino acid sequence'}, library=...), 'diamond_protein_reference': ..., 'fastal_protein_reference': DataType(name='fastal_protein_reference', properties={'format': 'Binary format', 'data': 'database reference', 'reference_type': 'diamond db'}, library=...), 'orf_annotations': DataType(name='orf_annotations', properties={'format': 'CSV', 'data': 'Protein features'}, library=...)})), DataType(name='orfs_faa', properties={'format': 'FASTA', 'data': 'Amino acid sequence'}, library=DataTypeLibrary(path=PosixPath('/home/tony/workspace/tools/Metasmith/main/local_mock/prototypes/metagenomics.yml'), schema=0.3, ontology={'doi': 'https://doi.org/10.1093/bioinformatics/btt113', 'name': 'EDAM', 'version': 1.25, 'strict': False}, types={'contigs': DataType(name='contigs', properties={'format': 'FASTA', 'data': 'DNA sequence'}, library=...), 'orfs_gbk': DataType(name='orfs_gbk', properties={'format': 'GenBank', 'data': 'Protein features'}, library=...), 'orfs_faa': ..., 'diamond_protein_reference': DataType(name='diamond_protein_reference', properties={'format': 'Binary format', 'data': 'database reference', 'reference_type': 'diamond db'}, library=...), 'fastal_protein_reference': DataType(name='fastal_protein_reference', properties={'format': 'Binary format', 'data': 'database reference', 'reference_type': 'diamond db'}, library=...), 'orf_annotations': DataType(name='orf_annotations', properties={'format': 'CSV', 'data': 'Protein features'}, library=...)}))}, output_signature={DataInstance(source=PosixPath('annotations.csv'), type=DataType(name='orf_annotations', properties={'format': 'CSV', 'data': 'Protein features'}, library=DataTypeLibrary(path=PosixPath('/home/tony/workspace/tools/Metasmith/main/local_mock/prototypes/metagenomics.yml'), schema=0.3, ontology={'doi': 'https://doi.org/10.1093/bioinformatics/btt113', 'name': 'EDAM', 'version': 1.25, 'strict': False}, types={'contigs': DataType(name='contigs', properties={'format': 'FASTA', 'data': 'DNA sequence'}, library=...), 'orfs_gbk': DataType(name='orfs_gbk', properties={'format': 'GenBank', 'data': 'Protein features'}, library=...), 'orfs_faa': DataType(name='orfs_faa', properties={'format': 'FASTA', 'data': 'Amino acid sequence'}, library=...), 'diamond_protein_reference': DataType(name='diamond_protein_reference', properties={'format': 'Binary format', 'data': 'database reference', 'reference_type': 'diamond db'}, library=...), 'fastal_protein_reference': DataType(name='fastal_protein_reference', properties={'format': 'Binary format', 'data': 'database reference', 'reference_type': 'diamond db'}, library=...), 'orf_annotations': ...})))}, container_path=None)}"
      ]
     },
     "execution_count": 5,
     "metadata": {},
     "output_type": "execute_result"
    }
   ],
   "source": [
    "trlib.manifest"
   ]
  },
  {
   "cell_type": "code",
   "execution_count": 6,
   "metadata": {},
   "outputs": [
    {
     "data": {
      "text/plain": [
       "{'data=database reference',\n",
       " 'format=Binary format',\n",
       " 'reference_type=diamond db'}"
      ]
     },
     "execution_count": 6,
     "metadata": {},
     "output_type": "execute_result"
    }
   ],
   "source": [
    "x = trlib.manifest[Path(\"simple_1/diamond.py\")].input_signature\n",
    "next(iter(x)).AsProperties()\n",
    "# trlib.manifest[Path(\"dupe_test/diamond.py\")].protocol(0)"
   ]
  },
  {
   "cell_type": "code",
   "execution_count": 6,
   "metadata": {},
   "outputs": [
    {
     "data": {
      "text/plain": [
       "{'contigs': DataInstance(source=PosixPath('/home/tony/workspace/tools/Metasmith/scratch/test_ws/data/local/example.fna'), type=DataType(name='contigs', properties={'format': 'FASTA', 'data': 'DNA sequence'}, library=DataTypeLibrary(source=PosixPath('/home/tony/workspace/tools/Metasmith/main/local_mock/prototypes/metagenomics.yml'), schema=0.3, ontology={'doi': 'https://doi.org/10.1093/bioinformatics/btt113', 'name': 'EDAM', 'version': 1.25, 'strict': False}, types={'contigs': ..., 'orfs_gbk': DataType(name='orfs_gbk', properties={'format': 'GenBank', 'data': 'Protein features'}, library=..., _hash=None), 'orfs_faa': DataType(name='orfs_faa', properties={'format': 'FASTA', 'data': 'Amino acid sequence'}, library=..., _hash=None), 'diamond_protein_reference': DataType(name='diamond_protein_reference', properties={'format': 'Binary format', 'data': 'database reference', 'reference_type': 'diamond db'}, library=..., _hash=None), 'fastal_protein_reference': DataType(name='fastal_protein_reference', properties={'format': 'Binary format', 'data': 'database reference', 'reference_type': 'diamond db'}, library=..., _hash=None), 'orf_annotations': DataType(name='orf_annotations', properties={'format': 'CSV', 'data': 'Protein features'}, library=..., _hash=None)}), _hash=None), _hash=None),\n",
       " 'diamond_reference.uniprot_sprot': DataInstance(source=PosixPath('/home/tony/workspace/tools/Metasmith/scratch/test_ws/data/local/uniprot_sprot.dmnd'), type=DataType(name='diamond_protein_reference', properties={'format': 'Binary format', 'data': 'database reference', 'reference_type': 'diamond db'}, library=DataTypeLibrary(source=PosixPath('/home/tony/workspace/tools/Metasmith/main/local_mock/prototypes/metagenomics.yml'), schema=0.3, ontology={'doi': 'https://doi.org/10.1093/bioinformatics/btt113', 'name': 'EDAM', 'version': 1.25, 'strict': False}, types={'contigs': DataType(name='contigs', properties={'format': 'FASTA', 'data': 'DNA sequence'}, library=..., _hash=None), 'orfs_gbk': DataType(name='orfs_gbk', properties={'format': 'GenBank', 'data': 'Protein features'}, library=..., _hash=None), 'orfs_faa': DataType(name='orfs_faa', properties={'format': 'FASTA', 'data': 'Amino acid sequence'}, library=..., _hash=None), 'diamond_protein_reference': ..., 'fastal_protein_reference': DataType(name='fastal_protein_reference', properties={'format': 'Binary format', 'data': 'database reference', 'reference_type': 'diamond db'}, library=..., _hash=None), 'orf_annotations': DataType(name='orf_annotations', properties={'format': 'CSV', 'data': 'Protein features'}, library=..., _hash=None)}), _hash=None), _hash=None)}"
      ]
     },
     "execution_count": 6,
     "metadata": {},
     "output_type": "execute_result"
    }
   ],
   "source": [
    "ilib_path = Path(\"./cache/test.yml\")\n",
    "ilib = DataInstanceLibrary.Load(ilib_path)\n",
    "ilib.manifest"
   ]
  },
  {
   "cell_type": "code",
   "execution_count": null,
   "metadata": {},
   "outputs": [],
   "source": [
    "NS = Namespace()\n",
    "\n",
    "given = {k:v.type.AsSet() for k, v in ilib.manifest.items()}\n",
    "\n",
    "# trlib = ..."
   ]
  }
 ],
 "metadata": {
  "kernelspec": {
   "display_name": "p312",
   "language": "python",
   "name": "python3"
  },
  "language_info": {
   "codemirror_mode": {
    "name": "ipython",
    "version": 3
   },
   "file_extension": ".py",
   "mimetype": "text/x-python",
   "name": "python",
   "nbconvert_exporter": "python",
   "pygments_lexer": "ipython3",
   "version": "3.12.2"
  }
 },
 "nbformat": 4,
 "nbformat_minor": 2
}
