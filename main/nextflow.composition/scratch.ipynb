{
 "cells": [
  {
   "cell_type": "code",
   "execution_count": 5,
   "metadata": {},
   "outputs": [
    {
     "name": "stdout",
     "output_type": "stream",
     "text": [
      "{\n",
      "    \"USER\": \"tony\",\n",
      "    \"VSCODE_WSL_EXT_LOCATION\": \"/mnt/c/Users/Tony/.vscode/extensions/ms-vscode-remote.remote-wsl-0.81.9\",\n",
      "    \"SHLVL\": \"1\",\n",
      "    \"HOME\": \"/home/tony\",\n",
      "    \"DBUS_SESSION_BUS_ADDRESS\": \"unix:path=/run/user/1000/bus\",\n",
      "    \"WSL_DISTRO_NAME\": \"ubuntu\",\n",
      "    \"WAYLAND_DISPLAY\": \"wayland-0\",\n",
      "    \"LOGNAME\": \"tony\",\n",
      "    \"NAME\": \"XPS-laptop\",\n",
      "    \"WSL_INTEROP\": \"/run/WSL/627_interop\",\n",
      "    \"PULSE_SERVER\": \"unix:/mnt/wslg/PulseServer\",\n",
      "    \"_\": \"/home/tony/lib/miniforge3/envs/p312/bin/python\",\n",
      "    \"TERM\": \"xterm-color\",\n",
      "    \"PATH\": \"/home/tony/lib/miniforge3/envs/p312/bin:/home/tony/.vscode-server/bin/8b3775030ed1a69b13e4f4c628c612102e30a681/bin/remote-cli:/home/tony/.local/bin:/home/tony/lib/bin:/home/tony/lib/miniforge3/condabin:/usr/local/sbin:/usr/local/bin:/usr/sbin:/usr/bin:/sbin:/bin:/usr/games:/usr/local/games:/usr/lib/wsl/lib:/mnt/c/WINDOWS/system32:/mnt/c/WINDOWS:/mnt/c/WINDOWS/System32/Wbem:/mnt/c/WINDOWS/System32/WindowsPowerShell/v1.0:/mnt/c/WINDOWS/System32/OpenSSH:/mnt/c/Program Files/dotnet:/mnt/a/Program Files/Git/cmd:/mnt/c/Program Files/Pandoc:/mnt/c/Users/Tony/AppData/Local/Microsoft/WindowsApps:/mnt/c/Users/Tony/AppData/Local/GitHubDesktop/bin:/mnt/c/Users/Tony/.dotnet/tools:/snap/bin\",\n",
      "    \"XDG_RUNTIME_DIR\": \"/run/user/1000/\",\n",
      "    \"DISPLAY\": \":0\",\n",
      "    \"LANG\": \"C.UTF-8\",\n",
      "    \"SHELL\": \"/usr/bin/bash\",\n",
      "    \"PWD\": \"/mnt/a/Program Files/Microsoft VS Code\",\n",
      "    \"WSL2_GUI_APPS_ENABLED\": \"1\",\n",
      "    \"HOSTTYPE\": \"x86_64\",\n",
      "    \"WSLENV\": \"VSCODE_WSL_EXT_LOCATION/up\",\n",
      "    \"VSCODE_HANDLES_SIGPIPE\": \"true\",\n",
      "    \"CONDA_EXE\": \"/home/tony/lib/miniforge3/bin/conda\",\n",
      "    \"_CE_M\": \"\",\n",
      "    \"SSH_AUTH_SOCK\": \"/tmp/ssh-XXXXXX58XFJ5/agent.609\",\n",
      "    \"SSH_AGENT_PID\": \"612\",\n",
      "    \"LS_COLORS\": \"rs=0:di=01;34:ln=01;36:mh=00:pi=40;33:so=01;35:do=01;35:bd=40;33;01:cd=40;33;01:or=40;31;01:mi=00:su=37;41:sg=30;43:ca=30;41:tw=30;42:ow=34;42:st=37;44:ex=01;32:*.tar=01;31:*.tgz=01;31:*.arc=01;31:*.arj=01;31:*.taz=01;31:*.lha=01;31:*.lz4=01;31:*.lzh=01;31:*.lzma=01;31:*.tlz=01;31:*.txz=01;31:*.tzo=01;31:*.t7z=01;31:*.zip=01;31:*.z=01;31:*.dz=01;31:*.gz=01;31:*.lrz=01;31:*.lz=01;31:*.lzo=01;31:*.xz=01;31:*.zst=01;31:*.tzst=01;31:*.bz2=01;31:*.bz=01;31:*.tbz=01;31:*.tbz2=01;31:*.tz=01;31:*.deb=01;31:*.rpm=01;31:*.jar=01;31:*.war=01;31:*.ear=01;31:*.sar=01;31:*.rar=01;31:*.alz=01;31:*.ace=01;31:*.zoo=01;31:*.cpio=01;31:*.7z=01;31:*.rz=01;31:*.cab=01;31:*.wim=01;31:*.swm=01;31:*.dwm=01;31:*.esd=01;31:*.jpg=01;35:*.jpeg=01;35:*.mjpg=01;35:*.mjpeg=01;35:*.gif=01;35:*.bmp=01;35:*.pbm=01;35:*.pgm=01;35:*.ppm=01;35:*.tga=01;35:*.xbm=01;35:*.xpm=01;35:*.tif=01;35:*.tiff=01;35:*.png=01;35:*.svg=01;35:*.svgz=01;35:*.mng=01;35:*.pcx=01;35:*.mov=01;35:*.mpg=01;35:*.mpeg=01;35:*.m2v=01;35:*.mkv=01;35:*.webm=01;35:*.webp=01;35:*.ogm=01;35:*.mp4=01;35:*.m4v=01;35:*.mp4v=01;35:*.vob=01;35:*.qt=01;35:*.nuv=01;35:*.wmv=01;35:*.asf=01;35:*.rm=01;35:*.rmvb=01;35:*.flc=01;35:*.avi=01;35:*.fli=01;35:*.flv=01;35:*.gl=01;35:*.dl=01;35:*.xcf=01;35:*.xwd=01;35:*.yuv=01;35:*.cgm=01;35:*.emf=01;35:*.ogv=01;35:*.ogx=01;35:*.aac=00;36:*.au=00;36:*.flac=00;36:*.m4a=00;36:*.mid=00;36:*.midi=00;36:*.mka=00;36:*.mp3=00;36:*.mpc=00;36:*.ogg=00;36:*.ra=00;36:*.wav=00;36:*.oga=00;36:*.opus=00;36:*.spx=00;36:*.xspf=00;36:\",\n",
      "    \"LESSCLOSE\": \"/usr/bin/lesspipe %s %s\",\n",
      "    \"_CE_CONDA\": \"\",\n",
      "    \"LESSOPEN\": \"| /usr/bin/lesspipe %s\",\n",
      "    \"CONDA_SHLVL\": \"1\",\n",
      "    \"APPTAINER_CACHEDIR\": \"/home/tony/.apptainer/cache\",\n",
      "    \"CONDA_PYTHON_EXE\": \"/home/tony/lib/miniforge3/bin/python\",\n",
      "    \"XDG_DATA_DIRS\": \"/usr/local/share:/usr/share:/var/lib/snapd/desktop\",\n",
      "    \"VSCODE_AMD_ENTRYPOINT\": \"vs/workbench/api/node/extensionHostProcess\",\n",
      "    \"VSCODE_HANDLES_UNCAUGHT_ERRORS\": \"true\",\n",
      "    \"VSCODE_NLS_CONFIG\": \"{\\\"locale\\\":\\\"en\\\",\\\"osLocale\\\":\\\"en\\\",\\\"availableLanguages\\\":{}}\",\n",
      "    \"VSCODE_CWD\": \"/mnt/a/Program Files/Microsoft VS Code\",\n",
      "    \"ELECTRON_RUN_AS_NODE\": \"1\",\n",
      "    \"VSCODE_IPC_HOOK_CLI\": \"/run/user/1000/vscode-ipc-10f0e522-b936-4104-b982-496cf0058718.sock\",\n",
      "    \"VSCODE_L10N_BUNDLE_LOCATION\": \"\",\n",
      "    \"PYTHONUNBUFFERED\": \"1\",\n",
      "    \"JAVA_HOME\": \"/home/tony/lib/miniforge3/envs/p312/lib/jvm\",\n",
      "    \"JAVA_LD_LIBRARY_PATH\": \"/home/tony/lib/miniforge3/envs/p312/lib/jvm/lib/server\",\n",
      "    \"XML_CATALOG_FILES\": \"file:///home/tony/lib/miniforge3/envs/p312/etc/xml/catalog file:///etc/xml/catalog\",\n",
      "    \"GSETTINGS_SCHEMA_DIR\": \"/home/tony/lib/miniforge3/envs/p312/share/glib-2.0/schemas\",\n",
      "    \"CONDA_ROOT\": \"/home/tony/lib/miniforge3\",\n",
      "    \"CONDA_PREFIX\": \"/home/tony/lib/miniforge3/envs/p312\",\n",
      "    \"GSETTINGS_SCHEMA_DIR_CONDA_BACKUP\": \"\",\n",
      "    \"CONDA_PROMPT_MODIFIER\": \"(p312) \",\n",
      "    \"PYTHONIOENCODING\": \"utf-8\",\n",
      "    \"CONDA_DEFAULT_ENV\": \"p312\",\n",
      "    \"PYDEVD_IPYTHON_COMPATIBLE_DEBUGGING\": \"1\",\n",
      "    \"PYDEVD_USE_FRAME_EVAL\": \"NO\",\n",
      "    \"CLICOLOR\": \"1\",\n",
      "    \"FORCE_COLOR\": \"1\",\n",
      "    \"CLICOLOR_FORCE\": \"1\",\n",
      "    \"PAGER\": \"cat\",\n",
      "    \"GIT_PAGER\": \"cat\",\n",
      "    \"MPLBACKEND\": \"module://matplotlib_inline.backend_inline\"\n",
      "}\n"
     ]
    }
   ],
   "source": [
    "import os\n",
    "import json\n",
    "\n",
    "print(json.dumps({k:v for k, v in os.environ.items()}, indent=4))"
   ]
  }
 ],
 "metadata": {
  "kernelspec": {
   "display_name": "p312",
   "language": "python",
   "name": "python3"
  },
  "language_info": {
   "codemirror_mode": {
    "name": "ipython",
    "version": 3
   },
   "file_extension": ".py",
   "mimetype": "text/x-python",
   "name": "python",
   "nbconvert_exporter": "python",
   "pygments_lexer": "ipython3",
   "version": "3.12.2"
  }
 },
 "nbformat": 4,
 "nbformat_minor": 2
}
