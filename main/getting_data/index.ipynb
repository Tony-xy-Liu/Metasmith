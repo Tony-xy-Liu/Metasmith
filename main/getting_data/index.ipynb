{
 "cells": [
  {
   "cell_type": "code",
   "execution_count": 4,
   "metadata": {},
   "outputs": [],
   "source": [
    "from pathlib import Path\n",
    "from metasmith.sql import Database"
   ]
  },
  {
   "cell_type": "code",
   "execution_count": 5,
   "metadata": {},
   "outputs": [],
   "source": [
    "Path(\"./cache\").mkdir(exist_ok=True)\n",
    "db = Database(\"./cache/test_index\")"
   ]
  },
  {
   "cell_type": "code",
   "execution_count": null,
   "metadata": {},
   "outputs": [],
   "source": [
    "db.info"
   ]
  },
  {
   "cell_type": "code",
   "execution_count": 14,
   "metadata": {},
   "outputs": [
    {
     "ename": "IntegrityError",
     "evalue": "UNIQUE constraint failed: info.key",
     "output_type": "error",
     "traceback": [
      "\u001b[0;31m---------------------------------------------------------------------------\u001b[0m",
      "\u001b[0;31mIntegrityError\u001b[0m                            Traceback (most recent call last)",
      "\u001b[1;32m/home/tony/workspace/tools/Metasmith/main/getting_data/index.ipynb Cell 3\u001b[0m line \u001b[0;36m1\n\u001b[0;32m----> <a href='vscode-notebook-cell://wsl%2Bubuntu/home/tony/workspace/tools/Metasmith/main/getting_data/index.ipynb#W2sdnNjb2RlLXJlbW90ZQ%3D%3D?line=0'>1</a>\u001b[0m db\u001b[39m.\u001b[39;49minfo\u001b[39m.\u001b[39;49m_insert_many(\u001b[39mdict\u001b[39;49m(\n\u001b[1;32m      <a href='vscode-notebook-cell://wsl%2Bubuntu/home/tony/workspace/tools/Metasmith/main/getting_data/index.ipynb#W2sdnNjb2RlLXJlbW90ZQ%3D%3D?line=1'>2</a>\u001b[0m     name\u001b[39m=\u001b[39;49m\u001b[39m\"\u001b[39;49m\u001b[39mtest_index\u001b[39;49m\u001b[39m\"\u001b[39;49m,\n\u001b[1;32m      <a href='vscode-notebook-cell://wsl%2Bubuntu/home/tony/workspace/tools/Metasmith/main/getting_data/index.ipynb#W2sdnNjb2RlLXJlbW90ZQ%3D%3D?line=2'>3</a>\u001b[0m     schema\u001b[39m=\u001b[39;49m\u001b[39m\"\u001b[39;49m\u001b[39m0.1.dev\u001b[39;49m\u001b[39m\"\u001b[39;49m\n\u001b[1;32m      <a href='vscode-notebook-cell://wsl%2Bubuntu/home/tony/workspace/tools/Metasmith/main/getting_data/index.ipynb#W2sdnNjb2RlLXJlbW90ZQ%3D%3D?line=3'>4</a>\u001b[0m )\u001b[39m.\u001b[39;49mitems())\n",
      "File \u001b[0;32m~/workspace/tools/Metasmith/src/metasmith/sql.py:177\u001b[0m, in \u001b[0;36mTable._insert_many\u001b[0;34m(self, values)\u001b[0m\n\u001b[1;32m    176\u001b[0m \u001b[39mdef\u001b[39;00m \u001b[39m_insert_many\u001b[39m(\u001b[39mself\u001b[39m, values:\u001b[39mlist\u001b[39m[\u001b[39mtuple\u001b[39m]):\n\u001b[0;32m--> 177\u001b[0m     \u001b[39mself\u001b[39;49m\u001b[39m.\u001b[39;49m_insert_helper(\u001b[39mself\u001b[39;49m\u001b[39m.\u001b[39;49m_cur\u001b[39m.\u001b[39;49mexecutemany, values)\n",
      "File \u001b[0;32m~/workspace/tools/Metasmith/src/metasmith/sql.py:167\u001b[0m, in \u001b[0;36mTable._insert_helper\u001b[0;34m(self, fn, values)\u001b[0m\n\u001b[1;32m    166\u001b[0m \u001b[39mdef\u001b[39;00m \u001b[39m_insert_helper\u001b[39m(\u001b[39mself\u001b[39m, fn, values):\n\u001b[0;32m--> 167\u001b[0m     fn(\u001b[39mF\u001b[39;49m\u001b[39m'''\u001b[39;49m\u001b[39mINSERT INTO \u001b[39;49m\u001b[39m{\u001b[39;49;00m\u001b[39mself\u001b[39;49m\u001b[39m.\u001b[39;49mname\u001b[39m}\u001b[39;49;00m\u001b[39m \u001b[39;49m\n\u001b[1;32m    168\u001b[0m \u001b[39m        (\u001b[39;49m\u001b[39m{\u001b[39;49;00m\u001b[39m'\u001b[39;49m\u001b[39m,\u001b[39;49m\u001b[39m'\u001b[39;49m\u001b[39m.\u001b[39;49mjoin([f\u001b[39m.\u001b[39;49mname\u001b[39m \u001b[39;49m\u001b[39mfor\u001b[39;49;00m\u001b[39m \u001b[39;49mf\u001b[39m \u001b[39;49m\u001b[39min\u001b[39;49;00m\u001b[39m \u001b[39;49m\u001b[39mself\u001b[39;49m\u001b[39m.\u001b[39;49mfields\u001b[39m.\u001b[39;49mvalues()])\u001b[39m}\u001b[39;49;00m\u001b[39m)\u001b[39;49m\n\u001b[1;32m    169\u001b[0m \u001b[39m        VALUES (\u001b[39;49m\u001b[39m{\u001b[39;49;00m\u001b[39m'\u001b[39;49m\u001b[39m,\u001b[39;49m\u001b[39m'\u001b[39;49m\u001b[39m.\u001b[39;49mjoin([\u001b[39m'\u001b[39;49m\u001b[39m?\u001b[39;49m\u001b[39m'\u001b[39;49m\u001b[39m \u001b[39;49m\u001b[39mfor\u001b[39;49;00m\u001b[39m \u001b[39;49mf\u001b[39m \u001b[39;49m\u001b[39min\u001b[39;49;00m\u001b[39m \u001b[39;49m\u001b[39mself\u001b[39;49m\u001b[39m.\u001b[39;49mfields\u001b[39m.\u001b[39;49mvalues()])\u001b[39m}\u001b[39;49;00m\u001b[39m)\u001b[39;49m\n\u001b[1;32m    170\u001b[0m \u001b[39m        \u001b[39;49m\u001b[39m'''\u001b[39;49m, values)\n",
      "\u001b[0;31mIntegrityError\u001b[0m: UNIQUE constraint failed: info.key"
     ]
    }
   ],
   "source": [
    "# db.info._insert_many(dict(\n",
    "#     name=\"test_index\",\n",
    "#     schema=\"0.1.dev\"\n",
    "# ).items())"
   ]
  },
  {
   "cell_type": "code",
   "execution_count": 16,
   "metadata": {},
   "outputs": [
    {
     "data": {
      "text/plain": [
       "{'name': 'test_index', 'schema': '0.1.dev'}"
      ]
     },
     "execution_count": 16,
     "metadata": {},
     "output_type": "execute_result"
    }
   ],
   "source": [
    "db.AttachTable(\"artifacts\", )"
   ]
  }
 ],
 "metadata": {
  "kernelspec": {
   "display_name": "p312",
   "language": "python",
   "name": "python3"
  },
  "language_info": {
   "codemirror_mode": {
    "name": "ipython",
    "version": 3
   },
   "file_extension": ".py",
   "mimetype": "text/x-python",
   "name": "python",
   "nbconvert_exporter": "python",
   "pygments_lexer": "ipython3",
   "version": "3.12.2"
  }
 },
 "nbformat": 4,
 "nbformat_minor": 2
}
