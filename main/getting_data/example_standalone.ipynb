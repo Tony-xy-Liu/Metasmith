{
 "cells": [
  {
   "cell_type": "markdown",
   "metadata": {},
   "source": [
    "actually useful"
   ]
  },
  {
   "cell_type": "code",
   "execution_count": 2,
   "metadata": {},
   "outputs": [],
   "source": [
    "from metasmith.models.libraries import *"
   ]
  },
  {
   "cell_type": "code",
   "execution_count": 6,
   "metadata": {},
   "outputs": [
    {
     "name": "stdout",
     "output_type": "stream",
     "text": [
      "globus ls d1a7342b-d617-41fd-ac35-78314916dc20:/Fosmids/abundance_tables/Beaver_fosmids | grep count >index.counts.txt\n"
     ]
    }
   ],
   "source": [
    "x = GlobusSource.Parse(\"https://app.globus.org/file-manager?origin_id=d1a7342b-d617-41fd-ac35-78314916dc20&origin_path=%2FFosmids%2Fabundance_tables%2FBeaver_fosmids%2F\")\n",
    "print(f\"globus ls {x.endpoint}:{x.path} | grep count >index.counts.txt\")"
   ]
  },
  {
   "cell_type": "code",
   "execution_count": null,
   "metadata": {},
   "outputs": [],
   "source": [
    "tmpdb = DataInstanceLibrary()\n",
    "groot = Path(\"/Fosmids/abundance_tables\")\n",
    "lroot = Path(\"/home/tony/workspace/projects/lignin_screen/data/beaver/abundance_tables\")\n",
    "\n",
    "with open(lroot/\"index.counts.txt\") as f:\n",
    "    for i, l in enumerate(f):\n",
    "        l = l[:-1]\n",
    "        tmpdb.Add(\n",
    "            name=f\"{i:02}\",\n",
    "            source=GlobusSource(\n",
    "                endpoint=\"d1a7342b-d617-41fd-ac35-78314916dc20\",\n",
    "                path=groot/l,\n",
    "            ).AsSource(),\n",
    "            type=Endpoint({\"file\"}),\n",
    "        )\n",
    "\n",
    "tmpdb.Move(\n",
    "    Source(\n",
    "        address=lroot,\n",
    "        type = SourceType.DIRECT,\n",
    "    )\n",
    ")"
   ]
  }
 ],
 "metadata": {
  "kernelspec": {
   "display_name": "p312",
   "language": "python",
   "name": "python3"
  },
  "language_info": {
   "codemirror_mode": {
    "name": "ipython",
    "version": 3
   },
   "file_extension": ".py",
   "mimetype": "text/x-python",
   "name": "python",
   "nbconvert_exporter": "python",
   "pygments_lexer": "ipython3",
   "version": "3.12.2"
  }
 },
 "nbformat": 4,
 "nbformat_minor": 2
}
